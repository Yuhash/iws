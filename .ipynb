{
 "cells": [
  {
   "cell_type": "markdown",
   "metadata": {},
   "source": [
    "TEST TEST TEST\n",
    "\n",
    "# Evaluating Environmental Predictors of Breeding Waterfowl Populations in the Central Interior Plateau of British Columbia \n",
    "\n",
    "## Adventures in machine-learning and regression-based approaches in modeling species distributions\n",
    "![image](overview_survey_area_extent.png)\n"
   ]
  },
  {
   "cell_type": "markdown",
   "metadata": {},
   "source": [
    "### Overview - General Steps\n",
    "1. Question - What is the distribution of species within the survey area? \n",
    "    * Identify main drivers\n",
    "    * Identify areas of interest\n",
    "    * Inform conservation planning\n",
    "2. Data exploration and data wrangling\n",
    "3. Identify analysis methods and tools\n",
    "4. Perform analysis\n",
    "5. Examine and refine\n",
    "\n",
    "\n",
    "<a href=\"https://community.esri.com/groups/esri-training/blog/2018/10/19/use-the-five-step-gis-analysis-process\"> <font size = -2>Modified from ESRI 5-Step GIS Analysis Process</font></a>\n"
   ]
  },
  {
   "cell_type": "markdown",
   "metadata": {
    "hide_input": false
   },
   "source": [
    "<style type=\"text/css\">\n",
    ".input_hidden{\n",
    "    display: none\n",
    "</style>"
   ]
  },
  {
   "cell_type": "markdown",
   "metadata": {
    "hide_input": true,
    "tags": [
     "hide_input"
    ]
   },
   "source": [
    "<style type=\"text/css\"> # CSS hack to hide the cell input\n",
    ".input_hidden{\n",
    "    display: none\n",
    "\n",
    "\n",
    "Issues tracking:\n",
    "\n",
    "1. IRKernel loading packages from later version of R (3.5.3 instead of 3.5.1) - must change kernel spec as described here: https://github.com/IRkernel/IRkernel/issues/183\n",
    "\n",
    "\n",
    "2. jupyterlab extension to close cells * requires installation of nodejs and npm \n",
    "    conda install nodejs\n",
    "    conda install npm \n",
    "   \n",
    "    - required update of pip\n",
    "    - which required adding forge channel first:\n",
    "        conda config --add channels conda-forge \n",
    "        conda update pip\n",
    "     now\n",
    "        conda install nodejs\n",
    "        conda install npm\n",
    "     but required update of core-js with \n",
    "         npm install --save core-js@^3\n",
    "     \n",
    "     then follow: https://jupyter-contrib-nbextensions.readthedocs.io/en/latest/install.html and run\n",
    "         conda install -c conda-forge jupyter_contrib_nbextensions\n",
    "     then \n",
    "         jupyter contrib nbextension install --sys-prefix # for system wide esp. useful in virtual env\n",
    "     then enable the path but first list available Jupyter paths \n",
    "         jupyter --paths\n",
    "\n",
    "     Check jupyterlab extensions with \n",
    "        jupyter nbextension list\n",
    "    \n",
    "    }\n",
    "</style>\n"
   ]
  },
  {
   "cell_type": "code",
   "execution_count": 4,
   "metadata": {
    "code_folding": [],
    "hide_input": false
   },
   "outputs": [
    {
     "data": {
      "text/plain": [
       "               _                           \n",
       "platform       x86_64-w64-mingw32          \n",
       "arch           x86_64                      \n",
       "os             mingw32                     \n",
       "system         x86_64, mingw32             \n",
       "status                                     \n",
       "major          3                           \n",
       "minor          5.1                         \n",
       "year           2018                        \n",
       "month          07                          \n",
       "day            02                          \n",
       "svn rev        74947                       \n",
       "language       R                           \n",
       "version.string R version 3.5.1 (2018-07-02)\n",
       "nickname       Feather Spray               "
      ]
     },
     "metadata": {},
     "output_type": "display_data"
    },
    {
     "name": "stderr",
     "output_type": "stream",
     "text": [
      "Loading required package: gganimate\n",
      "Warning message:\n",
      "\"package 'gganimate' was built under R version 3.5.3\"Loading required package: RColorBrewer\n",
      "Warning message:\n",
      "\"package 'RColorBrewer' was built under R version 3.5.2\"Loading required package: reshape2\n",
      "\n",
      "Attaching package: 'reshape2'\n",
      "\n",
      "The following object is masked from 'package:tidyr':\n",
      "\n",
      "    smiths\n",
      "\n"
     ]
    },
    {
     "data": {
      "text/html": [
       "<ol>\n",
       "\t<li>TRUE</li>\n",
       "\t<li>TRUE</li>\n",
       "\t<li>TRUE</li>\n",
       "\t<li>TRUE</li>\n",
       "\t<li>TRUE</li>\n",
       "\t<li>TRUE</li>\n",
       "\t<li>TRUE</li>\n",
       "\t<li>TRUE</li>\n",
       "\t<li>TRUE</li>\n",
       "</ol>\n"
      ],
      "text/latex": [
       "\\begin{enumerate}\n",
       "\\item TRUE\n",
       "\\item TRUE\n",
       "\\item TRUE\n",
       "\\item TRUE\n",
       "\\item TRUE\n",
       "\\item TRUE\n",
       "\\item TRUE\n",
       "\\item TRUE\n",
       "\\item TRUE\n",
       "\\end{enumerate}\n"
      ],
      "text/markdown": [
       "1. TRUE\n",
       "2. TRUE\n",
       "3. TRUE\n",
       "4. TRUE\n",
       "5. TRUE\n",
       "6. TRUE\n",
       "7. TRUE\n",
       "8. TRUE\n",
       "9. TRUE\n",
       "\n",
       "\n"
      ],
      "text/plain": [
       "[[1]]\n",
       "[1] TRUE\n",
       "\n",
       "[[2]]\n",
       "[1] TRUE\n",
       "\n",
       "[[3]]\n",
       "[1] TRUE\n",
       "\n",
       "[[4]]\n",
       "[1] TRUE\n",
       "\n",
       "[[5]]\n",
       "[1] TRUE\n",
       "\n",
       "[[6]]\n",
       "[1] TRUE\n",
       "\n",
       "[[7]]\n",
       "[1] TRUE\n",
       "\n",
       "[[8]]\n",
       "[1] TRUE\n",
       "\n",
       "[[9]]\n",
       "[1] TRUE\n"
      ]
     },
     "metadata": {},
     "output_type": "display_data"
    }
   ],
   "source": [
    "# Housekeeping - manage packages \n",
    "version\n",
    "Packages <- c(\"dplyr\", \"stringr\", \"ggplot2\", \"gganimate\", \"RColorBrewer\", \"reshape2\", \"gridExtra\", \"tidyverse\",\n",
    "             \"repr\", \"knitr\")\n",
    "# # Install packages if not installed \n",
    "# if (!require(\"pacman\")) install.packages(\"pacman\")\n",
    "#     pacman::p_load(Packages)\n",
    "\n",
    "lapply(Packages, require, character.only=TRUE)\n",
    "(.packages)() # List loaded packages"
   ]
  },
  {
   "cell_type": "markdown",
   "metadata": {
    "hide_input": false
   },
   "source": [
    "Here is a look at the survey data--the head and tail views of the data frame."
   ]
  },
  {
   "cell_type": "code",
   "execution_count": 37,
   "metadata": {
    "hide_input": false
   },
   "outputs": [
    {
     "data": {
      "text/html": [
       "<table>\n",
       "<caption>A data.frame: 6 × 34</caption>\n",
       "<thead>\n",
       "\t<tr><th scope=col>date_</th><th scope=col>year_</th><th scope=col>month_</th><th scope=col>day_</th><th scope=col>lon</th><th scope=col>lat</th><th scope=col>species</th><th scope=col>x_alb</th><th scope=col>y_alb</th><th scope=col>sp_name</th><th scope=col>...</th><th scope=col>eco</th><th scope=col>trans_id</th><th scope=col>Ecosection_2pt1</th><th scope=col>prev_trans</th><th scope=col>Ecosection_1995</th><th scope=col>unknown_BoN_combo</th><th scope=col>Total_Count</th><th scope=col>Total_IBP_Formula</th><th scope=col>Total_Count_Formula</th><th scope=col>pop</th></tr>\n",
       "\t<tr><th scope=col>&lt;int&gt;</th><th scope=col>&lt;int&gt;</th><th scope=col>&lt;int&gt;</th><th scope=col>&lt;int&gt;</th><th scope=col>&lt;dbl&gt;</th><th scope=col>&lt;dbl&gt;</th><th scope=col>&lt;fct&gt;</th><th scope=col>&lt;dbl&gt;</th><th scope=col>&lt;dbl&gt;</th><th scope=col>&lt;fct&gt;</th><th scope=col>...</th><th scope=col>&lt;fct&gt;</th><th scope=col>&lt;int&gt;</th><th scope=col>&lt;fct&gt;</th><th scope=col>&lt;fct&gt;</th><th scope=col>&lt;fct&gt;</th><th scope=col>&lt;int&gt;</th><th scope=col>&lt;int&gt;</th><th scope=col>&lt;fct&gt;</th><th scope=col>&lt;fct&gt;</th><th scope=col>&lt;int&gt;</th></tr>\n",
       "</thead>\n",
       "<tbody>\n",
       "\t<tr><td>39209</td><td>2007</td><td>5</td><td> 7</td><td>-122.8230</td><td>53.30426</td><td>CAGO</td><td>1211186</td><td> 926711.1</td><td>Canada Goose     </td><td>...</td><td>QUL</td><td>16</td><td>Quesnel Lowland</td><td>B07</td><td>Quesnel Lowland</td><td>1</td><td>1</td><td>2* [pair]+ [unknownSex]                                 </td><td>Total_IBP+ [mixed_m] + [mixed_f]</td><td>1</td></tr>\n",
       "\t<tr><td>39211</td><td>2007</td><td>5</td><td> 9</td><td>-122.6088</td><td>53.01350</td><td>AMWI</td><td>1226964</td><td> 894968.8</td><td>American Wigeon  </td><td>...</td><td>QUL</td><td>14</td><td>Quesnel Lowland</td><td>B09</td><td>Quesnel Lowland</td><td>0</td><td>9</td><td>2*[lone_m] +2* [pair] + 2* [m2]*2 +2* [m3]*3 + 2* [m4]*4</td><td>Total_IBP+ [mixed_m] + [mixed_f]</td><td>6</td></tr>\n",
       "\t<tr><td>39211</td><td>2007</td><td>5</td><td> 9</td><td>-122.6088</td><td>53.01350</td><td>CAGO</td><td>1226964</td><td> 894968.8</td><td>Canada Goose     </td><td>...</td><td>QUL</td><td>14</td><td>Quesnel Lowland</td><td>B09</td><td>Quesnel Lowland</td><td>1</td><td>1</td><td>2* [pair]+ [unknownSex]                                 </td><td>Total_IBP+ [mixed_m] + [mixed_f]</td><td>1</td></tr>\n",
       "\t<tr><td>39211</td><td>2007</td><td>5</td><td> 9</td><td>-122.6088</td><td>53.01350</td><td>GWTE</td><td>1226964</td><td> 894968.8</td><td>Green-winged Teal</td><td>...</td><td>QUL</td><td>14</td><td>Quesnel Lowland</td><td>B09</td><td>Quesnel Lowland</td><td>0</td><td>4</td><td>2*[lone_m] +2* [pair] + 2* [m2]*2 +2* [m3]*3 + 2* [m4]*4</td><td>Total_IBP+ [mixed_m] + [mixed_f]</td><td>4</td></tr>\n",
       "\t<tr><td>39211</td><td>2007</td><td>5</td><td> 9</td><td>-122.6088</td><td>53.01350</td><td>MALL</td><td>1226964</td><td> 894968.8</td><td>Mallard          </td><td>...</td><td>QUL</td><td>14</td><td>Quesnel Lowland</td><td>B09</td><td>Quesnel Lowland</td><td>0</td><td>6</td><td>2*[lone_m] +2* [pair] + 2* [m2]*2 +2* [m3]*3 + 2* [m4]*4</td><td>Total_IBP+ [mixed_m] + [mixed_f]</td><td>0</td></tr>\n",
       "\t<tr><td>39223</td><td>2007</td><td>5</td><td>21</td><td>-124.4701</td><td>54.31847</td><td>GWTE</td><td>1099279</td><td>1036228.4</td><td>Green-winged Teal</td><td>...</td><td>BAU</td><td>23</td><td>Babine Upland  </td><td>A10</td><td>Babine Upland  </td><td>0</td><td>2</td><td>2*[lone_m] +2* [pair] + 2* [m2]*2 +2* [m3]*3 + 2* [m4]*4</td><td>Total_IBP+ [mixed_m] + [mixed_f]</td><td>2</td></tr>\n",
       "</tbody>\n",
       "</table>\n"
      ],
      "text/latex": [
       "A data.frame: 6 × 34\n",
       "\\begin{tabular}{r|llllllllllllllllllllllllllllllllll}\n",
       " date\\_ & year\\_ & month\\_ & day\\_ & lon & lat & species & x\\_alb & y\\_alb & sp\\_name & sp\\_group & sp\\_id & birdOnNest & pair & unknownSex & lone\\_m & mixed\\_m & m2 & m3 & m4 & lone\\_f & mixed\\_f & imm\\_m & imm\\_f & eco & trans\\_id & Ecosection\\_2pt1 & prev\\_trans & Ecosection\\_1995 & unknown\\_BoN\\_combo & Total\\_Count & Total\\_IBP\\_Formula & Total\\_Count\\_Formula & pop\\\\\n",
       " <int> & <int> & <int> & <int> & <dbl> & <dbl> & <fct> & <dbl> & <dbl> & <fct> & <fct> & <fct> & <int> & <int> & <int> & <int> & <int> & <int> & <int> & <int> & <int> & <int> & <int> & <int> & <fct> & <int> & <fct> & <fct> & <fct> & <int> & <int> & <fct> & <fct> & <int>\\\\\n",
       "\\hline\n",
       "\t 39209 & 2007 & 5 &  7 & -122.8230 & 53.30426 & CAGO & 1211186 &  926711.1 & Canada Goose      & Geese    & CAGO & 0 & 0 & 1 & 0 & 0 & 0 & 0 & 0 & 0 & 0 & 0 & 0 & QUL & 16 & Quesnel Lowland & B07 & Quesnel Lowland & 1 & 1 & 2* {[}pair{]}+ {[}unknownSex{]}                                  & Total\\_IBP+ {[}mixed\\_m{]} + {[}mixed\\_f{]} & 1\\\\\n",
       "\t 39211 & 2007 & 5 &  9 & -122.6088 & 53.01350 & AMWI & 1226964 &  894968.8 & American Wigeon   & Dabblers & AMWI & 0 & 3 & 0 & 0 & 3 & 0 & 0 & 0 & 0 & 0 & 0 & 0 & QUL & 14 & Quesnel Lowland & B09 & Quesnel Lowland & 0 & 9 & 2*{[}lone\\_m{]} +2* {[}pair{]} + 2* {[}m2{]}*2 +2* {[}m3{]}*3 + 2* {[}m4{]}*4 & Total\\_IBP+ {[}mixed\\_m{]} + {[}mixed\\_f{]} & 6\\\\\n",
       "\t 39211 & 2007 & 5 &  9 & -122.6088 & 53.01350 & CAGO & 1226964 &  894968.8 & Canada Goose      & Geese    & CAGO & 0 & 0 & 1 & 0 & 0 & 0 & 0 & 0 & 0 & 0 & 0 & 0 & QUL & 14 & Quesnel Lowland & B09 & Quesnel Lowland & 1 & 1 & 2* {[}pair{]}+ {[}unknownSex{]}                                  & Total\\_IBP+ {[}mixed\\_m{]} + {[}mixed\\_f{]} & 1\\\\\n",
       "\t 39211 & 2007 & 5 &  9 & -122.6088 & 53.01350 & GWTE & 1226964 &  894968.8 & Green-winged Teal & Dabblers & GWTE & 0 & 2 & 0 & 0 & 0 & 0 & 0 & 0 & 0 & 0 & 0 & 0 & QUL & 14 & Quesnel Lowland & B09 & Quesnel Lowland & 0 & 4 & 2*{[}lone\\_m{]} +2* {[}pair{]} + 2* {[}m2{]}*2 +2* {[}m3{]}*3 + 2* {[}m4{]}*4 & Total\\_IBP+ {[}mixed\\_m{]} + {[}mixed\\_f{]} & 4\\\\\n",
       "\t 39211 & 2007 & 5 &  9 & -122.6088 & 53.01350 & MALL & 1226964 &  894968.8 & Mallard           & Dabblers & MALL & 0 & 0 & 0 & 0 & 4 & 0 & 0 & 0 & 0 & 2 & 0 & 0 & QUL & 14 & Quesnel Lowland & B09 & Quesnel Lowland & 0 & 6 & 2*{[}lone\\_m{]} +2* {[}pair{]} + 2* {[}m2{]}*2 +2* {[}m3{]}*3 + 2* {[}m4{]}*4 & Total\\_IBP+ {[}mixed\\_m{]} + {[}mixed\\_f{]} & 0\\\\\n",
       "\t 39223 & 2007 & 5 & 21 & -124.4701 & 54.31847 & GWTE & 1099279 & 1036228.4 & Green-winged Teal & Dabblers & GWTE & 0 & 1 & 0 & 0 & 0 & 0 & 0 & 0 & 0 & 0 & 0 & 0 & BAU & 23 & Babine Upland   & A10 & Babine Upland   & 0 & 2 & 2*{[}lone\\_m{]} +2* {[}pair{]} + 2* {[}m2{]}*2 +2* {[}m3{]}*3 + 2* {[}m4{]}*4 & Total\\_IBP+ {[}mixed\\_m{]} + {[}mixed\\_f{]} & 2\\\\\n",
       "\\end{tabular}\n"
      ],
      "text/markdown": [
       "\n",
       "A data.frame: 6 × 34\n",
       "\n",
       "| date_ &lt;int&gt; | year_ &lt;int&gt; | month_ &lt;int&gt; | day_ &lt;int&gt; | lon &lt;dbl&gt; | lat &lt;dbl&gt; | species &lt;fct&gt; | x_alb &lt;dbl&gt; | y_alb &lt;dbl&gt; | sp_name &lt;fct&gt; | ... ... | eco &lt;fct&gt; | trans_id &lt;int&gt; | Ecosection_2pt1 &lt;fct&gt; | prev_trans &lt;fct&gt; | Ecosection_1995 &lt;fct&gt; | unknown_BoN_combo &lt;int&gt; | Total_Count &lt;int&gt; | Total_IBP_Formula &lt;fct&gt; | Total_Count_Formula &lt;fct&gt; | pop &lt;int&gt; |\n",
       "|---|---|---|---|---|---|---|---|---|---|---|---|---|---|---|---|---|---|---|---|---|\n",
       "| 39209 | 2007 | 5 |  7 | -122.8230 | 53.30426 | CAGO | 1211186 |  926711.1 | Canada Goose      | ... | QUL | 16 | Quesnel Lowland | B07 | Quesnel Lowland | 1 | 1 | 2* [pair]+ [unknownSex]                                  | Total_IBP+ [mixed_m] + [mixed_f] | 1 |\n",
       "| 39211 | 2007 | 5 |  9 | -122.6088 | 53.01350 | AMWI | 1226964 |  894968.8 | American Wigeon   | ... | QUL | 14 | Quesnel Lowland | B09 | Quesnel Lowland | 0 | 9 | 2*[lone_m] +2* [pair] + 2* [m2]*2 +2* [m3]*3 + 2* [m4]*4 | Total_IBP+ [mixed_m] + [mixed_f] | 6 |\n",
       "| 39211 | 2007 | 5 |  9 | -122.6088 | 53.01350 | CAGO | 1226964 |  894968.8 | Canada Goose      | ... | QUL | 14 | Quesnel Lowland | B09 | Quesnel Lowland | 1 | 1 | 2* [pair]+ [unknownSex]                                  | Total_IBP+ [mixed_m] + [mixed_f] | 1 |\n",
       "| 39211 | 2007 | 5 |  9 | -122.6088 | 53.01350 | GWTE | 1226964 |  894968.8 | Green-winged Teal | ... | QUL | 14 | Quesnel Lowland | B09 | Quesnel Lowland | 0 | 4 | 2*[lone_m] +2* [pair] + 2* [m2]*2 +2* [m3]*3 + 2* [m4]*4 | Total_IBP+ [mixed_m] + [mixed_f] | 4 |\n",
       "| 39211 | 2007 | 5 |  9 | -122.6088 | 53.01350 | MALL | 1226964 |  894968.8 | Mallard           | ... | QUL | 14 | Quesnel Lowland | B09 | Quesnel Lowland | 0 | 6 | 2*[lone_m] +2* [pair] + 2* [m2]*2 +2* [m3]*3 + 2* [m4]*4 | Total_IBP+ [mixed_m] + [mixed_f] | 0 |\n",
       "| 39223 | 2007 | 5 | 21 | -124.4701 | 54.31847 | GWTE | 1099279 | 1036228.4 | Green-winged Teal | ... | BAU | 23 | Babine Upland   | A10 | Babine Upland   | 0 | 2 | 2*[lone_m] +2* [pair] + 2* [m2]*2 +2* [m3]*3 + 2* [m4]*4 | Total_IBP+ [mixed_m] + [mixed_f] | 2 |\n",
       "\n"
      ],
      "text/plain": [
       "  date_ year_ month_ day_ lon       lat      species x_alb   y_alb    \n",
       "1 39209 2007  5       7   -122.8230 53.30426 CAGO    1211186  926711.1\n",
       "2 39211 2007  5       9   -122.6088 53.01350 AMWI    1226964  894968.8\n",
       "3 39211 2007  5       9   -122.6088 53.01350 CAGO    1226964  894968.8\n",
       "4 39211 2007  5       9   -122.6088 53.01350 GWTE    1226964  894968.8\n",
       "5 39211 2007  5       9   -122.6088 53.01350 MALL    1226964  894968.8\n",
       "6 39223 2007  5      21   -124.4701 54.31847 GWTE    1099279 1036228.4\n",
       "  sp_name           ... eco trans_id Ecosection_2pt1 prev_trans Ecosection_1995\n",
       "1 Canada Goose      ... QUL 16       Quesnel Lowland B07        Quesnel Lowland\n",
       "2 American Wigeon   ... QUL 14       Quesnel Lowland B09        Quesnel Lowland\n",
       "3 Canada Goose      ... QUL 14       Quesnel Lowland B09        Quesnel Lowland\n",
       "4 Green-winged Teal ... QUL 14       Quesnel Lowland B09        Quesnel Lowland\n",
       "5 Mallard           ... QUL 14       Quesnel Lowland B09        Quesnel Lowland\n",
       "6 Green-winged Teal ... BAU 23       Babine Upland   A10        Babine Upland  \n",
       "  unknown_BoN_combo Total_Count\n",
       "1 1                 1          \n",
       "2 0                 9          \n",
       "3 1                 1          \n",
       "4 0                 4          \n",
       "5 0                 6          \n",
       "6 0                 2          \n",
       "  Total_IBP_Formula                                       \n",
       "1 2* [pair]+ [unknownSex]                                 \n",
       "2 2*[lone_m] +2* [pair] + 2* [m2]*2 +2* [m3]*3 + 2* [m4]*4\n",
       "3 2* [pair]+ [unknownSex]                                 \n",
       "4 2*[lone_m] +2* [pair] + 2* [m2]*2 +2* [m3]*3 + 2* [m4]*4\n",
       "5 2*[lone_m] +2* [pair] + 2* [m2]*2 +2* [m3]*3 + 2* [m4]*4\n",
       "6 2*[lone_m] +2* [pair] + 2* [m2]*2 +2* [m3]*3 + 2* [m4]*4\n",
       "  Total_Count_Formula              pop\n",
       "1 Total_IBP+ [mixed_m] + [mixed_f] 1  \n",
       "2 Total_IBP+ [mixed_m] + [mixed_f] 6  \n",
       "3 Total_IBP+ [mixed_m] + [mixed_f] 1  \n",
       "4 Total_IBP+ [mixed_m] + [mixed_f] 4  \n",
       "5 Total_IBP+ [mixed_m] + [mixed_f] 0  \n",
       "6 Total_IBP+ [mixed_m] + [mixed_f] 2  "
      ]
     },
     "metadata": {},
     "output_type": "display_data"
    },
    {
     "data": {
      "text/html": [
       "<table>\n",
       "<caption>A data.frame: 6 × 34</caption>\n",
       "<thead>\n",
       "\t<tr><th></th><th scope=col>date_</th><th scope=col>year_</th><th scope=col>month_</th><th scope=col>day_</th><th scope=col>lon</th><th scope=col>lat</th><th scope=col>species</th><th scope=col>x_alb</th><th scope=col>y_alb</th><th scope=col>sp_name</th><th scope=col>...</th><th scope=col>eco</th><th scope=col>trans_id</th><th scope=col>Ecosection_2pt1</th><th scope=col>prev_trans</th><th scope=col>Ecosection_1995</th><th scope=col>unknown_BoN_combo</th><th scope=col>Total_Count</th><th scope=col>Total_IBP_Formula</th><th scope=col>Total_Count_Formula</th><th scope=col>pop</th></tr>\n",
       "\t<tr><th></th><th scope=col>&lt;int&gt;</th><th scope=col>&lt;int&gt;</th><th scope=col>&lt;int&gt;</th><th scope=col>&lt;int&gt;</th><th scope=col>&lt;dbl&gt;</th><th scope=col>&lt;dbl&gt;</th><th scope=col>&lt;fct&gt;</th><th scope=col>&lt;dbl&gt;</th><th scope=col>&lt;dbl&gt;</th><th scope=col>&lt;fct&gt;</th><th scope=col>...</th><th scope=col>&lt;fct&gt;</th><th scope=col>&lt;int&gt;</th><th scope=col>&lt;fct&gt;</th><th scope=col>&lt;fct&gt;</th><th scope=col>&lt;fct&gt;</th><th scope=col>&lt;int&gt;</th><th scope=col>&lt;int&gt;</th><th scope=col>&lt;fct&gt;</th><th scope=col>&lt;fct&gt;</th><th scope=col>&lt;int&gt;</th></tr>\n",
       "</thead>\n",
       "<tbody>\n",
       "\t<tr><th scope=row>32848</th><td>42866</td><td>2017</td><td>5</td><td>11</td><td>-124.3120</td><td>52.14455</td><td>GWTE</td><td>NA</td><td>NA</td><td>Green-Winged Teal</td><td>...</td><td>CHP</td><td>8</td><td>Chilcotin Plateau</td><td>C05</td><td>Chilcotin Plateau</td><td>0</td><td>2</td><td>2*[lone_m] +2* [pair] + 2* [m2]*2 +2* [m3]*3 + 2* [m4]*4</td><td>Total_IBP+ [mixed_m] + [mixed_f]</td><td>2</td></tr>\n",
       "\t<tr><th scope=row>32849</th><td>42866</td><td>2017</td><td>5</td><td>11</td><td>-124.3104</td><td>52.14597</td><td>RNDU</td><td>NA</td><td>NA</td><td>Ring-necked Duck </td><td>...</td><td>CHP</td><td>8</td><td>Chilcotin Plateau</td><td>C05</td><td>Chilcotin Plateau</td><td>0</td><td>1</td><td>1 * [lone_m] +2* [pair] + [m2]*2 + [m3]*3 + [m4]*4      </td><td>Total_IBP+ [mixed_m] + [mixed_f]</td><td>1</td></tr>\n",
       "\t<tr><th scope=row>32850</th><td>42866</td><td>2017</td><td>5</td><td>11</td><td>-124.3804</td><td>52.14530</td><td>NOSL</td><td>NA</td><td>NA</td><td>Northern Shoveler</td><td>...</td><td>CHP</td><td>8</td><td>Chilcotin Plateau</td><td>C05</td><td>Chilcotin Plateau</td><td>0</td><td>2</td><td>2*[lone_m] +2* [pair] + 2* [m2]*2 +2* [m3]*3 + 2* [m4]*4</td><td>Total_IBP+ [mixed_m] + [mixed_f]</td><td>2</td></tr>\n",
       "\t<tr><th scope=row>32851</th><td>42866</td><td>2017</td><td>5</td><td>11</td><td>-124.3804</td><td>52.14530</td><td>MALL</td><td>NA</td><td>NA</td><td>Mallard          </td><td>...</td><td>CHP</td><td>8</td><td>Chilcotin Plateau</td><td>C05</td><td>Chilcotin Plateau</td><td>0</td><td>2</td><td>2*[lone_m] +2* [pair] + 2* [m2]*2 +2* [m3]*3 + 2* [m4]*4</td><td>Total_IBP+ [mixed_m] + [mixed_f]</td><td>2</td></tr>\n",
       "\t<tr><th scope=row>32852</th><td>42866</td><td>2017</td><td>5</td><td>11</td><td>-124.3793</td><td>52.14648</td><td>GWTE</td><td>NA</td><td>NA</td><td>Green-Winged Teal</td><td>...</td><td>CHP</td><td>8</td><td>Chilcotin Plateau</td><td>C05</td><td>Chilcotin Plateau</td><td>0</td><td>2</td><td>2*[lone_m] +2* [pair] + 2* [m2]*2 +2* [m3]*3 + 2* [m4]*4</td><td>Total_IBP+ [mixed_m] + [mixed_f]</td><td>2</td></tr>\n",
       "\t<tr><th scope=row>32853</th><td>42866</td><td>2017</td><td>5</td><td>11</td><td>-124.3977</td><td>52.14375</td><td>MALL</td><td>NA</td><td>NA</td><td>Mallard          </td><td>...</td><td>CHP</td><td>8</td><td>Chilcotin Plateau</td><td>C05</td><td>Chilcotin Plateau</td><td>0</td><td>2</td><td>2*[lone_m] +2* [pair] + 2* [m2]*2 +2* [m3]*3 + 2* [m4]*4</td><td>Total_IBP+ [mixed_m] + [mixed_f]</td><td>2</td></tr>\n",
       "</tbody>\n",
       "</table>\n"
      ],
      "text/latex": [
       "A data.frame: 6 × 34\n",
       "\\begin{tabular}{r|llllllllllllllllllllllllllllllllll}\n",
       "  & date\\_ & year\\_ & month\\_ & day\\_ & lon & lat & species & x\\_alb & y\\_alb & sp\\_name & sp\\_group & sp\\_id & birdOnNest & pair & unknownSex & lone\\_m & mixed\\_m & m2 & m3 & m4 & lone\\_f & mixed\\_f & imm\\_m & imm\\_f & eco & trans\\_id & Ecosection\\_2pt1 & prev\\_trans & Ecosection\\_1995 & unknown\\_BoN\\_combo & Total\\_Count & Total\\_IBP\\_Formula & Total\\_Count\\_Formula & pop\\\\\n",
       "  & <int> & <int> & <int> & <int> & <dbl> & <dbl> & <fct> & <dbl> & <dbl> & <fct> & <fct> & <fct> & <int> & <int> & <int> & <int> & <int> & <int> & <int> & <int> & <int> & <int> & <int> & <int> & <fct> & <int> & <fct> & <fct> & <fct> & <int> & <int> & <fct> & <fct> & <int>\\\\\n",
       "\\hline\n",
       "\t32848 & 42866 & 2017 & 5 & 11 & -124.3120 & 52.14455 & GWTE & NA & NA & Green-Winged Teal & Dabblers & GWTE & 0 & 1 & 0 & 0 & 0 & 0 & 0 & 0 & 0 & 0 & 0 & 0 & CHP & 8 & Chilcotin Plateau & C05 & Chilcotin Plateau & 0 & 2 & 2*{[}lone\\_m{]} +2* {[}pair{]} + 2* {[}m2{]}*2 +2* {[}m3{]}*3 + 2* {[}m4{]}*4 & Total\\_IBP+ {[}mixed\\_m{]} + {[}mixed\\_f{]} & 2\\\\\n",
       "\t32849 & 42866 & 2017 & 5 & 11 & -124.3104 & 52.14597 & RNDU & NA & NA & Ring-necked Duck  & Divers   & RNDU & 0 & 0 & 0 & 1 & 0 & 0 & 0 & 0 & 0 & 0 & 0 & 0 & CHP & 8 & Chilcotin Plateau & C05 & Chilcotin Plateau & 0 & 1 & 1 * {[}lone\\_m{]} +2* {[}pair{]} + {[}m2{]}*2 + {[}m3{]}*3 + {[}m4{]}*4       & Total\\_IBP+ {[}mixed\\_m{]} + {[}mixed\\_f{]} & 1\\\\\n",
       "\t32850 & 42866 & 2017 & 5 & 11 & -124.3804 & 52.14530 & NOSL & NA & NA & Northern Shoveler & Dabblers & NSHO & 0 & 1 & 0 & 0 & 0 & 0 & 0 & 0 & 0 & 0 & 0 & 0 & CHP & 8 & Chilcotin Plateau & C05 & Chilcotin Plateau & 0 & 2 & 2*{[}lone\\_m{]} +2* {[}pair{]} + 2* {[}m2{]}*2 +2* {[}m3{]}*3 + 2* {[}m4{]}*4 & Total\\_IBP+ {[}mixed\\_m{]} + {[}mixed\\_f{]} & 2\\\\\n",
       "\t32851 & 42866 & 2017 & 5 & 11 & -124.3804 & 52.14530 & MALL & NA & NA & Mallard           & Dabblers & MALL & 0 & 0 & 0 & 1 & 0 & 0 & 0 & 0 & 0 & 0 & 0 & 0 & CHP & 8 & Chilcotin Plateau & C05 & Chilcotin Plateau & 0 & 2 & 2*{[}lone\\_m{]} +2* {[}pair{]} + 2* {[}m2{]}*2 +2* {[}m3{]}*3 + 2* {[}m4{]}*4 & Total\\_IBP+ {[}mixed\\_m{]} + {[}mixed\\_f{]} & 2\\\\\n",
       "\t32852 & 42866 & 2017 & 5 & 11 & -124.3793 & 52.14648 & GWTE & NA & NA & Green-Winged Teal & Dabblers & GWTE & 0 & 1 & 0 & 0 & 0 & 0 & 0 & 0 & 0 & 0 & 0 & 0 & CHP & 8 & Chilcotin Plateau & C05 & Chilcotin Plateau & 0 & 2 & 2*{[}lone\\_m{]} +2* {[}pair{]} + 2* {[}m2{]}*2 +2* {[}m3{]}*3 + 2* {[}m4{]}*4 & Total\\_IBP+ {[}mixed\\_m{]} + {[}mixed\\_f{]} & 2\\\\\n",
       "\t32853 & 42866 & 2017 & 5 & 11 & -124.3977 & 52.14375 & MALL & NA & NA & Mallard           & Dabblers & MALL & 0 & 0 & 0 & 1 & 0 & 0 & 0 & 0 & 0 & 0 & 0 & 0 & CHP & 8 & Chilcotin Plateau & C05 & Chilcotin Plateau & 0 & 2 & 2*{[}lone\\_m{]} +2* {[}pair{]} + 2* {[}m2{]}*2 +2* {[}m3{]}*3 + 2* {[}m4{]}*4 & Total\\_IBP+ {[}mixed\\_m{]} + {[}mixed\\_f{]} & 2\\\\\n",
       "\\end{tabular}\n"
      ],
      "text/markdown": [
       "\n",
       "A data.frame: 6 × 34\n",
       "\n",
       "| <!--/--> | date_ &lt;int&gt; | year_ &lt;int&gt; | month_ &lt;int&gt; | day_ &lt;int&gt; | lon &lt;dbl&gt; | lat &lt;dbl&gt; | species &lt;fct&gt; | x_alb &lt;dbl&gt; | y_alb &lt;dbl&gt; | sp_name &lt;fct&gt; | ... ... | eco &lt;fct&gt; | trans_id &lt;int&gt; | Ecosection_2pt1 &lt;fct&gt; | prev_trans &lt;fct&gt; | Ecosection_1995 &lt;fct&gt; | unknown_BoN_combo &lt;int&gt; | Total_Count &lt;int&gt; | Total_IBP_Formula &lt;fct&gt; | Total_Count_Formula &lt;fct&gt; | pop &lt;int&gt; |\n",
       "|---|---|---|---|---|---|---|---|---|---|---|---|---|---|---|---|---|---|---|---|---|---|\n",
       "| 32848 | 42866 | 2017 | 5 | 11 | -124.3120 | 52.14455 | GWTE | NA | NA | Green-Winged Teal | ... | CHP | 8 | Chilcotin Plateau | C05 | Chilcotin Plateau | 0 | 2 | 2*[lone_m] +2* [pair] + 2* [m2]*2 +2* [m3]*3 + 2* [m4]*4 | Total_IBP+ [mixed_m] + [mixed_f] | 2 |\n",
       "| 32849 | 42866 | 2017 | 5 | 11 | -124.3104 | 52.14597 | RNDU | NA | NA | Ring-necked Duck  | ... | CHP | 8 | Chilcotin Plateau | C05 | Chilcotin Plateau | 0 | 1 | 1 * [lone_m] +2* [pair] + [m2]*2 + [m3]*3 + [m4]*4       | Total_IBP+ [mixed_m] + [mixed_f] | 1 |\n",
       "| 32850 | 42866 | 2017 | 5 | 11 | -124.3804 | 52.14530 | NOSL | NA | NA | Northern Shoveler | ... | CHP | 8 | Chilcotin Plateau | C05 | Chilcotin Plateau | 0 | 2 | 2*[lone_m] +2* [pair] + 2* [m2]*2 +2* [m3]*3 + 2* [m4]*4 | Total_IBP+ [mixed_m] + [mixed_f] | 2 |\n",
       "| 32851 | 42866 | 2017 | 5 | 11 | -124.3804 | 52.14530 | MALL | NA | NA | Mallard           | ... | CHP | 8 | Chilcotin Plateau | C05 | Chilcotin Plateau | 0 | 2 | 2*[lone_m] +2* [pair] + 2* [m2]*2 +2* [m3]*3 + 2* [m4]*4 | Total_IBP+ [mixed_m] + [mixed_f] | 2 |\n",
       "| 32852 | 42866 | 2017 | 5 | 11 | -124.3793 | 52.14648 | GWTE | NA | NA | Green-Winged Teal | ... | CHP | 8 | Chilcotin Plateau | C05 | Chilcotin Plateau | 0 | 2 | 2*[lone_m] +2* [pair] + 2* [m2]*2 +2* [m3]*3 + 2* [m4]*4 | Total_IBP+ [mixed_m] + [mixed_f] | 2 |\n",
       "| 32853 | 42866 | 2017 | 5 | 11 | -124.3977 | 52.14375 | MALL | NA | NA | Mallard           | ... | CHP | 8 | Chilcotin Plateau | C05 | Chilcotin Plateau | 0 | 2 | 2*[lone_m] +2* [pair] + 2* [m2]*2 +2* [m3]*3 + 2* [m4]*4 | Total_IBP+ [mixed_m] + [mixed_f] | 2 |\n",
       "\n"
      ],
      "text/plain": [
       "      date_ year_ month_ day_ lon       lat      species x_alb y_alb\n",
       "32848 42866 2017  5      11   -124.3120 52.14455 GWTE    NA    NA   \n",
       "32849 42866 2017  5      11   -124.3104 52.14597 RNDU    NA    NA   \n",
       "32850 42866 2017  5      11   -124.3804 52.14530 NOSL    NA    NA   \n",
       "32851 42866 2017  5      11   -124.3804 52.14530 MALL    NA    NA   \n",
       "32852 42866 2017  5      11   -124.3793 52.14648 GWTE    NA    NA   \n",
       "32853 42866 2017  5      11   -124.3977 52.14375 MALL    NA    NA   \n",
       "      sp_name           ... eco trans_id Ecosection_2pt1   prev_trans\n",
       "32848 Green-Winged Teal ... CHP 8        Chilcotin Plateau C05       \n",
       "32849 Ring-necked Duck  ... CHP 8        Chilcotin Plateau C05       \n",
       "32850 Northern Shoveler ... CHP 8        Chilcotin Plateau C05       \n",
       "32851 Mallard           ... CHP 8        Chilcotin Plateau C05       \n",
       "32852 Green-Winged Teal ... CHP 8        Chilcotin Plateau C05       \n",
       "32853 Mallard           ... CHP 8        Chilcotin Plateau C05       \n",
       "      Ecosection_1995   unknown_BoN_combo Total_Count\n",
       "32848 Chilcotin Plateau 0                 2          \n",
       "32849 Chilcotin Plateau 0                 1          \n",
       "32850 Chilcotin Plateau 0                 2          \n",
       "32851 Chilcotin Plateau 0                 2          \n",
       "32852 Chilcotin Plateau 0                 2          \n",
       "32853 Chilcotin Plateau 0                 2          \n",
       "      Total_IBP_Formula                                       \n",
       "32848 2*[lone_m] +2* [pair] + 2* [m2]*2 +2* [m3]*3 + 2* [m4]*4\n",
       "32849 1 * [lone_m] +2* [pair] + [m2]*2 + [m3]*3 + [m4]*4      \n",
       "32850 2*[lone_m] +2* [pair] + 2* [m2]*2 +2* [m3]*3 + 2* [m4]*4\n",
       "32851 2*[lone_m] +2* [pair] + 2* [m2]*2 +2* [m3]*3 + 2* [m4]*4\n",
       "32852 2*[lone_m] +2* [pair] + 2* [m2]*2 +2* [m3]*3 + 2* [m4]*4\n",
       "32853 2*[lone_m] +2* [pair] + 2* [m2]*2 +2* [m3]*3 + 2* [m4]*4\n",
       "      Total_Count_Formula              pop\n",
       "32848 Total_IBP+ [mixed_m] + [mixed_f] 2  \n",
       "32849 Total_IBP+ [mixed_m] + [mixed_f] 1  \n",
       "32850 Total_IBP+ [mixed_m] + [mixed_f] 2  \n",
       "32851 Total_IBP+ [mixed_m] + [mixed_f] 2  \n",
       "32852 Total_IBP+ [mixed_m] + [mixed_f] 2  \n",
       "32853 Total_IBP+ [mixed_m] + [mixed_f] 2  "
      ]
     },
     "metadata": {},
     "output_type": "display_data"
    },
    {
     "data": {
      "text/html": [
       "32853"
      ],
      "text/latex": [
       "32853"
      ],
      "text/markdown": [
       "32853"
      ],
      "text/plain": [
       "[1] 32853"
      ]
     },
     "metadata": {},
     "output_type": "display_data"
    }
   ],
   "source": [
    "setwd(\"C:/Users/hashimotoy/Documents/MGIS/Documentation/Reports/Jupyter\")\n",
    "df <- read.csv(\"iws_pts_filtered_20190620.csv\" )\n",
    "\n",
    "head(df)\n",
    "tail(df)\n",
    "nrow(df)"
   ]
  },
  {
   "cell_type": "markdown",
   "metadata": {},
   "source": [
    "### Data Exploration - Species Observation Records"
   ]
  },
  {
   "cell_type": "code",
   "execution_count": 6,
   "metadata": {
    "hide_input": true
   },
   "outputs": [
    {
     "name": "stderr",
     "output_type": "stream",
     "text": [
      "Selecting by Population\n",
      "Selecting by Population\n",
      "Selecting by Population\n"
     ]
    },
    {
     "name": "stdout",
     "output_type": "stream",
     "text": [
      "[1] \"Total distinct species of waterfowl :  31\"\n",
      "\n",
      "5 MOST common species:\n"
     ]
    },
    {
     "data": {
      "text/html": [
       "<table>\n",
       "<caption>A tibble: 5 × 2</caption>\n",
       "<thead>\n",
       "\t<tr><th scope=col>sp_id</th><th scope=col>Population</th></tr>\n",
       "\t<tr><th scope=col>&lt;fct&gt;</th><th scope=col>&lt;int&gt;</th></tr>\n",
       "</thead>\n",
       "<tbody>\n",
       "\t<tr><td>MALL</td><td>18902</td></tr>\n",
       "\t<tr><td>RNDU</td><td>11079</td></tr>\n",
       "\t<tr><td>BUFF</td><td> 9672</td></tr>\n",
       "\t<tr><td>CAGO</td><td> 9578</td></tr>\n",
       "\t<tr><td>GWTE</td><td> 7608</td></tr>\n",
       "</tbody>\n",
       "</table>\n"
      ],
      "text/latex": [
       "A tibble: 5 × 2\n",
       "\\begin{tabular}{r|ll}\n",
       " sp\\_id & Population\\\\\n",
       " <fct> & <int>\\\\\n",
       "\\hline\n",
       "\t MALL & 18902\\\\\n",
       "\t RNDU & 11079\\\\\n",
       "\t BUFF &  9672\\\\\n",
       "\t CAGO &  9578\\\\\n",
       "\t GWTE &  7608\\\\\n",
       "\\end{tabular}\n"
      ],
      "text/markdown": [
       "\n",
       "A tibble: 5 × 2\n",
       "\n",
       "| sp_id &lt;fct&gt; | Population &lt;int&gt; |\n",
       "|---|---|\n",
       "| MALL | 18902 |\n",
       "| RNDU | 11079 |\n",
       "| BUFF |  9672 |\n",
       "| CAGO |  9578 |\n",
       "| GWTE |  7608 |\n",
       "\n"
      ],
      "text/plain": [
       "  sp_id Population\n",
       "1 MALL  18902     \n",
       "2 RNDU  11079     \n",
       "3 BUFF   9672     \n",
       "4 CAGO   9578     \n",
       "5 GWTE   7608     "
      ]
     },
     "metadata": {},
     "output_type": "display_data"
    },
    {
     "name": "stdout",
     "output_type": "stream",
     "text": [
      "\n",
      "5 LEAST common species:\n"
     ]
    },
    {
     "data": {
      "text/html": [
       "<table>\n",
       "<caption>A tibble: 5 × 2</caption>\n",
       "<thead>\n",
       "\t<tr><th scope=col>sp_id</th><th scope=col>Population</th></tr>\n",
       "\t<tr><th scope=col>&lt;fct&gt;</th><th scope=col>&lt;int&gt;</th></tr>\n",
       "</thead>\n",
       "<tbody>\n",
       "\t<tr><td>BLSC</td><td> 2</td></tr>\n",
       "\t<tr><td>EUWI</td><td> 2</td></tr>\n",
       "\t<tr><td>SWAN</td><td> 2</td></tr>\n",
       "\t<tr><td>HADU</td><td> 6</td></tr>\n",
       "\t<tr><td>SNGO</td><td>16</td></tr>\n",
       "</tbody>\n",
       "</table>\n"
      ],
      "text/latex": [
       "A tibble: 5 × 2\n",
       "\\begin{tabular}{r|ll}\n",
       " sp\\_id & Population\\\\\n",
       " <fct> & <int>\\\\\n",
       "\\hline\n",
       "\t BLSC &  2\\\\\n",
       "\t EUWI &  2\\\\\n",
       "\t SWAN &  2\\\\\n",
       "\t HADU &  6\\\\\n",
       "\t SNGO & 16\\\\\n",
       "\\end{tabular}\n"
      ],
      "text/markdown": [
       "\n",
       "A tibble: 5 × 2\n",
       "\n",
       "| sp_id &lt;fct&gt; | Population &lt;int&gt; |\n",
       "|---|---|\n",
       "| BLSC |  2 |\n",
       "| EUWI |  2 |\n",
       "| SWAN |  2 |\n",
       "| HADU |  6 |\n",
       "| SNGO | 16 |\n",
       "\n"
      ],
      "text/plain": [
       "  sp_id Population\n",
       "1 BLSC   2        \n",
       "2 EUWI   2        \n",
       "3 SWAN   2        \n",
       "4 HADU   6        \n",
       "5 SNGO  16        "
      ]
     },
     "metadata": {},
     "output_type": "display_data"
    }
   ],
   "source": [
    "n_sp <- unique(df$sp_id)\n",
    "\n",
    "sp <- df %>%\n",
    "    group_by(sp_id) %>%\n",
    "    summarise(Population = sum(pop))\n",
    "\n",
    "sp_top_5 <- sp %>%\n",
    "    arrange(desc(Population))%>%\n",
    "    top_n(5)\n",
    "\n",
    "sp_bot_5 <- sp %>%\n",
    "    arrange(Population)%>%\n",
    "    top_n(-5)\n",
    "\n",
    "sp_top_10 <- sp %>%\n",
    "    arrange(desc(Population))%>%\n",
    "    top_n(10)\n",
    "\n",
    "print(paste(\"Total distinct species of waterfowl : \",length(n_sp)))\n",
    "writeLines(\"\\n5 MOST common species:\")\n",
    "sp_top_5\n",
    "writeLines(\"\\n5 LEAST common species:\") \n",
    "sp_bot_5   \n",
    "\n"
   ]
  },
  {
   "cell_type": "markdown",
   "metadata": {},
   "source": [
    "What are the top 15 most common species? "
   ]
  },
  {
   "cell_type": "code",
   "execution_count": 7,
   "metadata": {
    "hide_input": true,
    "scrolled": false
   },
   "outputs": [
    {
     "name": "stderr",
     "output_type": "stream",
     "text": [
      "Selecting by Population\n"
     ]
    },
    {
     "data": {
      "image/png": "[encoded data removed]",
      "text/plain": [
       "plot without title"
      ]
     },
     "metadata": {},
     "output_type": "display_data"
    }
   ],
   "source": [
    "sp <- df %>% group_by(sp_id) %>% summarise(Population = sum(pop)) %>% arrange(desc(Population)) %>% \n",
    "    top_n(15)\n",
    "# sp\n",
    "p <- ggplot(data = sp, aes(x = reorder(sp_id, -Population), y = Population)) + geom_bar(stat = \"identity\", \n",
    "    fill = \"gray40\") + ggtitle(\"Cumulative Indicated Breeding Population\", subtitle = \"Top 15 Most Abundant Species 2007-2017\") + \n",
    "    xlab(\"Species\") + geom_text(aes(label = Population), size = 3, hjust = 0.5, vjust = -0.4) + \n",
    "    theme(plot.title = element_text(hjust = 0.5), plot.subtitle = element_text(hjust = 0.5), \n",
    "        axis.text.x = element_text(angle = 45, vjust = 0.5))\n",
    "options(repr.plot.width = 6.5, repr.plot.height = 4)\n",
    "p"
   ]
  },
  {
   "cell_type": "markdown",
   "metadata": {
    "hide_input": true
   },
   "source": [
    "What is the distribution of species within ecosections?"
   ]
  },
  {
   "cell_type": "code",
   "execution_count": 8,
   "metadata": {
    "hide_input": true
   },
   "outputs": [
    {
     "data": {
      "image/png": "[encoded data removed]",
      "text/plain": [
       "plot without title"
      ]
     },
     "metadata": {},
     "output_type": "display_data"
    }
   ],
   "source": [
    "eco_sp <- df %>% group_by(eco) %>% summarise(Population = sum(pop)) %>% arrange(desc(Population))\n",
    "\n",
    "# Create a custom colour-blind-friendly scale\n",
    "library(RColorBrewer)\n",
    "cbp1 <- c(\"#999999\", \"#E69F00\", \"#56B4E9\", \"#009E73\", \"#F0E442\", \"#0072B2\", \"#D55E00\", \n",
    "    \"#CC79A7\")\n",
    "\n",
    "\n",
    "names(cbp1) <- levels(eco_sp$eco)\n",
    "colFill <- scale_fill_manual(names(cbp1), values = cbp1)\n",
    "colColour <- scale_colour_manual(name = \"ECO\", names(cbp1), values = cbp1)\n",
    "\n",
    "g <- ggplot(eco_sp, aes(x = reorder(eco, -Population), y = Population, fill = eco)) + \n",
    "    geom_bar(stat = \"identity\") + ggtitle(\"Total Cumulative Indicated Breeding Population by Ecosection \\n 2007-2017\") + \n",
    "    xlab(\"Ecosection\") + labs(color = \"Ecosection\") + colFill + geom_text(aes(label = Population), \n",
    "    size = 2.5, hjust = 0.5, vjust = -0.5) + theme(axis.text.x = element_text(angle = 45, \n",
    "    vjust = 0.5), plot.title = element_text(hjust = 0.5), legend.position = \"none\")\n",
    "options(repr.plot.width = 6, repr.plot.height = 4)\n",
    "g"
   ]
  },
  {
   "cell_type": "markdown",
   "metadata": {},
   "source": [
    "The Cariboo Basin (CAB) is clearly a very important Ecosection for breeding waterfowl populations especially when taking the Ecosection area into account as visualized by population density below."
   ]
  },
  {
   "cell_type": "code",
   "execution_count": 9,
   "metadata": {
    "hide_input": true
   },
   "outputs": [
    {
     "data": {
      "image/png": "[encoded data removed]",
      "text/plain": [
       "plot without title"
      ]
     },
     "metadata": {},
     "output_type": "display_data"
    }
   ],
   "source": [
    "eco_area <- read.csv(\"eco_transect_area_summary.csv\")\n",
    "eco_p <- merge(eco_sp, eco_area)\n",
    "eco_p$p_density <- eco_p$Population/eco_p$area_surveyed*10000\n",
    "\n",
    "g <- ggplot(eco_p, aes(x=reorder(eco, -p_density),y=p_density, fill=eco)) + geom_bar(stat=\"identity\") + \n",
    "\n",
    "    ggtitle(label=\"Cumulative Indicated Breeding Population Density\", subtitle=\"by Ecosection 2007-17\") + colFill +\n",
    "    geom_text(aes(label=round(p_density, digits=0)), size=3, hjust=0.5, vjust=-0.5) +\n",
    "    xlab(\"Ecosection\") + ylab(\"Breeding Population per Hectare\") + \n",
    "    theme(axis.text.x = element_text(angle=45,vjust=.5), \n",
    "        plot.title = element_text(hjust=0.5),\n",
    "        plot.subtitle = element_text(hjust=0.5), \n",
    "        legend.position = \"none\")\n",
    "options(repr.plot.width=6,repr.plot.height=4)\n",
    "g\n"
   ]
  },
  {
   "cell_type": "markdown",
   "metadata": {},
   "source": [
    "How does the population density vary through time?"
   ]
  },
  {
   "cell_type": "code",
   "execution_count": 10,
   "metadata": {
    "hide_input": true,
    "scrolled": true
   },
   "outputs": [
    {
     "data": {
      "image/png": "[encoded data removed]",
      "text/plain": [
       "plot without title"
      ]
     },
     "metadata": {},
     "output_type": "display_data"
    }
   ],
   "source": [
    "eco_yr <- df %>% group_by(eco, year_) %>% summarise(pop = sum(pop)) %>% left_join(., \n",
    "    eco_area, by = \"eco\") %>% mutate(density = pop/area_surveyed * 10000)\n",
    "\n",
    "shp1 <- c(5,6,8,15:19)\n",
    "colShape <- scale_shape_manual(name = \"ECO\", names(cbp1), values = shp1)\n",
    "\n",
    "# #Plot the outcome\n",
    "g <- ggplot(eco_yr, aes(year_, density, colour = eco, shape = eco)) + ggtitle(\"Population Density in Ecosection by Year\", \n",
    "    subtitle = \"All Waterfowl\") + geom_point() + geom_line(size = 0.5) + colShape + \n",
    "    colColour + theme(legend.position = \"bottom\", legend.direction = \"horizontal\", \n",
    "    legend.box = \"vertical\", axis.text.x = element_blank(), plot.title = element_text(hjust = 0.5), \n",
    "    plot.subtitle = element_text(hjust = 0.5)) + xlab(\"Ecosection\") + ylab(\"Total Breeding Population Density per ha\")\n",
    "options(repr.plot.width = 6, repr.plot.height = 4)\n",
    "g"
   ]
  },
  {
   "cell_type": "markdown",
   "metadata": {
    "hide_input": false
   },
   "source": [
    "Temporal animations can provide a different perspective. Animated lines, dots and bar charts below. I got carried away obviously. "
   ]
  },
  {
   "cell_type": "code",
   "execution_count": 11,
   "metadata": {
    "hide_input": true
   },
   "outputs": [
    {
     "name": "stderr",
     "output_type": "stream",
     "text": [
      "                                                                              Rendering [--------------------------------------------] at 2.5 fps ~ eta: 40sRendering [--------------------------------------------] at 1.6 fps ~ eta:  1m\r"
     ]
    }
   ],
   "source": [
    "## 'gganimate' Line chart with dots using 'transition_reveal'\n",
    "g <- ggplot(eco_yr, aes(year_, density, group = eco, shape = eco, colour = eco)) + labs(title = \"Population Density in Ecosection by Year\") + \n",
    "    geom_point(size = 4) + geom_line(size = 1) + colShape + colColour + theme(legend.position = \"bottom\", \n",
    "    axis.text.x = element_text(angle = 45, vjust = 0.5), plot.title = element_text(hjust = 0.5), \n",
    "    plot.subtitle = element_text(hjust = 0.5, size = 17)) + scale_size(guide = FALSE) + \n",
    "    xlab(\"Ecosection\") + ylab(\"Total Breeding Population Density per ha\")\n",
    "g + geom_point((aes(group = seq_along(year_), size = 2))) + transition_reveal(year_) + \n",
    "    labs(subtitle = \"{frame_along}\")\n",
    "\n",
    "## Dot plot with 'shadow_wake' and 'transition_time'\n",
    "g <- ggplot(eco_yr, aes(eco, density, size = density, colour = eco)) + geom_point(size = 9) + \n",
    "    colColour + ggtitle(label = \"Population Density in Ecosection by Year\") + theme(legend.position = \"bottom\", \n",
    "    axis.text.x = element_text(angle = 45, vjust = 0.5, size = 9), plot.title = element_text(hjust = 0.5), \n",
    "    plot.subtitle = element_text(hjust = 0.5, size = 17)) + xlab(\"Ecosection\") + \n",
    "    ylab(\"Total Breeding Population Density per ha\")\n",
    "g + transition_time(year_) + labs(subtitle = \"{frame_time}\") + shadow_wake(wake_length = 0.2, \n",
    "    alpha = FALSE)\n",
    "\n",
    "## Bar chart with 'transition_time'\n",
    "g <- ggplot(eco_yr, aes(eco, density, fill = eco)) + geom_bar(stat = \"identity\") + \n",
    "    colFill + theme(legend.position = \"bottom\", legend.direction = \"horizontal\", \n",
    "    legend.box = \"vertical\", axis.text.x = element_text(angle = 45, vjust = 0.5, \n",
    "        size = 9), plot.title = element_text(hjust = 0.5), plot.subtitle = element_text(hjust = 0.5, \n",
    "        size = 17)) + xlab(\"Ecosection\") + ylab(\"Total Breeding Population Density per ha\")\n",
    "g + transition_time(year_) + labs(title = \"Population Density in Ecosection by Year\", \n",
    "    subtitle = \"{frame_time}\")"
   ]
  },
  {
   "cell_type": "markdown",
   "metadata": {
    "hide_input": false
   },
   "source": [
    "![SegmentLocal](popd_eco_yr_line.gif \"segment\")"
   ]
  },
  {
   "cell_type": "markdown",
   "metadata": {},
   "source": [
    "![SegmentLocal](PopDensityEcoByYear_point.gif \"segment\")"
   ]
  },
  {
   "cell_type": "markdown",
   "metadata": {},
   "source": [
    "![SegmentLocal](popd_eco_yr_bar.gif \"segment\")"
   ]
  },
  {
   "cell_type": "markdown",
   "metadata": {
    "hide_input": false
   },
   "source": [
    "Let's drill down to the species distributions within Ecosections focusing on the top 10 most abundant."
   ]
  },
  {
   "cell_type": "code",
   "execution_count": 12,
   "metadata": {
    "hide_input": true
   },
   "outputs": [
    {
     "data": {
      "text/html": [
       "<ol class=list-inline>\n",
       "\t<li>MALL</li>\n",
       "\t<li>RNDU</li>\n",
       "\t<li>BUFF</li>\n",
       "\t<li>CAGO</li>\n",
       "\t<li>GWTE</li>\n",
       "\t<li>BAGO</li>\n",
       "\t<li>SCAU</li>\n",
       "\t<li>AMWI</li>\n",
       "\t<li>NSHO</li>\n",
       "\t<li>BWTE</li>\n",
       "</ol>\n",
       "\n",
       "<details>\n",
       "\t<summary style=display:list-item;cursor:pointer>\n",
       "\t\t<strong>Levels</strong>:\n",
       "\t</summary>\n",
       "\t<ol class=list-inline>\n",
       "\t\t<li>'AMWI'</li>\n",
       "\t\t<li>'BAGO'</li>\n",
       "\t\t<li>'BUFF'</li>\n",
       "\t\t<li>'BWTE'</li>\n",
       "\t\t<li>'CAGO'</li>\n",
       "\t\t<li>'GWTE'</li>\n",
       "\t\t<li>'MALL'</li>\n",
       "\t\t<li>'NSHO'</li>\n",
       "\t\t<li>'RNDU'</li>\n",
       "\t\t<li>'SCAU'</li>\n",
       "\t</ol>\n",
       "</details>"
      ],
      "text/latex": [
       "\\begin{enumerate*}\n",
       "\\item MALL\n",
       "\\item RNDU\n",
       "\\item BUFF\n",
       "\\item CAGO\n",
       "\\item GWTE\n",
       "\\item BAGO\n",
       "\\item SCAU\n",
       "\\item AMWI\n",
       "\\item NSHO\n",
       "\\item BWTE\n",
       "\\end{enumerate*}\n",
       "\n",
       "\\emph{Levels}: \\begin{enumerate*}\n",
       "\\item 'AMWI'\n",
       "\\item 'BAGO'\n",
       "\\item 'BUFF'\n",
       "\\item 'BWTE'\n",
       "\\item 'CAGO'\n",
       "\\item 'GWTE'\n",
       "\\item 'MALL'\n",
       "\\item 'NSHO'\n",
       "\\item 'RNDU'\n",
       "\\item 'SCAU'\n",
       "\\end{enumerate*}\n"
      ],
      "text/markdown": [
       "1. MALL\n",
       "2. RNDU\n",
       "3. BUFF\n",
       "4. CAGO\n",
       "5. GWTE\n",
       "6. BAGO\n",
       "7. SCAU\n",
       "8. AMWI\n",
       "9. NSHO\n",
       "10. BWTE\n",
       "\n",
       "\n",
       "\n",
       "**Levels**: 1. 'AMWI'\n",
       "2. 'BAGO'\n",
       "3. 'BUFF'\n",
       "4. 'BWTE'\n",
       "5. 'CAGO'\n",
       "6. 'GWTE'\n",
       "7. 'MALL'\n",
       "8. 'NSHO'\n",
       "9. 'RNDU'\n",
       "10. 'SCAU'\n",
       "\n",
       "\n"
      ],
      "text/plain": [
       " [1] MALL RNDU BUFF CAGO GWTE BAGO SCAU AMWI NSHO BWTE\n",
       "Levels: AMWI BAGO BUFF BWTE CAGO GWTE MALL NSHO RNDU SCAU"
      ]
     },
     "metadata": {},
     "output_type": "display_data"
    }
   ],
   "source": [
    "sp_10 <- factor(sp_top_10$sp_id) # Unless factor original 31 levels are retained\n",
    "\n",
    "sp_10\n",
    "sp_10 <- tolower(sp_10)"
   ]
  },
  {
   "cell_type": "code",
   "execution_count": 13,
   "metadata": {
    "collapsed": true,
    "hide_input": true
   },
   "outputs": [
    {
     "data": {
      "text/html": [
       "<table>\n",
       "<caption>A grouped_df: 880 × 9</caption>\n",
       "<thead>\n",
       "\t<tr><th scope=col>eco</th><th scope=col>year_</th><th scope=col>sp_id</th><th scope=col>Population</th><th scope=col>total_area</th><th scope=col>area_surveyed</th><th scope=col>pct_tot_area</th><th scope=col>pct_area_surveyed</th><th scope=col>density</th></tr>\n",
       "\t<tr><th scope=col>&lt;fct&gt;</th><th scope=col>&lt;int&gt;</th><th scope=col>&lt;chr&gt;</th><th scope=col>&lt;int&gt;</th><th scope=col>&lt;dbl&gt;</th><th scope=col>&lt;dbl&gt;</th><th scope=col>&lt;dbl&gt;</th><th scope=col>&lt;dbl&gt;</th><th scope=col>&lt;dbl&gt;</th></tr>\n",
       "</thead>\n",
       "<tbody>\n",
       "\t<tr><td>BAU</td><td>2007</td><td>amwi</td><td> 14</td><td>1961719</td><td>48959.75</td><td>0.1831068</td><td>0.1848207</td><td> 2.8594917</td></tr>\n",
       "\t<tr><td>BAU</td><td>2007</td><td>bago</td><td>104</td><td>1961719</td><td>48959.75</td><td>0.1831068</td><td>0.1848207</td><td>21.2419387</td></tr>\n",
       "\t<tr><td>BAU</td><td>2007</td><td>buff</td><td> 68</td><td>1961719</td><td>48959.75</td><td>0.1831068</td><td>0.1848207</td><td>13.8889599</td></tr>\n",
       "\t<tr><td>BAU</td><td>2007</td><td>bwte</td><td>  4</td><td>1961719</td><td>48959.75</td><td>0.1831068</td><td>0.1848207</td><td> 0.8169976</td></tr>\n",
       "\t<tr><td>BAU</td><td>2007</td><td>cago</td><td> 24</td><td>1961719</td><td>48959.75</td><td>0.1831068</td><td>0.1848207</td><td> 4.9019858</td></tr>\n",
       "\t<tr><td>BAU</td><td>2007</td><td>gwte</td><td> 52</td><td>1961719</td><td>48959.75</td><td>0.1831068</td><td>0.1848207</td><td>10.6209693</td></tr>\n",
       "\t<tr><td>BAU</td><td>2007</td><td>mall</td><td>124</td><td>1961719</td><td>48959.75</td><td>0.1831068</td><td>0.1848207</td><td>25.3269269</td></tr>\n",
       "\t<tr><td>BAU</td><td>2007</td><td>nsho</td><td>  0</td><td>1961719</td><td>48959.75</td><td>0.1831068</td><td>0.1848207</td><td> 0.0000000</td></tr>\n",
       "\t<tr><td>BAU</td><td>2007</td><td>rndu</td><td>130</td><td>1961719</td><td>48959.75</td><td>0.1831068</td><td>0.1848207</td><td>26.5524233</td></tr>\n",
       "\t<tr><td>BAU</td><td>2007</td><td>scau</td><td>  4</td><td>1961719</td><td>48959.75</td><td>0.1831068</td><td>0.1848207</td><td> 0.8169976</td></tr>\n",
       "\t<tr><td>BAU</td><td>2008</td><td>amwi</td><td> 24</td><td>1961719</td><td>48959.75</td><td>0.1831068</td><td>0.1848207</td><td> 4.9019858</td></tr>\n",
       "\t<tr><td>BAU</td><td>2008</td><td>bago</td><td>132</td><td>1961719</td><td>48959.75</td><td>0.1831068</td><td>0.1848207</td><td>26.9609222</td></tr>\n",
       "\t<tr><td>BAU</td><td>2008</td><td>buff</td><td> 46</td><td>1961719</td><td>48959.75</td><td>0.1831068</td><td>0.1848207</td><td> 9.3954729</td></tr>\n",
       "\t<tr><td>BAU</td><td>2008</td><td>bwte</td><td> 56</td><td>1961719</td><td>48959.75</td><td>0.1831068</td><td>0.1848207</td><td>11.4379670</td></tr>\n",
       "\t<tr><td>BAU</td><td>2008</td><td>cago</td><td> 36</td><td>1961719</td><td>48959.75</td><td>0.1831068</td><td>0.1848207</td><td> 7.3529788</td></tr>\n",
       "\t<tr><td>BAU</td><td>2008</td><td>gwte</td><td> 56</td><td>1961719</td><td>48959.75</td><td>0.1831068</td><td>0.1848207</td><td>11.4379670</td></tr>\n",
       "\t<tr><td>BAU</td><td>2008</td><td>mall</td><td>142</td><td>1961719</td><td>48959.75</td><td>0.1831068</td><td>0.1848207</td><td>29.0034163</td></tr>\n",
       "\t<tr><td>BAU</td><td>2008</td><td>nsho</td><td> 16</td><td>1961719</td><td>48959.75</td><td>0.1831068</td><td>0.1848207</td><td> 3.2679906</td></tr>\n",
       "\t<tr><td>BAU</td><td>2008</td><td>rndu</td><td> 91</td><td>1961719</td><td>48959.75</td><td>0.1831068</td><td>0.1848207</td><td>18.5866963</td></tr>\n",
       "\t<tr><td>BAU</td><td>2008</td><td>scau</td><td>  0</td><td>1961719</td><td>48959.75</td><td>0.1831068</td><td>0.1848207</td><td> 0.0000000</td></tr>\n",
       "\t<tr><td>BAU</td><td>2009</td><td>amwi</td><td> 26</td><td>1961719</td><td>48959.75</td><td>0.1831068</td><td>0.1848207</td><td> 5.3104847</td></tr>\n",
       "\t<tr><td>BAU</td><td>2009</td><td>bago</td><td> 88</td><td>1961719</td><td>48959.75</td><td>0.1831068</td><td>0.1848207</td><td>17.9739481</td></tr>\n",
       "\t<tr><td>BAU</td><td>2009</td><td>buff</td><td> 50</td><td>1961719</td><td>48959.75</td><td>0.1831068</td><td>0.1848207</td><td>10.2124705</td></tr>\n",
       "\t<tr><td>BAU</td><td>2009</td><td>bwte</td><td> 28</td><td>1961719</td><td>48959.75</td><td>0.1831068</td><td>0.1848207</td><td> 5.7189835</td></tr>\n",
       "\t<tr><td>BAU</td><td>2009</td><td>cago</td><td> 33</td><td>1961719</td><td>48959.75</td><td>0.1831068</td><td>0.1848207</td><td> 6.7402305</td></tr>\n",
       "\t<tr><td>BAU</td><td>2009</td><td>gwte</td><td> 56</td><td>1961719</td><td>48959.75</td><td>0.1831068</td><td>0.1848207</td><td>11.4379670</td></tr>\n",
       "\t<tr><td>BAU</td><td>2009</td><td>mall</td><td>112</td><td>1961719</td><td>48959.75</td><td>0.1831068</td><td>0.1848207</td><td>22.8759340</td></tr>\n",
       "\t<tr><td>BAU</td><td>2009</td><td>nsho</td><td>  0</td><td>1961719</td><td>48959.75</td><td>0.1831068</td><td>0.1848207</td><td> 0.0000000</td></tr>\n",
       "\t<tr><td>BAU</td><td>2009</td><td>rndu</td><td> 64</td><td>1961719</td><td>48959.75</td><td>0.1831068</td><td>0.1848207</td><td>13.0719623</td></tr>\n",
       "\t<tr><td>BAU</td><td>2009</td><td>scau</td><td>  4</td><td>1961719</td><td>48959.75</td><td>0.1831068</td><td>0.1848207</td><td> 0.8169976</td></tr>\n",
       "\t<tr><td>...</td><td>...</td><td>...</td><td>...</td><td>...</td><td>...</td><td>...</td><td>...</td><td>...</td></tr>\n",
       "\t<tr><td>WCU</td><td>2015</td><td>amwi</td><td> 52</td><td>828578.3</td><td>21232.1</td><td>0.0773395</td><td>0.08015015</td><td>24.491218</td></tr>\n",
       "\t<tr><td>WCU</td><td>2015</td><td>bago</td><td> 16</td><td>828578.3</td><td>21232.1</td><td>0.0773395</td><td>0.08015015</td><td> 7.535759</td></tr>\n",
       "\t<tr><td>WCU</td><td>2015</td><td>buff</td><td> 48</td><td>828578.3</td><td>21232.1</td><td>0.0773395</td><td>0.08015015</td><td>22.607278</td></tr>\n",
       "\t<tr><td>WCU</td><td>2015</td><td>bwte</td><td> 10</td><td>828578.3</td><td>21232.1</td><td>0.0773395</td><td>0.08015015</td><td> 4.709850</td></tr>\n",
       "\t<tr><td>WCU</td><td>2015</td><td>cago</td><td> 22</td><td>828578.3</td><td>21232.1</td><td>0.0773395</td><td>0.08015015</td><td>10.361669</td></tr>\n",
       "\t<tr><td>WCU</td><td>2015</td><td>gwte</td><td> 82</td><td>828578.3</td><td>21232.1</td><td>0.0773395</td><td>0.08015015</td><td>38.620767</td></tr>\n",
       "\t<tr><td>WCU</td><td>2015</td><td>mall</td><td>174</td><td>828578.3</td><td>21232.1</td><td>0.0773395</td><td>0.08015015</td><td>81.951384</td></tr>\n",
       "\t<tr><td>WCU</td><td>2015</td><td>nsho</td><td> 14</td><td>828578.3</td><td>21232.1</td><td>0.0773395</td><td>0.08015015</td><td> 6.593790</td></tr>\n",
       "\t<tr><td>WCU</td><td>2015</td><td>rndu</td><td>101</td><td>828578.3</td><td>21232.1</td><td>0.0773395</td><td>0.08015015</td><td>47.569482</td></tr>\n",
       "\t<tr><td>WCU</td><td>2015</td><td>scau</td><td> 52</td><td>828578.3</td><td>21232.1</td><td>0.0773395</td><td>0.08015015</td><td>24.491218</td></tr>\n",
       "\t<tr><td>WCU</td><td>2016</td><td>amwi</td><td> 18</td><td>828578.3</td><td>21232.1</td><td>0.0773395</td><td>0.08015015</td><td> 8.477729</td></tr>\n",
       "\t<tr><td>WCU</td><td>2016</td><td>bago</td><td> 24</td><td>828578.3</td><td>21232.1</td><td>0.0773395</td><td>0.08015015</td><td>11.303639</td></tr>\n",
       "\t<tr><td>WCU</td><td>2016</td><td>buff</td><td> 50</td><td>828578.3</td><td>21232.1</td><td>0.0773395</td><td>0.08015015</td><td>23.549248</td></tr>\n",
       "\t<tr><td>WCU</td><td>2016</td><td>bwte</td><td>  0</td><td>828578.3</td><td>21232.1</td><td>0.0773395</td><td>0.08015015</td><td> 0.000000</td></tr>\n",
       "\t<tr><td>WCU</td><td>2016</td><td>cago</td><td> 62</td><td>828578.3</td><td>21232.1</td><td>0.0773395</td><td>0.08015015</td><td>29.201068</td></tr>\n",
       "\t<tr><td>WCU</td><td>2016</td><td>gwte</td><td> 52</td><td>828578.3</td><td>21232.1</td><td>0.0773395</td><td>0.08015015</td><td>24.491218</td></tr>\n",
       "\t<tr><td>WCU</td><td>2016</td><td>mall</td><td>122</td><td>828578.3</td><td>21232.1</td><td>0.0773395</td><td>0.08015015</td><td>57.460166</td></tr>\n",
       "\t<tr><td>WCU</td><td>2016</td><td>nsho</td><td> 28</td><td>828578.3</td><td>21232.1</td><td>0.0773395</td><td>0.08015015</td><td>13.187579</td></tr>\n",
       "\t<tr><td>WCU</td><td>2016</td><td>rndu</td><td> 53</td><td>828578.3</td><td>21232.1</td><td>0.0773395</td><td>0.08015015</td><td>24.962203</td></tr>\n",
       "\t<tr><td>WCU</td><td>2016</td><td>scau</td><td> 71</td><td>828578.3</td><td>21232.1</td><td>0.0773395</td><td>0.08015015</td><td>33.439933</td></tr>\n",
       "\t<tr><td>WCU</td><td>2017</td><td>amwi</td><td> 40</td><td>828578.3</td><td>21232.1</td><td>0.0773395</td><td>0.08015015</td><td>18.839399</td></tr>\n",
       "\t<tr><td>WCU</td><td>2017</td><td>bago</td><td> 20</td><td>828578.3</td><td>21232.1</td><td>0.0773395</td><td>0.08015015</td><td> 9.419699</td></tr>\n",
       "\t<tr><td>WCU</td><td>2017</td><td>buff</td><td> 28</td><td>828578.3</td><td>21232.1</td><td>0.0773395</td><td>0.08015015</td><td>13.187579</td></tr>\n",
       "\t<tr><td>WCU</td><td>2017</td><td>bwte</td><td>  6</td><td>828578.3</td><td>21232.1</td><td>0.0773395</td><td>0.08015015</td><td> 2.825910</td></tr>\n",
       "\t<tr><td>WCU</td><td>2017</td><td>cago</td><td>111</td><td>828578.3</td><td>21232.1</td><td>0.0773395</td><td>0.08015015</td><td>52.279331</td></tr>\n",
       "\t<tr><td>WCU</td><td>2017</td><td>gwte</td><td> 74</td><td>828578.3</td><td>21232.1</td><td>0.0773395</td><td>0.08015015</td><td>34.852888</td></tr>\n",
       "\t<tr><td>WCU</td><td>2017</td><td>mall</td><td>132</td><td>828578.3</td><td>21232.1</td><td>0.0773395</td><td>0.08015015</td><td>62.170016</td></tr>\n",
       "\t<tr><td>WCU</td><td>2017</td><td>nsho</td><td> 22</td><td>828578.3</td><td>21232.1</td><td>0.0773395</td><td>0.08015015</td><td>10.361669</td></tr>\n",
       "\t<tr><td>WCU</td><td>2017</td><td>rndu</td><td>103</td><td>828578.3</td><td>21232.1</td><td>0.0773395</td><td>0.08015015</td><td>48.511452</td></tr>\n",
       "\t<tr><td>WCU</td><td>2017</td><td>scau</td><td> 37</td><td>828578.3</td><td>21232.1</td><td>0.0773395</td><td>0.08015015</td><td>17.426444</td></tr>\n",
       "</tbody>\n",
       "</table>\n"
      ],
      "text/latex": [
       "A grouped_df: 880 × 9\n",
       "\\begin{tabular}{r|lllllllll}\n",
       " eco & year\\_ & sp\\_id & Population & total\\_area & area\\_surveyed & pct\\_tot\\_area & pct\\_area\\_surveyed & density\\\\\n",
       " <fct> & <int> & <chr> & <int> & <dbl> & <dbl> & <dbl> & <dbl> & <dbl>\\\\\n",
       "\\hline\n",
       "\t BAU & 2007 & amwi &  14 & 1961719 & 48959.75 & 0.1831068 & 0.1848207 &  2.8594917\\\\\n",
       "\t BAU & 2007 & bago & 104 & 1961719 & 48959.75 & 0.1831068 & 0.1848207 & 21.2419387\\\\\n",
       "\t BAU & 2007 & buff &  68 & 1961719 & 48959.75 & 0.1831068 & 0.1848207 & 13.8889599\\\\\n",
       "\t BAU & 2007 & bwte &   4 & 1961719 & 48959.75 & 0.1831068 & 0.1848207 &  0.8169976\\\\\n",
       "\t BAU & 2007 & cago &  24 & 1961719 & 48959.75 & 0.1831068 & 0.1848207 &  4.9019858\\\\\n",
       "\t BAU & 2007 & gwte &  52 & 1961719 & 48959.75 & 0.1831068 & 0.1848207 & 10.6209693\\\\\n",
       "\t BAU & 2007 & mall & 124 & 1961719 & 48959.75 & 0.1831068 & 0.1848207 & 25.3269269\\\\\n",
       "\t BAU & 2007 & nsho &   0 & 1961719 & 48959.75 & 0.1831068 & 0.1848207 &  0.0000000\\\\\n",
       "\t BAU & 2007 & rndu & 130 & 1961719 & 48959.75 & 0.1831068 & 0.1848207 & 26.5524233\\\\\n",
       "\t BAU & 2007 & scau &   4 & 1961719 & 48959.75 & 0.1831068 & 0.1848207 &  0.8169976\\\\\n",
       "\t BAU & 2008 & amwi &  24 & 1961719 & 48959.75 & 0.1831068 & 0.1848207 &  4.9019858\\\\\n",
       "\t BAU & 2008 & bago & 132 & 1961719 & 48959.75 & 0.1831068 & 0.1848207 & 26.9609222\\\\\n",
       "\t BAU & 2008 & buff &  46 & 1961719 & 48959.75 & 0.1831068 & 0.1848207 &  9.3954729\\\\\n",
       "\t BAU & 2008 & bwte &  56 & 1961719 & 48959.75 & 0.1831068 & 0.1848207 & 11.4379670\\\\\n",
       "\t BAU & 2008 & cago &  36 & 1961719 & 48959.75 & 0.1831068 & 0.1848207 &  7.3529788\\\\\n",
       "\t BAU & 2008 & gwte &  56 & 1961719 & 48959.75 & 0.1831068 & 0.1848207 & 11.4379670\\\\\n",
       "\t BAU & 2008 & mall & 142 & 1961719 & 48959.75 & 0.1831068 & 0.1848207 & 29.0034163\\\\\n",
       "\t BAU & 2008 & nsho &  16 & 1961719 & 48959.75 & 0.1831068 & 0.1848207 &  3.2679906\\\\\n",
       "\t BAU & 2008 & rndu &  91 & 1961719 & 48959.75 & 0.1831068 & 0.1848207 & 18.5866963\\\\\n",
       "\t BAU & 2008 & scau &   0 & 1961719 & 48959.75 & 0.1831068 & 0.1848207 &  0.0000000\\\\\n",
       "\t BAU & 2009 & amwi &  26 & 1961719 & 48959.75 & 0.1831068 & 0.1848207 &  5.3104847\\\\\n",
       "\t BAU & 2009 & bago &  88 & 1961719 & 48959.75 & 0.1831068 & 0.1848207 & 17.9739481\\\\\n",
       "\t BAU & 2009 & buff &  50 & 1961719 & 48959.75 & 0.1831068 & 0.1848207 & 10.2124705\\\\\n",
       "\t BAU & 2009 & bwte &  28 & 1961719 & 48959.75 & 0.1831068 & 0.1848207 &  5.7189835\\\\\n",
       "\t BAU & 2009 & cago &  33 & 1961719 & 48959.75 & 0.1831068 & 0.1848207 &  6.7402305\\\\\n",
       "\t BAU & 2009 & gwte &  56 & 1961719 & 48959.75 & 0.1831068 & 0.1848207 & 11.4379670\\\\\n",
       "\t BAU & 2009 & mall & 112 & 1961719 & 48959.75 & 0.1831068 & 0.1848207 & 22.8759340\\\\\n",
       "\t BAU & 2009 & nsho &   0 & 1961719 & 48959.75 & 0.1831068 & 0.1848207 &  0.0000000\\\\\n",
       "\t BAU & 2009 & rndu &  64 & 1961719 & 48959.75 & 0.1831068 & 0.1848207 & 13.0719623\\\\\n",
       "\t BAU & 2009 & scau &   4 & 1961719 & 48959.75 & 0.1831068 & 0.1848207 &  0.8169976\\\\\n",
       "\t ... & ... & ... & ... & ... & ... & ... & ... & ...\\\\\n",
       "\t WCU & 2015 & amwi &  52 & 828578.3 & 21232.1 & 0.0773395 & 0.08015015 & 24.491218\\\\\n",
       "\t WCU & 2015 & bago &  16 & 828578.3 & 21232.1 & 0.0773395 & 0.08015015 &  7.535759\\\\\n",
       "\t WCU & 2015 & buff &  48 & 828578.3 & 21232.1 & 0.0773395 & 0.08015015 & 22.607278\\\\\n",
       "\t WCU & 2015 & bwte &  10 & 828578.3 & 21232.1 & 0.0773395 & 0.08015015 &  4.709850\\\\\n",
       "\t WCU & 2015 & cago &  22 & 828578.3 & 21232.1 & 0.0773395 & 0.08015015 & 10.361669\\\\\n",
       "\t WCU & 2015 & gwte &  82 & 828578.3 & 21232.1 & 0.0773395 & 0.08015015 & 38.620767\\\\\n",
       "\t WCU & 2015 & mall & 174 & 828578.3 & 21232.1 & 0.0773395 & 0.08015015 & 81.951384\\\\\n",
       "\t WCU & 2015 & nsho &  14 & 828578.3 & 21232.1 & 0.0773395 & 0.08015015 &  6.593790\\\\\n",
       "\t WCU & 2015 & rndu & 101 & 828578.3 & 21232.1 & 0.0773395 & 0.08015015 & 47.569482\\\\\n",
       "\t WCU & 2015 & scau &  52 & 828578.3 & 21232.1 & 0.0773395 & 0.08015015 & 24.491218\\\\\n",
       "\t WCU & 2016 & amwi &  18 & 828578.3 & 21232.1 & 0.0773395 & 0.08015015 &  8.477729\\\\\n",
       "\t WCU & 2016 & bago &  24 & 828578.3 & 21232.1 & 0.0773395 & 0.08015015 & 11.303639\\\\\n",
       "\t WCU & 2016 & buff &  50 & 828578.3 & 21232.1 & 0.0773395 & 0.08015015 & 23.549248\\\\\n",
       "\t WCU & 2016 & bwte &   0 & 828578.3 & 21232.1 & 0.0773395 & 0.08015015 &  0.000000\\\\\n",
       "\t WCU & 2016 & cago &  62 & 828578.3 & 21232.1 & 0.0773395 & 0.08015015 & 29.201068\\\\\n",
       "\t WCU & 2016 & gwte &  52 & 828578.3 & 21232.1 & 0.0773395 & 0.08015015 & 24.491218\\\\\n",
       "\t WCU & 2016 & mall & 122 & 828578.3 & 21232.1 & 0.0773395 & 0.08015015 & 57.460166\\\\\n",
       "\t WCU & 2016 & nsho &  28 & 828578.3 & 21232.1 & 0.0773395 & 0.08015015 & 13.187579\\\\\n",
       "\t WCU & 2016 & rndu &  53 & 828578.3 & 21232.1 & 0.0773395 & 0.08015015 & 24.962203\\\\\n",
       "\t WCU & 2016 & scau &  71 & 828578.3 & 21232.1 & 0.0773395 & 0.08015015 & 33.439933\\\\\n",
       "\t WCU & 2017 & amwi &  40 & 828578.3 & 21232.1 & 0.0773395 & 0.08015015 & 18.839399\\\\\n",
       "\t WCU & 2017 & bago &  20 & 828578.3 & 21232.1 & 0.0773395 & 0.08015015 &  9.419699\\\\\n",
       "\t WCU & 2017 & buff &  28 & 828578.3 & 21232.1 & 0.0773395 & 0.08015015 & 13.187579\\\\\n",
       "\t WCU & 2017 & bwte &   6 & 828578.3 & 21232.1 & 0.0773395 & 0.08015015 &  2.825910\\\\\n",
       "\t WCU & 2017 & cago & 111 & 828578.3 & 21232.1 & 0.0773395 & 0.08015015 & 52.279331\\\\\n",
       "\t WCU & 2017 & gwte &  74 & 828578.3 & 21232.1 & 0.0773395 & 0.08015015 & 34.852888\\\\\n",
       "\t WCU & 2017 & mall & 132 & 828578.3 & 21232.1 & 0.0773395 & 0.08015015 & 62.170016\\\\\n",
       "\t WCU & 2017 & nsho &  22 & 828578.3 & 21232.1 & 0.0773395 & 0.08015015 & 10.361669\\\\\n",
       "\t WCU & 2017 & rndu & 103 & 828578.3 & 21232.1 & 0.0773395 & 0.08015015 & 48.511452\\\\\n",
       "\t WCU & 2017 & scau &  37 & 828578.3 & 21232.1 & 0.0773395 & 0.08015015 & 17.426444\\\\\n",
       "\\end{tabular}\n"
      ],
      "text/markdown": [
       "\n",
       "A grouped_df: 880 × 9\n",
       "\n",
       "| eco &lt;fct&gt; | year_ &lt;int&gt; | sp_id &lt;chr&gt; | Population &lt;int&gt; | total_area &lt;dbl&gt; | area_surveyed &lt;dbl&gt; | pct_tot_area &lt;dbl&gt; | pct_area_surveyed &lt;dbl&gt; | density &lt;dbl&gt; |\n",
       "|---|---|---|---|---|---|---|---|---|\n",
       "| BAU | 2007 | amwi |  14 | 1961719 | 48959.75 | 0.1831068 | 0.1848207 |  2.8594917 |\n",
       "| BAU | 2007 | bago | 104 | 1961719 | 48959.75 | 0.1831068 | 0.1848207 | 21.2419387 |\n",
       "| BAU | 2007 | buff |  68 | 1961719 | 48959.75 | 0.1831068 | 0.1848207 | 13.8889599 |\n",
       "| BAU | 2007 | bwte |   4 | 1961719 | 48959.75 | 0.1831068 | 0.1848207 |  0.8169976 |\n",
       "| BAU | 2007 | cago |  24 | 1961719 | 48959.75 | 0.1831068 | 0.1848207 |  4.9019858 |\n",
       "| BAU | 2007 | gwte |  52 | 1961719 | 48959.75 | 0.1831068 | 0.1848207 | 10.6209693 |\n",
       "| BAU | 2007 | mall | 124 | 1961719 | 48959.75 | 0.1831068 | 0.1848207 | 25.3269269 |\n",
       "| BAU | 2007 | nsho |   0 | 1961719 | 48959.75 | 0.1831068 | 0.1848207 |  0.0000000 |\n",
       "| BAU | 2007 | rndu | 130 | 1961719 | 48959.75 | 0.1831068 | 0.1848207 | 26.5524233 |\n",
       "| BAU | 2007 | scau |   4 | 1961719 | 48959.75 | 0.1831068 | 0.1848207 |  0.8169976 |\n",
       "| BAU | 2008 | amwi |  24 | 1961719 | 48959.75 | 0.1831068 | 0.1848207 |  4.9019858 |\n",
       "| BAU | 2008 | bago | 132 | 1961719 | 48959.75 | 0.1831068 | 0.1848207 | 26.9609222 |\n",
       "| BAU | 2008 | buff |  46 | 1961719 | 48959.75 | 0.1831068 | 0.1848207 |  9.3954729 |\n",
       "| BAU | 2008 | bwte |  56 | 1961719 | 48959.75 | 0.1831068 | 0.1848207 | 11.4379670 |\n",
       "| BAU | 2008 | cago |  36 | 1961719 | 48959.75 | 0.1831068 | 0.1848207 |  7.3529788 |\n",
       "| BAU | 2008 | gwte |  56 | 1961719 | 48959.75 | 0.1831068 | 0.1848207 | 11.4379670 |\n",
       "| BAU | 2008 | mall | 142 | 1961719 | 48959.75 | 0.1831068 | 0.1848207 | 29.0034163 |\n",
       "| BAU | 2008 | nsho |  16 | 1961719 | 48959.75 | 0.1831068 | 0.1848207 |  3.2679906 |\n",
       "| BAU | 2008 | rndu |  91 | 1961719 | 48959.75 | 0.1831068 | 0.1848207 | 18.5866963 |\n",
       "| BAU | 2008 | scau |   0 | 1961719 | 48959.75 | 0.1831068 | 0.1848207 |  0.0000000 |\n",
       "| BAU | 2009 | amwi |  26 | 1961719 | 48959.75 | 0.1831068 | 0.1848207 |  5.3104847 |\n",
       "| BAU | 2009 | bago |  88 | 1961719 | 48959.75 | 0.1831068 | 0.1848207 | 17.9739481 |\n",
       "| BAU | 2009 | buff |  50 | 1961719 | 48959.75 | 0.1831068 | 0.1848207 | 10.2124705 |\n",
       "| BAU | 2009 | bwte |  28 | 1961719 | 48959.75 | 0.1831068 | 0.1848207 |  5.7189835 |\n",
       "| BAU | 2009 | cago |  33 | 1961719 | 48959.75 | 0.1831068 | 0.1848207 |  6.7402305 |\n",
       "| BAU | 2009 | gwte |  56 | 1961719 | 48959.75 | 0.1831068 | 0.1848207 | 11.4379670 |\n",
       "| BAU | 2009 | mall | 112 | 1961719 | 48959.75 | 0.1831068 | 0.1848207 | 22.8759340 |\n",
       "| BAU | 2009 | nsho |   0 | 1961719 | 48959.75 | 0.1831068 | 0.1848207 |  0.0000000 |\n",
       "| BAU | 2009 | rndu |  64 | 1961719 | 48959.75 | 0.1831068 | 0.1848207 | 13.0719623 |\n",
       "| BAU | 2009 | scau |   4 | 1961719 | 48959.75 | 0.1831068 | 0.1848207 |  0.8169976 |\n",
       "| ... | ... | ... | ... | ... | ... | ... | ... | ... |\n",
       "| WCU | 2015 | amwi |  52 | 828578.3 | 21232.1 | 0.0773395 | 0.08015015 | 24.491218 |\n",
       "| WCU | 2015 | bago |  16 | 828578.3 | 21232.1 | 0.0773395 | 0.08015015 |  7.535759 |\n",
       "| WCU | 2015 | buff |  48 | 828578.3 | 21232.1 | 0.0773395 | 0.08015015 | 22.607278 |\n",
       "| WCU | 2015 | bwte |  10 | 828578.3 | 21232.1 | 0.0773395 | 0.08015015 |  4.709850 |\n",
       "| WCU | 2015 | cago |  22 | 828578.3 | 21232.1 | 0.0773395 | 0.08015015 | 10.361669 |\n",
       "| WCU | 2015 | gwte |  82 | 828578.3 | 21232.1 | 0.0773395 | 0.08015015 | 38.620767 |\n",
       "| WCU | 2015 | mall | 174 | 828578.3 | 21232.1 | 0.0773395 | 0.08015015 | 81.951384 |\n",
       "| WCU | 2015 | nsho |  14 | 828578.3 | 21232.1 | 0.0773395 | 0.08015015 |  6.593790 |\n",
       "| WCU | 2015 | rndu | 101 | 828578.3 | 21232.1 | 0.0773395 | 0.08015015 | 47.569482 |\n",
       "| WCU | 2015 | scau |  52 | 828578.3 | 21232.1 | 0.0773395 | 0.08015015 | 24.491218 |\n",
       "| WCU | 2016 | amwi |  18 | 828578.3 | 21232.1 | 0.0773395 | 0.08015015 |  8.477729 |\n",
       "| WCU | 2016 | bago |  24 | 828578.3 | 21232.1 | 0.0773395 | 0.08015015 | 11.303639 |\n",
       "| WCU | 2016 | buff |  50 | 828578.3 | 21232.1 | 0.0773395 | 0.08015015 | 23.549248 |\n",
       "| WCU | 2016 | bwte |   0 | 828578.3 | 21232.1 | 0.0773395 | 0.08015015 |  0.000000 |\n",
       "| WCU | 2016 | cago |  62 | 828578.3 | 21232.1 | 0.0773395 | 0.08015015 | 29.201068 |\n",
       "| WCU | 2016 | gwte |  52 | 828578.3 | 21232.1 | 0.0773395 | 0.08015015 | 24.491218 |\n",
       "| WCU | 2016 | mall | 122 | 828578.3 | 21232.1 | 0.0773395 | 0.08015015 | 57.460166 |\n",
       "| WCU | 2016 | nsho |  28 | 828578.3 | 21232.1 | 0.0773395 | 0.08015015 | 13.187579 |\n",
       "| WCU | 2016 | rndu |  53 | 828578.3 | 21232.1 | 0.0773395 | 0.08015015 | 24.962203 |\n",
       "| WCU | 2016 | scau |  71 | 828578.3 | 21232.1 | 0.0773395 | 0.08015015 | 33.439933 |\n",
       "| WCU | 2017 | amwi |  40 | 828578.3 | 21232.1 | 0.0773395 | 0.08015015 | 18.839399 |\n",
       "| WCU | 2017 | bago |  20 | 828578.3 | 21232.1 | 0.0773395 | 0.08015015 |  9.419699 |\n",
       "| WCU | 2017 | buff |  28 | 828578.3 | 21232.1 | 0.0773395 | 0.08015015 | 13.187579 |\n",
       "| WCU | 2017 | bwte |   6 | 828578.3 | 21232.1 | 0.0773395 | 0.08015015 |  2.825910 |\n",
       "| WCU | 2017 | cago | 111 | 828578.3 | 21232.1 | 0.0773395 | 0.08015015 | 52.279331 |\n",
       "| WCU | 2017 | gwte |  74 | 828578.3 | 21232.1 | 0.0773395 | 0.08015015 | 34.852888 |\n",
       "| WCU | 2017 | mall | 132 | 828578.3 | 21232.1 | 0.0773395 | 0.08015015 | 62.170016 |\n",
       "| WCU | 2017 | nsho |  22 | 828578.3 | 21232.1 | 0.0773395 | 0.08015015 | 10.361669 |\n",
       "| WCU | 2017 | rndu | 103 | 828578.3 | 21232.1 | 0.0773395 | 0.08015015 | 48.511452 |\n",
       "| WCU | 2017 | scau |  37 | 828578.3 | 21232.1 | 0.0773395 | 0.08015015 | 17.426444 |\n",
       "\n"
      ],
      "text/plain": [
       "    eco year_ sp_id Population total_area area_surveyed pct_tot_area\n",
       "1   BAU 2007  amwi   14        1961719    48959.75      0.1831068   \n",
       "2   BAU 2007  bago  104        1961719    48959.75      0.1831068   \n",
       "3   BAU 2007  buff   68        1961719    48959.75      0.1831068   \n",
       "4   BAU 2007  bwte    4        1961719    48959.75      0.1831068   \n",
       "5   BAU 2007  cago   24        1961719    48959.75      0.1831068   \n",
       "6   BAU 2007  gwte   52        1961719    48959.75      0.1831068   \n",
       "7   BAU 2007  mall  124        1961719    48959.75      0.1831068   \n",
       "8   BAU 2007  nsho    0        1961719    48959.75      0.1831068   \n",
       "9   BAU 2007  rndu  130        1961719    48959.75      0.1831068   \n",
       "10  BAU 2007  scau    4        1961719    48959.75      0.1831068   \n",
       "11  BAU 2008  amwi   24        1961719    48959.75      0.1831068   \n",
       "12  BAU 2008  bago  132        1961719    48959.75      0.1831068   \n",
       "13  BAU 2008  buff   46        1961719    48959.75      0.1831068   \n",
       "14  BAU 2008  bwte   56        1961719    48959.75      0.1831068   \n",
       "15  BAU 2008  cago   36        1961719    48959.75      0.1831068   \n",
       "16  BAU 2008  gwte   56        1961719    48959.75      0.1831068   \n",
       "17  BAU 2008  mall  142        1961719    48959.75      0.1831068   \n",
       "18  BAU 2008  nsho   16        1961719    48959.75      0.1831068   \n",
       "19  BAU 2008  rndu   91        1961719    48959.75      0.1831068   \n",
       "20  BAU 2008  scau    0        1961719    48959.75      0.1831068   \n",
       "21  BAU 2009  amwi   26        1961719    48959.75      0.1831068   \n",
       "22  BAU 2009  bago   88        1961719    48959.75      0.1831068   \n",
       "23  BAU 2009  buff   50        1961719    48959.75      0.1831068   \n",
       "24  BAU 2009  bwte   28        1961719    48959.75      0.1831068   \n",
       "25  BAU 2009  cago   33        1961719    48959.75      0.1831068   \n",
       "26  BAU 2009  gwte   56        1961719    48959.75      0.1831068   \n",
       "27  BAU 2009  mall  112        1961719    48959.75      0.1831068   \n",
       "28  BAU 2009  nsho    0        1961719    48959.75      0.1831068   \n",
       "29  BAU 2009  rndu   64        1961719    48959.75      0.1831068   \n",
       "30  BAU 2009  scau    4        1961719    48959.75      0.1831068   \n",
       "... ... ...   ...   ...        ...        ...           ...         \n",
       "851 WCU 2015  amwi   52        828578.3   21232.1       0.0773395   \n",
       "852 WCU 2015  bago   16        828578.3   21232.1       0.0773395   \n",
       "853 WCU 2015  buff   48        828578.3   21232.1       0.0773395   \n",
       "854 WCU 2015  bwte   10        828578.3   21232.1       0.0773395   \n",
       "855 WCU 2015  cago   22        828578.3   21232.1       0.0773395   \n",
       "856 WCU 2015  gwte   82        828578.3   21232.1       0.0773395   \n",
       "857 WCU 2015  mall  174        828578.3   21232.1       0.0773395   \n",
       "858 WCU 2015  nsho   14        828578.3   21232.1       0.0773395   \n",
       "859 WCU 2015  rndu  101        828578.3   21232.1       0.0773395   \n",
       "860 WCU 2015  scau   52        828578.3   21232.1       0.0773395   \n",
       "861 WCU 2016  amwi   18        828578.3   21232.1       0.0773395   \n",
       "862 WCU 2016  bago   24        828578.3   21232.1       0.0773395   \n",
       "863 WCU 2016  buff   50        828578.3   21232.1       0.0773395   \n",
       "864 WCU 2016  bwte    0        828578.3   21232.1       0.0773395   \n",
       "865 WCU 2016  cago   62        828578.3   21232.1       0.0773395   \n",
       "866 WCU 2016  gwte   52        828578.3   21232.1       0.0773395   \n",
       "867 WCU 2016  mall  122        828578.3   21232.1       0.0773395   \n",
       "868 WCU 2016  nsho   28        828578.3   21232.1       0.0773395   \n",
       "869 WCU 2016  rndu   53        828578.3   21232.1       0.0773395   \n",
       "870 WCU 2016  scau   71        828578.3   21232.1       0.0773395   \n",
       "871 WCU 2017  amwi   40        828578.3   21232.1       0.0773395   \n",
       "872 WCU 2017  bago   20        828578.3   21232.1       0.0773395   \n",
       "873 WCU 2017  buff   28        828578.3   21232.1       0.0773395   \n",
       "874 WCU 2017  bwte    6        828578.3   21232.1       0.0773395   \n",
       "875 WCU 2017  cago  111        828578.3   21232.1       0.0773395   \n",
       "876 WCU 2017  gwte   74        828578.3   21232.1       0.0773395   \n",
       "877 WCU 2017  mall  132        828578.3   21232.1       0.0773395   \n",
       "878 WCU 2017  nsho   22        828578.3   21232.1       0.0773395   \n",
       "879 WCU 2017  rndu  103        828578.3   21232.1       0.0773395   \n",
       "880 WCU 2017  scau   37        828578.3   21232.1       0.0773395   \n",
       "    pct_area_surveyed density   \n",
       "1   0.1848207          2.8594917\n",
       "2   0.1848207         21.2419387\n",
       "3   0.1848207         13.8889599\n",
       "4   0.1848207          0.8169976\n",
       "5   0.1848207          4.9019858\n",
       "6   0.1848207         10.6209693\n",
       "7   0.1848207         25.3269269\n",
       "8   0.1848207          0.0000000\n",
       "9   0.1848207         26.5524233\n",
       "10  0.1848207          0.8169976\n",
       "11  0.1848207          4.9019858\n",
       "12  0.1848207         26.9609222\n",
       "13  0.1848207          9.3954729\n",
       "14  0.1848207         11.4379670\n",
       "15  0.1848207          7.3529788\n",
       "16  0.1848207         11.4379670\n",
       "17  0.1848207         29.0034163\n",
       "18  0.1848207          3.2679906\n",
       "19  0.1848207         18.5866963\n",
       "20  0.1848207          0.0000000\n",
       "21  0.1848207          5.3104847\n",
       "22  0.1848207         17.9739481\n",
       "23  0.1848207         10.2124705\n",
       "24  0.1848207          5.7189835\n",
       "25  0.1848207          6.7402305\n",
       "26  0.1848207         11.4379670\n",
       "27  0.1848207         22.8759340\n",
       "28  0.1848207          0.0000000\n",
       "29  0.1848207         13.0719623\n",
       "30  0.1848207          0.8169976\n",
       "... ...               ...       \n",
       "851 0.08015015        24.491218 \n",
       "852 0.08015015         7.535759 \n",
       "853 0.08015015        22.607278 \n",
       "854 0.08015015         4.709850 \n",
       "855 0.08015015        10.361669 \n",
       "856 0.08015015        38.620767 \n",
       "857 0.08015015        81.951384 \n",
       "858 0.08015015         6.593790 \n",
       "859 0.08015015        47.569482 \n",
       "860 0.08015015        24.491218 \n",
       "861 0.08015015         8.477729 \n",
       "862 0.08015015        11.303639 \n",
       "863 0.08015015        23.549248 \n",
       "864 0.08015015         0.000000 \n",
       "865 0.08015015        29.201068 \n",
       "866 0.08015015        24.491218 \n",
       "867 0.08015015        57.460166 \n",
       "868 0.08015015        13.187579 \n",
       "869 0.08015015        24.962203 \n",
       "870 0.08015015        33.439933 \n",
       "871 0.08015015        18.839399 \n",
       "872 0.08015015         9.419699 \n",
       "873 0.08015015        13.187579 \n",
       "874 0.08015015         2.825910 \n",
       "875 0.08015015        52.279331 \n",
       "876 0.08015015        34.852888 \n",
       "877 0.08015015        62.170016 \n",
       "878 0.08015015        10.361669 \n",
       "879 0.08015015        48.511452 \n",
       "880 0.08015015        17.426444 "
      ]
     },
     "metadata": {},
     "output_type": "display_data"
    }
   ],
   "source": [
    "# Load the processed data with associated environmental variables summarized to grid cell.\n",
    "\n",
    "library(tidyr)\n",
    "library(gridExtra)\n",
    "library(tidyverse)\n",
    "library(repr) # Plot sizes in Jupyter wrapper for R \n",
    "iws_wide <- read.csv(\"merged_id1_400_years.csv\")\n",
    "# Note processed data have sp codes in lowercase in wide format for model input\n",
    "iws_long <- gather(iws_wide, sp_id, pop, amwi:ground) \n",
    "\n",
    "eco_sp_yr <- iws_long %>%\n",
    "    group_by(eco, year_,sp_id)%>%\n",
    "    summarise(Population = sum(pop))%>%\n",
    "    left_join(., eco_area, by = \"eco\")%>%\n",
    "    mutate(density = Population/area_surveyed*10000)%>%\n",
    "    filter(sp_id %in% sp_10)"
   ]
  },
  {
   "cell_type": "markdown",
   "metadata": {
    "hide_input": false
   },
   "source": [
    "Visualize and compare distributions of the top most common species"
   ]
  },
  {
   "cell_type": "code",
   "execution_count": 14,
   "metadata": {
    "hide_input": true,
    "scrolled": false
   },
   "outputs": [
    {
     "data": {
      "image/png": "[encoded data removed]",
      "text/plain": [
       "plot without title"
      ]
     },
     "metadata": {},
     "output_type": "display_data"
    },
    {
     "data": {
      "image/png": "[encoded data removed]",
      "text/plain": [
       "plot without title"
      ]
     },
     "metadata": {},
     "output_type": "display_data"
    }
   ],
   "source": [
    "bp <- ggplot(eco_sp_yr, aes(x=eco, y=density, colour=eco)) + \n",
    "    geom_boxplot() + colColour + ggtitle(label=\"Relative Population Density Distribution\", subtitle=\"Top 10 most abundant species in Study Area\") +\n",
    "    theme(legend.position=\"bottom\",legend.direction = \"horizontal\", legend.box=\"vertical\", \n",
    "            axis.text.x = element_blank(), \n",
    "              plot.title = element_text(hjust = 0.5),\n",
    "            plot.subtitle = element_text(hjust=0.5, size=9)) + \n",
    "    ylab(\"Total Breeding Population Density per ha\") + xlab(\"Ecosection\") +\n",
    "    stat_summary(fun.y=mean, geom=\"point\", shape=5, size=2)# Add means\n",
    "\n",
    "options(repr.plot.width=7,repr.plot.height=5)\n",
    "bp + facet_wrap(. ~ toupper(sp_id), ncol=10)\n",
    "\n",
    "# Display with dynamic scale ranges\n",
    "options(repr.plot.width=8,repr.plot.height=13)\n",
    "bp + facet_wrap(. ~ toupper(sp_id), ncol=2, scales=\"free\") + geom_point(size=0.4)\n",
    "\n"
   ]
  },
  {
   "cell_type": "code",
   "execution_count": 35,
   "metadata": {
    "hide_input": true,
    "scrolled": false
   },
   "outputs": [
    {
     "name": "stderr",
     "output_type": "stream",
     "text": [
      "`geom_smooth()` using method = 'loess' and formula 'y ~ x'\n"
     ]
    },
    {
     "data": {
      "image/png": "[encoded data removed]",
      "text/plain": [
       "plot without title"
      ]
     },
     "metadata": {},
     "output_type": "display_data"
    }
   ],
   "source": [
    "sp_yr <- ggplot(eco_sp_yr, aes(x = year_, y = density, colour = eco, shape = eco)) + \n",
    "    geom_point() + geom_smooth(method = \"auto\", se = FALSE, size = 0.7) + colShape + \n",
    "    colColour + ggtitle(label = \"Species Distributions\", subtitle = \"2007 to 2017\") + \n",
    "    theme(legend.position = \"bottom\", legend.direction = \"horizontal\", legend.box = \"vertical\", \n",
    "        plot.title = element_text(hjust = 0.5), plot.subtitle = element_text(hjust = 0.5, \n",
    "            size = 9)) + ylab(\"Total Breeding Population Density per ha\") + xlab(\"Year (2007-2017)\")\n",
    "\n",
    "# Display with dynamic scale ranges\n",
    "options(repr.plot.width = 8, repr.plot.height = 13)\n",
    "sp_yr + facet_wrap(. ~ toupper(sp_id), ncol = 2, scales = \"free\") + geom_point(size = 0.4)"
   ]
  },
  {
   "cell_type": "markdown",
   "metadata": {},
   "source": [
    "Table view of the Top 10 most abundant species within each Ecosection"
   ]
  },
  {
   "cell_type": "code",
   "execution_count": 33,
   "metadata": {
    "hide_input": true
   },
   "outputs": [
    {
     "name": "stdout",
     "output_type": "stream",
     "text": [
      "[1] \"Top 10 Cumulative Most Abundant Species by Ecosection\"\n"
     ]
    },
    {
     "data": {
      "text/html": [
       "<table>\n",
       "<caption>A data.frame: 10 × 9</caption>\n",
       "<thead>\n",
       "\t<tr><th scope=col>ranks</th><th scope=col>BAU</th><th scope=col>BUB</th><th scope=col>CAB</th><th scope=col>CHP</th><th scope=col>NAU</th><th scope=col>NEL</th><th scope=col>QUL</th><th scope=col>WCU</th></tr>\n",
       "\t<tr><th scope=col>&lt;int&gt;</th><th scope=col>&lt;fct&gt;</th><th scope=col>&lt;fct&gt;</th><th scope=col>&lt;fct&gt;</th><th scope=col>&lt;fct&gt;</th><th scope=col>&lt;fct&gt;</th><th scope=col>&lt;fct&gt;</th><th scope=col>&lt;fct&gt;</th><th scope=col>&lt;fct&gt;</th></tr>\n",
       "</thead>\n",
       "<tbody>\n",
       "\t<tr><td> 1</td><td>MALL</td><td>MALL</td><td>MALL</td><td>MALL</td><td>MALL</td><td>MALL</td><td>MALL</td><td>MALL</td></tr>\n",
       "\t<tr><td> 2</td><td>RNDU</td><td>CAGO</td><td>CAGO</td><td>GWTE</td><td>RNDU</td><td>RNDU</td><td>CAGO</td><td>GWTE</td></tr>\n",
       "\t<tr><td> 3</td><td>BAGO</td><td>RNDU</td><td>BUFF</td><td>RNDU</td><td>BUFF</td><td>BUFF</td><td>RNDU</td><td>CAGO</td></tr>\n",
       "\t<tr><td> 4</td><td>BUFF</td><td>BUFF</td><td>SCAU</td><td>BUFF</td><td>GWTE</td><td>CAGO</td><td>BUFF</td><td>RNDU</td></tr>\n",
       "\t<tr><td> 5</td><td>GWTE</td><td>GWTE</td><td>RNDU</td><td>CAGO</td><td>CAGO</td><td>GWTE</td><td>BAGO</td><td>SCAU</td></tr>\n",
       "\t<tr><td> 6</td><td>CAGO</td><td>BAGO</td><td>GWTE</td><td>SCAU</td><td>BAGO</td><td>BAGO</td><td>GWTE</td><td>BUFF</td></tr>\n",
       "\t<tr><td> 7</td><td>COME</td><td>AMWI</td><td>GADW</td><td>AMWI</td><td>AMWI</td><td>BWTE</td><td>HOME</td><td>AMWI</td></tr>\n",
       "\t<tr><td> 8</td><td>HOME</td><td>HOME</td><td>AMWI</td><td>NSHO</td><td>HOME</td><td>HOME</td><td>AMWI</td><td>BAGO</td></tr>\n",
       "\t<tr><td> 9</td><td>BWTE</td><td>COME</td><td>NSHO</td><td>BAGO</td><td>SCAU</td><td>NSHO</td><td>NSHO</td><td>NSHO</td></tr>\n",
       "\t<tr><td>10</td><td>AMWI</td><td>BWTE</td><td>BWTE</td><td>BWTE</td><td>NSHO</td><td>AMWI</td><td>SCAU</td><td>WFGO</td></tr>\n",
       "</tbody>\n",
       "</table>\n"
      ],
      "text/latex": [
       "A data.frame: 10 × 9\n",
       "\\begin{tabular}{r|lllllllll}\n",
       " ranks & BAU & BUB & CAB & CHP & NAU & NEL & QUL & WCU\\\\\n",
       " <int> & <fct> & <fct> & <fct> & <fct> & <fct> & <fct> & <fct> & <fct>\\\\\n",
       "\\hline\n",
       "\t  1 & MALL & MALL & MALL & MALL & MALL & MALL & MALL & MALL\\\\\n",
       "\t  2 & RNDU & CAGO & CAGO & GWTE & RNDU & RNDU & CAGO & GWTE\\\\\n",
       "\t  3 & BAGO & RNDU & BUFF & RNDU & BUFF & BUFF & RNDU & CAGO\\\\\n",
       "\t  4 & BUFF & BUFF & SCAU & BUFF & GWTE & CAGO & BUFF & RNDU\\\\\n",
       "\t  5 & GWTE & GWTE & RNDU & CAGO & CAGO & GWTE & BAGO & SCAU\\\\\n",
       "\t  6 & CAGO & BAGO & GWTE & SCAU & BAGO & BAGO & GWTE & BUFF\\\\\n",
       "\t  7 & COME & AMWI & GADW & AMWI & AMWI & BWTE & HOME & AMWI\\\\\n",
       "\t  8 & HOME & HOME & AMWI & NSHO & HOME & HOME & AMWI & BAGO\\\\\n",
       "\t  9 & BWTE & COME & NSHO & BAGO & SCAU & NSHO & NSHO & NSHO\\\\\n",
       "\t 10 & AMWI & BWTE & BWTE & BWTE & NSHO & AMWI & SCAU & WFGO\\\\\n",
       "\\end{tabular}\n"
      ],
      "text/markdown": [
       "\n",
       "A data.frame: 10 × 9\n",
       "\n",
       "| ranks &lt;int&gt; | BAU &lt;fct&gt; | BUB &lt;fct&gt; | CAB &lt;fct&gt; | CHP &lt;fct&gt; | NAU &lt;fct&gt; | NEL &lt;fct&gt; | QUL &lt;fct&gt; | WCU &lt;fct&gt; |\n",
       "|---|---|---|---|---|---|---|---|---|\n",
       "|  1 | MALL | MALL | MALL | MALL | MALL | MALL | MALL | MALL |\n",
       "|  2 | RNDU | CAGO | CAGO | GWTE | RNDU | RNDU | CAGO | GWTE |\n",
       "|  3 | BAGO | RNDU | BUFF | RNDU | BUFF | BUFF | RNDU | CAGO |\n",
       "|  4 | BUFF | BUFF | SCAU | BUFF | GWTE | CAGO | BUFF | RNDU |\n",
       "|  5 | GWTE | GWTE | RNDU | CAGO | CAGO | GWTE | BAGO | SCAU |\n",
       "|  6 | CAGO | BAGO | GWTE | SCAU | BAGO | BAGO | GWTE | BUFF |\n",
       "|  7 | COME | AMWI | GADW | AMWI | AMWI | BWTE | HOME | AMWI |\n",
       "|  8 | HOME | HOME | AMWI | NSHO | HOME | HOME | AMWI | BAGO |\n",
       "|  9 | BWTE | COME | NSHO | BAGO | SCAU | NSHO | NSHO | NSHO |\n",
       "| 10 | AMWI | BWTE | BWTE | BWTE | NSHO | AMWI | SCAU | WFGO |\n",
       "\n"
      ],
      "text/plain": [
       "   ranks BAU  BUB  CAB  CHP  NAU  NEL  QUL  WCU \n",
       "1   1    MALL MALL MALL MALL MALL MALL MALL MALL\n",
       "2   2    RNDU CAGO CAGO GWTE RNDU RNDU CAGO GWTE\n",
       "3   3    BAGO RNDU BUFF RNDU BUFF BUFF RNDU CAGO\n",
       "4   4    BUFF BUFF SCAU BUFF GWTE CAGO BUFF RNDU\n",
       "5   5    GWTE GWTE RNDU CAGO CAGO GWTE BAGO SCAU\n",
       "6   6    CAGO BAGO GWTE SCAU BAGO BAGO GWTE BUFF\n",
       "7   7    COME AMWI GADW AMWI AMWI BWTE HOME AMWI\n",
       "8   8    HOME HOME AMWI NSHO HOME HOME AMWI BAGO\n",
       "9   9    BWTE COME NSHO BAGO SCAU NSHO NSHO NSHO\n",
       "10 10    AMWI BWTE BWTE BWTE NSHO AMWI SCAU WFGO"
      ]
     },
     "metadata": {},
     "output_type": "display_data"
    }
   ],
   "source": [
    "# Get the top 5 most common species in each ecosection\n",
    "# sp_id contains species guilds as well as single species\n",
    "sp_long <- iws_wide[,1:grep(\"wodu\", colnames(iws_wide))] %>%\n",
    "    gather(sp_id, pop, amwi:wodu) %>%\n",
    "    group_by(eco, sp_id)%>%\n",
    "    summarise(pop=sum(pop))%>%\n",
    "    group_by(eco)%>%\n",
    "    mutate(ranks = dense_rank(desc(pop)))%>%\n",
    "    filter(ranks<=10)%>%\n",
    "    select(-c(pop))%>%\n",
    "    spread(eco, sp_id) %>%\n",
    "    group_by(ranks)\n",
    "\n",
    "print(\"Top 10 Cumulative Most Abundant Species by Ecosection\")\n",
    "# function to convert lowercase to upper\n",
    "data.frame(lapply(sp_long, function(v) {\n",
    "  if (is.character(v)) return(toupper(v))\n",
    "  else return(v)\n",
    "}))\n",
    "\n"
   ]
  },
  {
   "cell_type": "code",
   "execution_count": 17,
   "metadata": {
    "hide_input": true
   },
   "outputs": [
    {
     "name": "stderr",
     "output_type": "stream",
     "text": [
      "                                                                              \r"
     ]
    }
   ],
   "source": [
    "# Animation of facet_grid scatterplot - too dizzying really.\n",
    "\n",
    "g <- ggplot(eco_sp_yr, (aes(x = eco ,y = density, size = density, colour=eco))) +\n",
    "    ggtitle(\"Population Density in Ecosection by Year\") +\n",
    "      geom_point() + colColour + theme(legend.position=\"bottom\",legend.direction = \"horizontal\", legend.box=\"vertical\", \n",
    "                                  axis.text.x = element_blank(), \n",
    "                                    plot.title = element_text(hjust = 0.5),\n",
    "                                    plot.subtitle = element_text(hjust=0.5, size=17))+ \n",
    "       xlab(\"Ecosection\") + ylab(\"Total Breeding Population Density per ha\")\n",
    "\n",
    "\n",
    "g + facet_wrap(. ~ toupper(sp_id), ncol=3) + transition_time(year_) + labs(subtitle = '{frame_time}')"
   ]
  },
  {
   "cell_type": "markdown",
   "metadata": {},
   "source": [
    "## Evaluation of Modelling Approaches and Data Inputs\n",
    "\n",
    "Points of consideration for the modelling framework, data inputs, and their interaction\n",
    "\n",
    "#### Data Properties\n",
    "* Accuracy and uncertainty\n",
    "* Data acquisition and availability\n",
    "* Logical consistency and timeliness\n",
    "* Scale, extent and resolution \n",
    "* Direct vs Indirect \n",
    "* Mechanisitic vs correlated \n",
    "* Ecological and physiological\n",
    "\n",
    "####  Model Properties\n",
    "* Predictive vs Explanatory (Random Forest and Regression-based approaches)\n",
    "* Intepretation - scale of analyses and applications\n",
    "\n"
   ]
  },
  {
   "cell_type": "markdown",
   "metadata": {
    "hide_input": true
   },
   "source": [
    "#### Waterfowl Survey Observation data\n",
    "##### Weaknesses\n",
    "* Positional uncertainty of observation data\n",
    "* Inconsistency of survey methods - technological change\n",
    "* Survey conditions (climate and weather-dependent, pilot experience)\n",
    "* Relative coverage - 400m wide strip transects spaced 10 miles apart (~2.5% study area)\n",
    "* Inconsistent with methods of North American Breeding Waterfowl Habitat and Population Survey (1955-present)\n",
    "\n",
    "##### Strengths\n",
    "* Consistent and highly experienced observers \n",
    "* Continuous, annual basis since 2006 \n",
    "* Large database ~ 30,000+ \n",
    "* Large extent ~ 10,000,000+ ha (~40,000+ sq miles)\n"
   ]
  },
  {
   "cell_type": "markdown",
   "metadata": {},
   "source": [
    "## Random Forest - Overview of steps\n",
    "1. Random forest approach selected for predictive power\n",
    "2. Tool selection\n",
    "    * 'cforest' party package - conditional inference trees\n",
    "    * 'randomForest' - favours continuous variables and variables with many categories\n",
    "    * 'Forest-based Classification and Regression' ArcGIS Pro v2.2+\n",
    "3. Variable selection\n",
    "4. Data processing\n",
    "5. Model evaluation\n",
    "     * Model stability\n",
    "     * Model accuracy\n",
    " \n",
    "<a href=https://core.ac.uk/download/pdf/12170130.pdf> <font size = -2>Strobl et al, 2009</font></a>  "
   ]
  },
  {
   "cell_type": "code",
   "execution_count": null,
   "metadata": {},
   "outputs": [],
   "source": [
    "Variab"
   ]
  },
  {
   "cell_type": "markdown",
   "metadata": {},
   "source": [
    "### Random Forest Model Evaluation\n",
    "\n",
    "##### Model Stability - Variable Important Measures (varimp)\n",
    "* Subset data into training, validate and test subsets (70, 30, 30%)\n",
    "* Run models with different seeds\n",
    "* Compare ranks of varimp ('SuperRanker') \n",
    "* Evaluate "
   ]
  },
  {
   "cell_type": "markdown",
   "metadata": {},
   "source": [
    "<sub>Toggle cell below for model evalution code - note data not included in notebook<sub>"
   ]
  },
  {
   "cell_type": "code",
   "execution_count": null,
   "metadata": {
    "hide_input": false
   },
   "outputs": [],
   "source": [
    "# Sequential rank agreement methods for comparison of ranked lists\n",
    "# https://github.com/tagteam/SuperRanker\n",
    "\n",
    "fgcRequire <- function(pkg) {\n",
    "  if(pkg %in% rownames(installed.packages()) == FALSE) {\n",
    "    install.packages(pkg)\n",
    "  }\n",
    "}\n",
    "\n",
    "fgcRequire(\"devtools\")\n",
    "library(devtools)\n",
    "\n",
    "install_github('TagTeam/SuperRanker')\n",
    "library(SuperRanker)  # For the SuperRanker package\n",
    "\n",
    "fgcRequire(\"dplyr\")\n",
    "library(dplyr)\n",
    "\n",
    "# cforest data model - predict type = 'response'\n",
    "wdA <- \"../results-seed-47\"\n",
    "wdB <- \"../results-seed-742938\"\n",
    "#wdC <- \"../results-seed-42\"\n",
    "\n",
    "## ranking of named predictor ranks\n",
    "# rank1 <- v1 %>%\n",
    "#     mutate(ranks = dense_rank(desc(vi)))\n",
    "# rank2 <- v2 %>%\n",
    "#     mutate(ranks = dense_rank(desc(vi)))\n",
    "# compare <- merge(rank, rank2, by = \"X\")\n",
    "# ordered <- compare %>%\n",
    "#    arrange(ranks.x)\n",
    "#ordered$dif <- abs(ordered$ranks.x - ordered$ranks.y)\n",
    "# ordered\n",
    "\n",
    "af <- list.files(wdA, \"*.csv$\")\n",
    "bf <- list.files(wdB, \"*.csv$\")\n",
    "\n",
    "if (length(intersect(af,bf)) != length(bf)) { \n",
    "  print(\"unpaired input sets\")\n",
    "  return()\n",
    "}\n",
    "\n",
    "f <-  af[1] # DEBUG\n",
    "lapply(af, function(f) {\n",
    "  setwd(wdA)\n",
    "  a <- read.csv(f)\n",
    "  sa <- order(a$vi, decreasing = TRUE)\n",
    "  \n",
    "  setwd(wdB)\n",
    "  b <- read.csv(f)\n",
    "  sb <- order(b$vi, decreasing = TRUE)\n",
    "\n",
    "  i <- cbind(sa,sb)\n",
    "  mlist <- matrix(i,ncol=2)\n",
    "  #rank <- overlap(mlist)\n",
    "  rank <- smooth_sra(mlist)\n",
    "  \n",
    "  print(paste(\"Result:\", f))\n",
    "  print(rank)\n",
    "  ul <- cbind(rank$lower,rank$upper)\n",
    "  \n",
    "  apply(ul, 1, function(r) {\n",
    "    if (r[1] != r[2]) {   \n",
    "    }\n",
    "   }\n",
    "  })    \n",
    "})\n",
    "\n",
    "names(rank)"
   ]
  },
  {
   "cell_type": "markdown",
   "metadata": {},
   "source": [
    "### Variable Selection methods???"
   ]
  },
  {
   "cell_type": "code",
   "execution_count": null,
   "metadata": {},
   "outputs": [],
   "source": []
  },
  {
   "cell_type": "markdown",
   "metadata": {},
   "source": [
    "## Tools and technologies\n",
    "\n",
    "* Jupyter notebook - computational notebook \n",
    "* tidyverse - family of R packages sharing a common syntax (dplyr, ggplot2, purr, tidyr, etc) \n",
    "* rpy2 - interface to R from within Python - switch between R and Python with R magics \n",
    "* R-ArcGIS Bridge - interface ArcGIS and R (R v 3.2.2+, Python Script Toolbox\n",
    "* R-markdown\n",
    "* Python Toolbox -  "
   ]
  },
  {
   "cell_type": "code",
   "execution_count": null,
   "metadata": {},
   "outputs": [],
   "source": []
  }
 ],
 "metadata": {
  "celltoolbar": "Raw Cell Format",
  "kernelspec": {
   "display_name": "R",
   "language": "R",
   "name": "ir"
  },
  "language_info": {
   "codemirror_mode": "r",
   "file_extension": ".r",
   "mimetype": "text/x-r-source",
   "name": "R",
   "pygments_lexer": "r",
   "version": "3.5.1"
  }
 },
 "nbformat": 4,
 "nbformat_minor": 2
}
