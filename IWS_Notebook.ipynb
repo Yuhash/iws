{
 "cells": [
  {
   "cell_type": "markdown",
   "metadata": {},
   "source": [
    "# Evaluating Environmental Predictors of Breeding Waterfowl Populations in the Central Interior Plateau of British Columbia \n",
    "\n",
    "## Adventures in machine-learning and regression-based population models\n",
    "![image](overview_survey_area_extent.png)\n"
   ]
  },
  {
   "cell_type": "markdown",
   "metadata": {},
   "source": [
    "### Overview - General Steps\n",
    "1. Question - What is the distribution of species within the Central Interior Plateau? \n",
    "    * Identify main drivers\n",
    "    * Identify areas of interest - diversity and abundance\n",
    "    * Inform conservation planning\n",
    "2. Data exploration and data wrangling\n",
    "3. Identify analysis methods and tools\n",
    "4. Perform analysis\n",
    "5. Examine and refine\n",
    "\n",
    "\n",
    "<a href=\"https://community.esri.com/groups/esri-training/blog/2018/10/19/use-the-five-step-gis-analysis-process\"> <font size = -2>Modified from ESRI 5-Step GIS Analysis Process</font></a>\n"
   ]
  },
  {
   "cell_type": "markdown",
   "metadata": {
    "hide_input": true
   },
   "source": [
    "<style type=\"text/css\">\n",
    ".input_hidden{\n",
    "    display: none\n",
    "</style>"
   ]
  },
  {
   "cell_type": "markdown",
   "metadata": {
    "hide_input": false,
    "tags": [
     "hide_input"
    ]
   },
   "source": [
    "<style type=\"text/css\"> # CSS hack to hide the cell input\n",
    ".input_hidden{\n",
    "    display: none\n",
    "\n",
    "\n",
    "Issues tracking:\n",
    "\n",
    "1. IRKernel loading packages from later version of R (3.5.3 instead of 3.5.1) - must change kernel spec as described here: https://github.com/IRkernel/IRkernel/issues/183\n",
    "\n",
    "\n",
    "2. jupyterlab extension to close cells * requires installation of nodejs and npm \n",
    "    conda install nodejs\n",
    "    conda install npm \n",
    "   \n",
    "    - required update of pip\n",
    "    - which required adding forge channel first:\n",
    "        conda config --add channels conda-forge \n",
    "        conda update pip\n",
    "     now\n",
    "        conda install nodejs\n",
    "        conda install npm\n",
    "     but required update of core-js with \n",
    "         npm install --save core-js@^3\n",
    "     \n",
    "     then follow: https://jupyter-contrib-nbextensions.readthedocs.io/en/latest/install.html and run\n",
    "         conda install -c conda-forge jupyter_contrib_nbextensions\n",
    "     then \n",
    "         jupyter contrib nbextension install --sys-prefix # for system wide esp. useful in virtual env\n",
    "     then enable the path but first list available Jupyter paths \n",
    "         jupyter --paths\n",
    "\n",
    "     Check jupyterlab extensions with \n",
    "        jupyter nbextension list\n",
    "    \n",
    "    }\n",
    "</style>\n"
   ]
  },
  {
   "cell_type": "code",
   "execution_count": null,
   "metadata": {
    "code_folding": [],
    "hide_input": false
   },
   "outputs": [],
   "source": [
    "# Housekeeping - manage packages \n",
    "version\n",
    "Packages <- c(\"dplyr\", \"stringr\", \"ggplot2\", \"gganimate\", \"RColorBrewer\", \"reshape2\", \"gridExtra\", \"tidyverse\",\n",
    "             \"repr\", \"knitr\")\n",
    "# # Install packages if not installed \n",
    "# if (!require(\"pacman\")) install.packages(\"pacman\")\n",
    "#     pacman::p_load(Packages)\n",
    "\n",
    "lapply(Packages, require, character.only=TRUE)\n",
    "(.packages)() # List loaded packages"
   ]
  },
  {
   "cell_type": "markdown",
   "metadata": {
    "hide_input": true
   },
   "source": [
    "Here is a look at the survey data--the head and tail views of the data frame."
   ]
  },
  {
   "cell_type": "code",
   "execution_count": null,
   "metadata": {
    "hide_input": false
   },
   "outputs": [],
   "source": [
    "setwd(\"C:/Users/hashimotoy/Documents/MGIS/Documentation/Reports/Jupyter\")\n",
    "df <- read.csv(\"iws_pts_filtered_20190620.csv\" )\n",
    "\n",
    "head(df)\n",
    "tail(df)\n",
    "nrow(df)"
   ]
  },
  {
   "cell_type": "markdown",
   "metadata": {
    "hide_input": true
   },
   "source": [
    "### Data Exploration - Species Observation Records"
   ]
  },
  {
   "cell_type": "code",
   "execution_count": null,
   "metadata": {
    "hide_input": false
   },
   "outputs": [],
   "source": [
    "n_sp <- unique(df$sp_id)\n",
    "\n",
    "sp <- df %>%\n",
    "    group_by(sp_id) %>%\n",
    "    summarise(Population = sum(pop))\n",
    "\n",
    "sp_top_5 <- sp %>%\n",
    "    arrange(desc(Population))%>%\n",
    "    top_n(5)\n",
    "\n",
    "sp_bot_5 <- sp %>%\n",
    "    arrange(Population)%>%\n",
    "    top_n(-5)\n",
    "\n",
    "sp_top_10 <- sp %>%\n",
    "    arrange(desc(Population))%>%\n",
    "    top_n(10)\n",
    "\n",
    "print(paste(\"Total distinct species of waterfowl : \",length(n_sp)))\n",
    "writeLines(\"\\n5 MOST common species:\")\n",
    "sp_top_5\n",
    "writeLines(\"\\n5 LEAST common species:\") \n",
    "sp_bot_5   \n",
    "\n"
   ]
  },
  {
   "cell_type": "markdown",
   "metadata": {
    "hide_input": true
   },
   "source": [
    "What are the top 15 most common species? "
   ]
  },
  {
   "cell_type": "code",
   "execution_count": null,
   "metadata": {
    "hide_input": false,
    "scrolled": false
   },
   "outputs": [],
   "source": [
    "sp <- df %>% group_by(sp_id) %>% summarise(Population = sum(pop)) %>% arrange(desc(Population)) %>% \n",
    "    top_n(15)\n",
    "# sp\n",
    "p <- ggplot(data = sp, aes(x = reorder(sp_id, -Population), y = Population)) + geom_bar(stat = \"identity\", \n",
    "    fill = \"gray40\") + ggtitle(\"Cumulative Indicated Breeding Population\", subtitle = \"Top 15 Most Abundant Species 2007-2017\") + \n",
    "    xlab(\"Species\") + geom_text(aes(label = Population), size = 3, hjust = 0.5, vjust = -0.4) + \n",
    "    theme(plot.title = element_text(hjust = 0.5), plot.subtitle = element_text(hjust = 0.5), \n",
    "        axis.text.x = element_text(angle = 45, vjust = 0.5))\n",
    "options(repr.plot.width = 6.5, repr.plot.height = 4)\n",
    "p"
   ]
  },
  {
   "cell_type": "markdown",
   "metadata": {
    "hide_input": true
   },
   "source": [
    "What is the distribution of species within ecosections?"
   ]
  },
  {
   "cell_type": "code",
   "execution_count": null,
   "metadata": {
    "hide_input": false
   },
   "outputs": [],
   "source": [
    "eco_sp <- df %>% group_by(eco) %>% summarise(Population = sum(pop)) %>% arrange(desc(Population))\n",
    "\n",
    "# Create a custom colour-blind-friendly scale\n",
    "library(RColorBrewer)\n",
    "cbp1 <- c(\"#999999\", \"#E69F00\", \"#56B4E9\", \"#009E73\", \"#F0E442\", \"#0072B2\", \"#D55E00\", \n",
    "    \"#CC79A7\")\n",
    "\n",
    "names(cbp1) <- levels(eco_sp$eco)\n",
    "colFill <- scale_fill_manual(names(cbp1), values = cbp1)\n",
    "colColour <- scale_colour_manual(name = \"ECO\", names(cbp1), values = cbp1)\n",
    "\n",
    "g <- ggplot(eco_sp, aes(x = reorder(eco, -Population), y = Population, fill = eco)) + \n",
    "    geom_bar(stat = \"identity\") + ggtitle(\"Total Cumulative Indicated Breeding Population by Ecosection \\n 2007-2017\") + \n",
    "    xlab(\"Ecosection\") + labs(color = \"Ecosection\") + colFill + geom_text(aes(label = Population), \n",
    "    size = 2.5, hjust = 0.5, vjust = -0.5) + theme(axis.text.x = element_text(angle = 45, \n",
    "    vjust = 0.5), plot.title = element_text(hjust = 0.5), legend.position = \"none\")\n",
    "options(repr.plot.width = 6, repr.plot.height = 4)\n",
    "g"
   ]
  },
  {
   "cell_type": "markdown",
   "metadata": {},
   "source": [
    "The Cariboo Basin (CAB) is clearly a very important Ecosection for breeding waterfowl populations especially when taking the Ecosection area into account as visualized by population density below."
   ]
  },
  {
   "cell_type": "code",
   "execution_count": null,
   "metadata": {
    "hide_input": false
   },
   "outputs": [],
   "source": [
    "eco_area <- read.csv(\"eco_transect_area_summary.csv\")\n",
    "eco_p <- merge(eco_sp, eco_area)\n",
    "eco_p$p_density <- eco_p$Population/eco_p$area_surveyed*10000\n",
    "\n",
    "g <- ggplot(eco_p, aes(x=reorder(eco, -p_density),y=p_density, fill=eco)) + geom_bar(stat=\"identity\") + \n",
    "\n",
    "    ggtitle(label=\"Cumulative Indicated Breeding Population Density\", subtitle=\"by Ecosection 2007-17\") + colFill +\n",
    "    geom_text(aes(label=round(p_density, digits=0)), size=3, hjust=0.5, vjust=-0.5) +\n",
    "    xlab(\"Ecosection\") + ylab(\"Breeding Population per Hectare\") + \n",
    "    theme(axis.text.x = element_text(angle=45,vjust=.5), \n",
    "        plot.title = element_text(hjust=0.5),\n",
    "        plot.subtitle = element_text(hjust=0.5), \n",
    "        legend.position = \"none\")\n",
    "options(repr.plot.width=6,repr.plot.height=4)\n",
    "g\n"
   ]
  },
  {
   "cell_type": "markdown",
   "metadata": {},
   "source": [
    "How does the population density vary through time?"
   ]
  },
  {
   "cell_type": "code",
   "execution_count": null,
   "metadata": {
    "hide_input": false,
    "scrolled": true
   },
   "outputs": [],
   "source": [
    "eco_yr <- df %>% group_by(eco, year_) %>% summarise(pop = sum(pop)) %>% left_join(., \n",
    "    eco_area, by = \"eco\") %>% mutate(density = pop/area_surveyed * 10000)\n",
    "\n",
    "shp1 <- c(5,6,8,15:19)\n",
    "colShape <- scale_shape_manual(name = \"ECO\", names(cbp1), values = shp1)\n",
    "\n",
    "# #Plot the outcome\n",
    "g <- ggplot(eco_yr, aes(year_, density, colour = eco, shape = eco)) + ggtitle(\"Population Density in Ecosection by Year\", \n",
    "    subtitle = \"All Waterfowl\") + geom_point() + geom_line(size = 0.5) + colShape + \n",
    "    colColour + theme(legend.position = \"bottom\", legend.direction = \"horizontal\", \n",
    "    legend.box = \"vertical\", axis.text.x = element_blank(), plot.title = element_text(hjust = 0.5), \n",
    "    plot.subtitle = element_text(hjust = 0.5)) + xlab(\"Ecosection\") + ylab(\"Total Breeding Population Density per ha\")\n",
    "options(repr.plot.width = 6, repr.plot.height = 4)\n",
    "g"
   ]
  },
  {
   "cell_type": "markdown",
   "metadata": {
    "hide_input": false
   },
   "source": [
    "Temporal animations can provide a different perspective. Animated lines, dots and bar charts below. I got carried away obviously. "
   ]
  },
  {
   "cell_type": "code",
   "execution_count": null,
   "metadata": {
    "hide_input": false
   },
   "outputs": [],
   "source": [
    "## 'gganimate' Line chart with dots using 'transition_reveal'\n",
    "g <- ggplot(eco_yr, aes(year_, density, group = eco, shape = eco, colour = eco)) + labs(title = \"Population Density in Ecosection by Year\") + \n",
    "    geom_point(size = 4) + geom_line(size = 1) + colShape + colColour + theme(legend.position = \"bottom\", \n",
    "    axis.text.x = element_text(angle = 45, vjust = 0.5), plot.title = element_text(hjust = 0.5), \n",
    "    plot.subtitle = element_text(hjust = 0.5, size = 17)) + scale_size(guide = FALSE) + \n",
    "    xlab(\"Ecosection\") + ylab(\"Total Breeding Population Density per ha\")\n",
    "g + geom_point((aes(group = seq_along(year_), size = 2))) + transition_reveal(year_) + \n",
    "    labs(subtitle = \"{frame_along}\")\n",
    "\n",
    "## Dot plot with 'shadow_wake' and 'transition_time'\n",
    "g <- ggplot(eco_yr, aes(eco, density, size = density, colour = eco)) + geom_point(size = 9) + \n",
    "    colColour + ggtitle(label = \"Population Density in Ecosection by Year\") + theme(legend.position = \"bottom\", \n",
    "    axis.text.x = element_text(angle = 45, vjust = 0.5, size = 9), plot.title = element_text(hjust = 0.5), \n",
    "    plot.subtitle = element_text(hjust = 0.5, size = 17)) + xlab(\"Ecosection\") + \n",
    "    ylab(\"Total Breeding Population Density per ha\")\n",
    "g + transition_time(year_) + labs(subtitle = \"{frame_time}\") + shadow_wake(wake_length = 0.2, \n",
    "    alpha = FALSE)\n",
    "\n",
    "## Bar chart with 'transition_time'\n",
    "g <- ggplot(eco_yr, aes(eco, density, fill = eco)) + geom_bar(stat = \"identity\") + \n",
    "    colFill + theme(legend.position = \"bottom\", legend.direction = \"horizontal\", \n",
    "    legend.box = \"vertical\", axis.text.x = element_text(angle = 45, vjust = 0.5, \n",
    "        size = 9), plot.title = element_text(hjust = 0.5), plot.subtitle = element_text(hjust = 0.5, \n",
    "        size = 17)) + xlab(\"Ecosection\") + ylab(\"Total Breeding Population Density per ha\")\n",
    "g + transition_time(year_) + labs(title = \"Population Density in Ecosection by Year\", \n",
    "    subtitle = \"{frame_time}\")"
   ]
  },
  {
   "cell_type": "markdown",
   "metadata": {
    "hide_input": false
   },
   "source": [
    "![SegmentLocal](popd_eco_yr_line.gif \"segment\")"
   ]
  },
  {
   "cell_type": "markdown",
   "metadata": {},
   "source": [
    "![SegmentLocal](popd_eco_yr_point.gif \"segment\")"
   ]
  },
  {
   "cell_type": "markdown",
   "metadata": {},
   "source": [
    "![SegmentLocal](popd_eco_yr_bar.gif \"segment\")"
   ]
  },
  {
   "cell_type": "markdown",
   "metadata": {
    "hide_input": false
   },
   "source": [
    "Let's drill down to the species distributions within Ecosections focusing on the top 10 most abundant."
   ]
  },
  {
   "cell_type": "code",
   "execution_count": null,
   "metadata": {
    "hide_input": false
   },
   "outputs": [],
   "source": [
    "sp_10 <- factor(sp_top_10$sp_id) # Unless factor original 31 levels are retained\n",
    "sp_10\n",
    "sp_10 <- tolower(sp_10) "
   ]
  },
  {
   "cell_type": "code",
   "execution_count": null,
   "metadata": {
    "hide_input": false
   },
   "outputs": [],
   "source": [
    "# Load the processed data with associated environmental variables summarized to grid cell.\n",
    "\n",
    "library(tidyr)\n",
    "library(gridExtra)\n",
    "library(tidyverse)\n",
    "library(repr) # Plot sizes in Jupyter wrapper for R \n",
    "iws_wide <- read.csv(\"merged_id1_400_years.csv\")\n",
    "# Note processed data have sp codes in lowercase in wide format for model input\n",
    "iws_long <- gather(iws_wide, sp_id, pop, amwi:ground) \n",
    "\n",
    "eco_sp_yr <- iws_long %>%\n",
    "    group_by(eco, year_,sp_id)%>%\n",
    "    summarise(Population = sum(pop))%>%\n",
    "    left_join(., eco_area, by = \"eco\")%>%\n",
    "    mutate(density = Population/area_surveyed*10000)%>%\n",
    "    filter(sp_id %in% sp_10)\n",
    "\n",
    "head(eco_sp_yr)"
   ]
  },
  {
   "cell_type": "markdown",
   "metadata": {
    "hide_input": false
   },
   "source": [
    "Visualize and compare distributions of the top most common species"
   ]
  },
  {
   "cell_type": "code",
   "execution_count": null,
   "metadata": {
    "hide_input": false,
    "scrolled": false
   },
   "outputs": [],
   "source": [
    "bp <- ggplot(eco_sp_yr, aes(x=eco, y=density, colour=eco)) + \n",
    "    geom_boxplot() + colColour + ggtitle(label=\"Relative Population Density Distribution\", subtitle=\"Top 10 most abundant species in Study Area\") +\n",
    "    theme(legend.position=\"bottom\",legend.direction = \"horizontal\", legend.box=\"vertical\", \n",
    "            axis.text.x = element_blank(), \n",
    "              plot.title = element_text(hjust = 0.5),\n",
    "            plot.subtitle = element_text(hjust=0.5, size=9)) + \n",
    "    ylab(\"Total Breeding Population Density per ha\") + xlab(\"Ecosection\") +\n",
    "    stat_summary(fun.y=mean, geom=\"point\", shape=5, size=2)# Add means\n",
    "\n",
    "options(repr.plot.width=7,repr.plot.height=5)\n",
    "bp + facet_wrap(. ~ toupper(sp_id), ncol=10)\n",
    "\n",
    "# Display with dynamic scale ranges\n",
    "options(repr.plot.width=8,repr.plot.height=13)\n",
    "bp + facet_wrap(. ~ toupper(sp_id), ncol=2, scales=\"free\") + geom_point(size=0.4)\n",
    "\n"
   ]
  },
  {
   "cell_type": "code",
   "execution_count": null,
   "metadata": {
    "hide_input": false,
    "scrolled": false
   },
   "outputs": [],
   "source": [
    "sp_yr <- ggplot(eco_sp_yr, aes(x = year_, y = density, colour = eco, shape = eco)) + \n",
    "    geom_point() + geom_smooth(method = \"auto\", se = FALSE, size = 0.7) + colShape + \n",
    "    colColour + ggtitle(label = \"Species Distributions\", subtitle = \"2007 to 2017\") + \n",
    "    theme(legend.position = \"bottom\", legend.direction = \"horizontal\", legend.box = \"vertical\", \n",
    "        plot.title = element_text(hjust = 0.5), plot.subtitle = element_text(hjust = 0.5, \n",
    "            size = 9)) + ylab(\"Total Breeding Population Density per ha\") + xlab(\"Year (2007-2017)\")\n",
    "\n",
    "# Display with dynamic scale ranges\n",
    "options(repr.plot.width = 8, repr.plot.height = 13)\n",
    "sp_yr + facet_wrap(. ~ toupper(sp_id), ncol = 2, scales = \"free\") + geom_point(size = 0.4)"
   ]
  },
  {
   "cell_type": "markdown",
   "metadata": {},
   "source": [
    "Table view of the Top 10 most abundant species within each Ecosection"
   ]
  },
  {
   "cell_type": "code",
   "execution_count": null,
   "metadata": {
    "hide_input": false
   },
   "outputs": [],
   "source": [
    "# Get the top 5 most common species in each ecosection\n",
    "# sp_id contains species guilds as well as single species\n",
    "sp_long <- iws_wide[,1:grep(\"wodu\", colnames(iws_wide))] %>%\n",
    "    gather(sp_id, pop, amwi:wodu) %>%\n",
    "    group_by(eco, sp_id)%>%\n",
    "    summarise(pop=sum(pop))%>%\n",
    "    group_by(eco)%>%\n",
    "    mutate(ranks = dense_rank(desc(pop)))%>%\n",
    "    filter(ranks<=10)%>%\n",
    "    select(-c(pop))%>%\n",
    "    spread(eco, sp_id) %>%\n",
    "    group_by(ranks)\n",
    "\n",
    "print(\"Top 10 Cumulative Most Abundant Species by Ecosection\")\n",
    "# function to convert lowercase to upper\n",
    "data.frame(lapply(sp_long, function(v) {\n",
    "  if (is.character(v)) return(toupper(v))\n",
    "  else return(v)\n",
    "}))\n",
    "\n"
   ]
  },
  {
   "cell_type": "code",
   "execution_count": null,
   "metadata": {
    "hide_input": true
   },
   "outputs": [],
   "source": [
    "# Animation of facet_grid scatterplot - too dizzying really.\n",
    "\n",
    "g <- ggplot(eco_sp_yr, (aes(x = eco ,y = density, size = density, colour=eco))) +\n",
    "    ggtitle(\"Population Density in Ecosection by Year\") +\n",
    "      geom_point() + colColour + theme(legend.position=\"bottom\",legend.direction = \"horizontal\", legend.box=\"vertical\", \n",
    "                                  axis.text.x = element_blank(), \n",
    "                                    plot.title = element_text(hjust = 0.5),\n",
    "                                    plot.subtitle = element_text(hjust=0.5, size=17))+ \n",
    "       xlab(\"Ecosection\") + ylab(\"Total Breeding Population Density per ha\")\n",
    "\n",
    "\n",
    "g + facet_wrap(. ~ toupper(sp_id), ncol=3) + transition_time(year_) + labs(subtitle = '{frame_time}')"
   ]
  },
  {
   "cell_type": "markdown",
   "metadata": {},
   "source": [
    "## Evaluation of Modelling Approaches and Data Inputs\n",
    "\n",
    "Points of consideration for the modelling framework, data inputs, and their interactions\n",
    "\n",
    "#### Data Properties\n",
    "* Accuracy and uncertainty\n",
    "* Data acquisition and availability\n",
    "* Logical consistency and timeliness\n",
    "* Scale, extent and resolution \n",
    "* Direct vs Indirect \n",
    "* Mechanisitic vs correlated \n",
    "* Ecological and physiological\n",
    "\n",
    "####  Model Properties\n",
    "* Predictive vs Explanatory (Random Forest and Regression-based approaches)\n",
    "* Intepretation - scale of analyses and applications\n",
    "\n",
    "<img src=\"modeling_guisan.png\" alt=\"Drawing\"/>\n"
   ]
  },
  {
   "cell_type": "markdown",
   "metadata": {
    "hide_input": true
   },
   "source": [
    "## Waterfowl Survey Observation data\n",
    "##### Weaknesses\n",
    "* Positional uncertainty of observation data\n",
    "* Inconsistency of survey methods - technological change\n",
    "* Survey conditions (climate and weather-dependent, pilot experience)\n",
    "* Relative coverage - 400m wide strip transects spaced 10 miles apart (~2.5% study area)\n",
    "* Inconsistent with methods of North American Breeding Waterfowl Habitat and Population Survey (1955-present)\n",
    "\n",
    "##### Strengths\n",
    "* Consistent and highly experienced observers \n",
    "* Continuous, annual basis since 2006 \n",
    "* Large database ~ 30,000+ \n",
    "* Large extent ~ 10,000,000+ ha (~40,000+ sq miles)\n"
   ]
  },
  {
   "cell_type": "markdown",
   "metadata": {},
   "source": [
    "<img src=\"overview_observations.png\" alt=\"Drawing\" style=\"width: 400px;\"/>"
   ]
  },
  {
   "cell_type": "markdown",
   "metadata": {},
   "source": [
    "## Explanatory Predictor Candidates\n",
    "#### Climate\n",
    "* Growing Degree Days - Primary Productivity\n",
    "* Precipitation as Snow - Hydrology is driven by snowpack \n",
    "* Spring Temperature - Timing of freshet\n",
    "* Heat Moisture Index - (MAT+10)/(MAP/1000) \n",
    "\n",
    "#### Landscape\n",
    "* Topography - aspect, slope, elevation\n",
    "* Landcover - readily available interpreted data product (CEC 2010)\n",
    "* Disturbance - roads atlas, fire database, Mountain Pine Beetle \n",
    "* Wetland habitat - lakes, rivers, wetlands\n",
    "    * smaller wetlands <10 ha ≈ increased productivity\n",
    "    * data creation driven by forestry industry\n",
    "    \n",
    "#### Land management\n",
    "* Agricultural Land Reserve\n",
    "* Protected Areas\n",
    "* Tenure\n",
    "\n",
    "<sub>See 'data_dictionary.xlsx'</sub>"
   ]
  },
  {
   "cell_type": "markdown",
   "metadata": {},
   "source": [
    "<< PLACEHOLDER PREDICTOR SURFACES "
   ]
  },
  {
   "cell_type": "markdown",
   "metadata": {},
   "source": [
    "## Random Forest - Overview of steps\n",
    "1. Random forest approach selected for predictive power\n",
    "2. Tool selection\n",
    "    * 'cforest' party package - conditional inference trees\n",
    "    * 'randomForest' - favours continuous variables and variables with many categories\n",
    "    * 'Forest-based Classification and Regression' ArcGIS Pro v2.2+\n",
    "3. Variable selection\n",
    "4. Data processing\n",
    "5. Model evaluation\n",
    "     * Model stability\n",
    "     * Model accuracy\n",
    "\n",
    "<a href=https://core.ac.uk/download/pdf/12170130.pdf><div style=\"text-align: right\"> <font size = -1>Strobl et al, 2009</font> </div></a>  "
   ]
  },
  {
   "cell_type": "markdown",
   "metadata": {},
   "source": [
    "![image](random_forest_diagram_complete_vankar_jaganath_cc.png) \n",
    "<div style=\"text-align: right\"> <sub> cc Vankar Jaganath <sub> </div>"
   ]
  },
  {
   "cell_type": "markdown",
   "metadata": {},
   "source": [
    "### Variable Selection \n",
    "##### Ecological considerations and issues\n",
    "* Climate normals vs mean vs timeliness - response lag\n",
    "* Species breeding philopatry\n",
    "* Density-dependence and interspecific competition\n",
    "* Wintering conditions\n",
    "##### Addressing correlation, collinearity and variance inflation\n",
    "* High degree of correlation in climate and ecology \n",
    "* Imbalanced classes of predictor variables\n",
    "* Spatial variability\n",
    "* *Scale\n",
    "\n"
   ]
  },
  {
   "cell_type": "markdown",
   "metadata": {},
   "source": [
    "#### Example collinearity - Climate\n",
    "* Correlation thresholds:\n",
    "    * < 0.7 (Green, 1979) \n",
    "    * < 0.8 (Menard, 2002)\n",
    "* Multicollinearity - correlation between 3+ variables even when pair-wise correlation is absent\n",
    "    * VIF threshold < 5  \n",
    "    * critical threshold 5-10 (Guisan et al, 2017)\n"
   ]
  },
  {
   "cell_type": "code",
   "execution_count": null,
   "metadata": {
    "hide_input": false
   },
   "outputs": [],
   "source": [
    "## Address Correlations, Multicollinearity and VIF\n",
    "Packages <- c('Hmisc', 'corrplot', 'car')\n",
    "lapply(Packages, require, character.only=TRUE)\n",
    "iws_wide <- read.csv(\"id1_400_years.csv\")\n",
    "# Example climate variable selection\n",
    "# pairwise correlations with 'rcorr'\n",
    "clim_var <- iws_wide[,grep(\"mean_ahm\", colnames(iws_wide)):grep(\"mean_shm\", colnames(iws_wide))]\n",
    "# Set plot size\n",
    "options(repr.plot.width=8, repr.plot.height=8)\n",
    "#Check correlations\n",
    "corr <- rcorr(as.matrix(clim_var))\n",
    "corrplot(corr$r, method='ellipse', number.cex= 10/ncol(df))\n"
   ]
  },
  {
   "cell_type": "markdown",
   "metadata": {},
   "source": [
    "Filter candidates identifying key drivers: snowpack, growing degree days (DD5), moisture index"
   ]
  },
  {
   "cell_type": "code",
   "execution_count": null,
   "metadata": {},
   "outputs": [],
   "source": [
    "library(dplyr)\n",
    "# Subset\n",
    "# grep(\"mean_shm\", colnames(iws_wide))\n",
    "# grep(\"mean_pas_wt\", colnames(iws_wide))\n",
    "# grep(\"mean_dd5\", colnames(iws_wide))\n",
    "\n",
    "clim_var_1 <- iws_wide[,c(76, 77, 67)]\n",
    "\n",
    "# Set plot size\n",
    "options(repr.plot.width=8, repr.plot.height=5)\n",
    "\n",
    "# Check correlations\n",
    "# Set plot size\n",
    "corr <- rcorr(as.matrix(clim_var_1))\n",
    "corrplot(corr$r, method='number', number.cex= 10/ncol(df))\n",
    "str(clim_var_1)\n"
   ]
  },
  {
   "cell_type": "markdown",
   "metadata": {},
   "source": [
    "![image](corr_clim_ellipse.png)\n",
    "![image](corr_landscape_ellipse.png)"
   ]
  },
  {
   "cell_type": "markdown",
   "metadata": {},
   "source": [
    "### <<PLACEHOLDER FOR FILTERED PREDICTORS"
   ]
  },
  {
   "cell_type": "code",
   "execution_count": null,
   "metadata": {},
   "outputs": [],
   "source": [
    "# Assess multicollinearity\n",
    "library(usdm)\n",
    "\n",
    "v <- vif(clim_var_1)\n",
    "vm <- v$VIF\n",
    "names(vm) <- v$Variables\n",
    "str(vm)\n",
    "dotchart(vm[order(vm)], cex = 0.6, pch = 19,\n",
    "         gcolor = \"#999999\",\n",
    "         xlab = \"varImp\")"
   ]
  },
  {
   "cell_type": "markdown",
   "metadata": {},
   "source": [
    "###  < PLACEHOLDER cforest model run example"
   ]
  },
  {
   "cell_type": "markdown",
   "metadata": {},
   "source": [
    "### Random Forest Model Evaluation\n",
    "cforest_unbiased\n",
    "    * can handle correlated predictors \n",
    "    * computationally intensive \n",
    "    * preliminary model runs without filtering correlated variables ~ 240+ hours\n",
    "##### Model Stability - Variable Important Measures (varimp)\n",
    "* Subset data into training, validate and test subsets (70, 30, 30%)\n",
    "* Run models with different seeds\n",
    "* Compare ranks of varimp ('SuperRanker') \n",
    "* Evaluate \n",
    "\n",
    "![image](varimp_multi.png)\n"
   ]
  },
  {
   "cell_type": "markdown",
   "metadata": {},
   "source": [
    "<sub>Toggle cell below for model evalution code - note raw data not included in notebook<sub>"
   ]
  },
  {
   "cell_type": "code",
   "execution_count": null,
   "metadata": {
    "hide_input": false
   },
   "outputs": [],
   "source": [
    "# Sequential rank agreement methods for comparison of ranked lists\n",
    "# https://github.com/tagteam/SuperRanker\n",
    "\n",
    "fgcRequire <- function(pkg) {\n",
    "  if(pkg %in% rownames(installed.packages()) == FALSE) {\n",
    "    install.packages(pkg)\n",
    "  }\n",
    "}\n",
    "\n",
    "fgcRequire(\"devtools\")\n",
    "library(devtools)\n",
    "\n",
    "install_github('TagTeam/SuperRanker')\n",
    "library(SuperRanker)  # For the SuperRanker package\n",
    "wd <- \"../eco_CAB/\"\n",
    "wdA <- paste0(wd,\"results-seed-47\")\n",
    "wdB <- paste0(wd,\"results-seed-742938\")\n",
    "wdC <- paste0(wd,\"results-seed-42\")\n",
    "              \n",
    "af <- list.files(wdA, \"*.csv$\")\n",
    "bf <- list.files(wdB, \"*.csv$\")\n",
    "cf <- list.files(wdB, \"*.csv$\")\n",
    "\n",
    "if (length(intersect(af,bf)) != length(bf)) { \n",
    "  print(\"unpaired input sets\")\n",
    "  return()\n",
    "}\n",
    "\n",
    "f <-  af[1] # DEBUG\n",
    "\n",
    "err <- as.data.frame(sapply(af, \n",
    "#tErr <- sapply(af, \n",
    "function(f) {\n",
    "  setwd(wdA)\n",
    "  a <- read.csv(f)\n",
    "  sa <- order(a$vi, decreasing = TRUE)\n",
    "  \n",
    "  setwd(wdB)\n",
    "  b <- read.csv(f)\n",
    "  sb <- order(b$vi, decreasing = TRUE)\n",
    "  \n",
    "  setwd(wdC)\n",
    "  c <- read.csv(f)\n",
    "  sc <- order(b$vi, decreasing = TRUE)\n",
    "  \n",
    "\n",
    "  i <- cbind(sa,sb,sc)\n",
    "  mlist <- matrix(i,ncol=3)\n",
    "  #rank <- overlap(mlist)\n",
    "  rank <- smooth_sra(mlist)\n",
    "  \n",
    "  print(paste(\"Result:\", f))\n",
    "  #print(rank)\n",
    "  #print(rank)\n",
    "  ul <- cbind(rank$lower,rank$upper)\n",
    "  \n",
    "  #r <- ul[1,] # DEBUG\n",
    "  e <- apply(ul, 1, function(r) {\n",
    "    return(abs(r[1] - r[2]))\n",
    "  })\n",
    "  \n",
    "  print(paste(\"Error:\"))\n",
    "  print(e)\n",
    "  \n",
    "  m <- mean(e)\n",
    "  return(c(m,e))\n",
    "})\n",
    ")\n"
   ]
  },
  {
   "cell_type": "markdown",
   "metadata": {},
   "source": [
    "### < PLACEHOLDER Refined model after assessing VARIMP filtering "
   ]
  },
  {
   "cell_type": "markdown",
   "metadata": {},
   "source": [
    "### <<PLACEHOLDER Accuracy Assessment"
   ]
  },
  {
   "cell_type": "markdown",
   "metadata": {},
   "source": [
    "### << PLACEHOLDER Model Predictions\n",
    "\n",
    "![image](cab_layout_MALL.png)\n",
    "![image](cab_layout_BAGO.png)\n",
    "![image](cab_layout_LESC.png)"
   ]
  },
  {
   "cell_type": "markdown",
   "metadata": {},
   "source": [
    "## Regression-based  - Overview of steps\n",
    "1. Generalized Linear Mixed Models approach\n",
    "    * Allows for variable response distributions - Poisson, Gamma, etc\n",
    "    * Zero-inflation (16ha spatial and yearly scale ~ 92% records recorded 0)\n",
    "    * Fixed and random effects\n",
    "    * Flexible, efficient\n",
    "2. Tool selection\n",
    "    * R packages: lme4, glmmTMB\n",
    "3. Variable selection \n",
    "    * Identified in Random Forest modeling - but collinearity MUST be addressed\n",
    "4. Data processing\n",
    "    * Identify response distribution \n",
    "    * Standardization \n",
    "5. Model evaluation\n",
    "     * Model stability\n",
    "     * Model accuracy\n",
    "\n",
    "  \n"
   ]
  },
  {
   "cell_type": "code",
   "execution_count": null,
   "metadata": {
    "hide_input": false
   },
   "outputs": [],
   "source": [
    "iws_wide\n",
    "\n",
    "g <- ggplot(iws_wide, )"
   ]
  },
  {
   "cell_type": "markdown",
   "metadata": {},
   "source": [
    "### Variable Selection methods???"
   ]
  },
  {
   "cell_type": "code",
   "execution_count": null,
   "metadata": {},
   "outputs": [],
   "source": []
  },
  {
   "cell_type": "markdown",
   "metadata": {},
   "source": [
    "## Tools and technologies\n",
    "\n",
    "* Jupyter notebook - computational notebook \n",
    "* tidyverse - family of R packages sharing a common syntax (dplyr, ggplot2, purr, tidyr, etc) \n",
    "* rpy2 - interface to R from within Python - switch between R and Python with R magics \n",
    "* R-ArcGIS Bridge - interface ArcGIS and R (R v 3.2.2+, Python Script Toolbox\n",
    "* R-markdown\n",
    "* Python Toolbox -  "
   ]
  },
  {
   "cell_type": "code",
   "execution_count": null,
   "metadata": {},
   "outputs": [],
   "source": []
  }
 ],
 "metadata": {
  "celltoolbar": "Raw Cell Format",
  "kernelspec": {
   "display_name": "R",
   "language": "R",
   "name": "ir"
  },
  "language_info": {
   "codemirror_mode": "r",
   "file_extension": ".r",
   "mimetype": "text/x-r-source",
   "name": "R",
   "pygments_lexer": "r",
   "version": "3.5.1"
  }
 },
 "nbformat": 4,
 "nbformat_minor": 2
}
