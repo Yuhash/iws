{
 "cells": [
  {
   "cell_type": "markdown",
   "metadata": {},
   "source": [
    "# Evaluating Environmental Predictors of Breeding Waterfowl Populations in the Central Interior Plateau of British Columbia \n",
    "\n",
    "## Adventures in machine-learning and regression-based population models\n",
    "![image](./images/overview_survey_area_extent.png)\n"
   ]
  },
  {
   "cell_type": "markdown",
   "metadata": {},
   "source": [
    "### Overview - General Steps\n",
    "1. Question - What is the distribution of species within the Central Interior Plateau? \n",
    "    * Identify main drivers\n",
    "    * Identify areas of interest - diversity and abundance\n",
    "    * Inform conservation planning\n",
    "2. Data exploration and data wrangling\n",
    "3. Identify analysis methods and tools\n",
    "4. Perform analysis\n",
    "5. Examine and refine\n",
    "\n",
    "\n",
    "<a href=\"https://community.esri.com/groups/esri-training/blog/2018/10/19/use-the-five-step-gis-analysis-process\"> <font size = -2>Modified from ESRI 5-Step GIS Analysis Process</font></a>\n"
   ]
  },
  {
   "cell_type": "markdown",
   "metadata": {
    "hide_input": false
   },
   "source": [
    "<style type=\"text/css\">\n",
    ".input_hidden{\n",
    "    display: none\n",
    "</style>"
   ]
  },
  {
   "cell_type": "markdown",
   "metadata": {
    "hide_input": false,
    "tags": [
     "hide_input"
    ]
   },
   "source": [
    "<style type=\"text/css\"> # CSS hack to hide the cell input\n",
    ".input_hidden{\n",
    "    display: none\n",
    "\n",
    "\n",
    "Issues tracking:\n",
    "\n",
    "1. IRKernel loading packages from later version of R (3.5.3 instead of 3.5.1) - must change kernel spec as described here: https://github.com/IRkernel/IRkernel/issues/183\n",
    "\n",
    "\n",
    "2. jupyterlab extension to close cells * requires installation of nodejs and npm \n",
    "    conda install nodejs\n",
    "    conda install npm \n",
    "   \n",
    "    - required update of pip\n",
    "    - which required adding forge channel first:\n",
    "        conda config --add channels conda-forge \n",
    "        conda update pip\n",
    "     now\n",
    "        conda install nodejs\n",
    "        conda install npm\n",
    "     but required update of core-js with \n",
    "         npm install --save core-js@^3\n",
    "     \n",
    "     then follow: https://jupyter-contrib-nbextensions.readthedocs.io/en/latest/install.html and run\n",
    "         conda install -c conda-forge jupyter_contrib_nbextensions\n",
    "     then \n",
    "         jupyter contrib nbextension install --sys-prefix # for system wide esp. useful in virtual env\n",
    "     then enable the path but first list available Jupyter paths \n",
    "         jupyter --paths\n",
    "\n",
    "     Check jupyterlab extensions with \n",
    "        jupyter nbextension list\n",
    "    \n",
    "    }\n",
    "</style>\n"
   ]
  },
  {
   "cell_type": "code",
   "execution_count": null,
   "metadata": {
    "code_folding": [],
    "hide_input": false,
    "scrolled": false
   },
   "outputs": [],
   "source": [
    "# Housekeeping - manage packages \n",
    "version\n",
    "Packages <- c(\"tidyverse\", \"gganimate\", \"RColorBrewer\", \"reshape2\", \"gridExtra\", \"tidyverse\",\n",
    "             \"repr\", \"knitr\", \"tsibble\")\n",
    "# # Install packages if not installed \n",
    "# if (!require(\"pacman\")) install.packages(\"pacman\")\n",
    "#     pacman::p_load(Packages)\n",
    "\n",
    "lapply(Packages, require, character.only=TRUE)\n",
    "# (.packages)() # List loaded packages"
   ]
  },
  {
   "cell_type": "markdown",
   "metadata": {
    "hide_input": true
   },
   "source": [
    "Here is a look at the (semi-processed) survey data--the head and tail views of the data frame."
   ]
  },
  {
   "cell_type": "code",
   "execution_count": 127,
   "metadata": {
    "hide_input": false,
    "scrolled": false
   },
   "outputs": [
    {
     "data": {
      "text/html": [
       "<table>\n",
       "<caption>A data.frame: 6 × 34</caption>\n",
       "<thead>\n",
       "\t<tr><th scope=col>date_</th><th scope=col>year_</th><th scope=col>month_</th><th scope=col>day_</th><th scope=col>lon</th><th scope=col>lat</th><th scope=col>species</th><th scope=col>x_alb</th><th scope=col>y_alb</th><th scope=col>sp_name</th><th scope=col>...</th><th scope=col>eco</th><th scope=col>trans_id</th><th scope=col>Ecosection_2pt1</th><th scope=col>prev_trans</th><th scope=col>Ecosection_1995</th><th scope=col>unknown_BoN_combo</th><th scope=col>Total_Count</th><th scope=col>Total_IBP_Formula</th><th scope=col>Total_Count_Formula</th><th scope=col>pop</th></tr>\n",
       "\t<tr><th scope=col>&lt;int&gt;</th><th scope=col>&lt;int&gt;</th><th scope=col>&lt;int&gt;</th><th scope=col>&lt;int&gt;</th><th scope=col>&lt;dbl&gt;</th><th scope=col>&lt;dbl&gt;</th><th scope=col>&lt;fct&gt;</th><th scope=col>&lt;dbl&gt;</th><th scope=col>&lt;dbl&gt;</th><th scope=col>&lt;fct&gt;</th><th scope=col>...</th><th scope=col>&lt;fct&gt;</th><th scope=col>&lt;int&gt;</th><th scope=col>&lt;fct&gt;</th><th scope=col>&lt;fct&gt;</th><th scope=col>&lt;fct&gt;</th><th scope=col>&lt;int&gt;</th><th scope=col>&lt;int&gt;</th><th scope=col>&lt;fct&gt;</th><th scope=col>&lt;fct&gt;</th><th scope=col>&lt;int&gt;</th></tr>\n",
       "</thead>\n",
       "<tbody>\n",
       "\t<tr><td>39209</td><td>2007</td><td>5</td><td> 7</td><td>-122.8230</td><td>53.30426</td><td>CAGO</td><td>1211186</td><td> 926711.1</td><td>Canada Goose     </td><td>...</td><td>QUL</td><td>16</td><td>Quesnel Lowland</td><td>B07</td><td>Quesnel Lowland</td><td>1</td><td>1</td><td>2* [pair]+ [unknownSex]                                 </td><td>Total_IBP+ [mixed_m] + [mixed_f]</td><td>1</td></tr>\n",
       "\t<tr><td>39211</td><td>2007</td><td>5</td><td> 9</td><td>-122.6088</td><td>53.01350</td><td>AMWI</td><td>1226964</td><td> 894968.8</td><td>American Wigeon  </td><td>...</td><td>QUL</td><td>14</td><td>Quesnel Lowland</td><td>B09</td><td>Quesnel Lowland</td><td>0</td><td>9</td><td>2*[lone_m] +2* [pair] + 2* [m2]*2 +2* [m3]*3 + 2* [m4]*4</td><td>Total_IBP+ [mixed_m] + [mixed_f]</td><td>6</td></tr>\n",
       "\t<tr><td>39211</td><td>2007</td><td>5</td><td> 9</td><td>-122.6088</td><td>53.01350</td><td>CAGO</td><td>1226964</td><td> 894968.8</td><td>Canada Goose     </td><td>...</td><td>QUL</td><td>14</td><td>Quesnel Lowland</td><td>B09</td><td>Quesnel Lowland</td><td>1</td><td>1</td><td>2* [pair]+ [unknownSex]                                 </td><td>Total_IBP+ [mixed_m] + [mixed_f]</td><td>1</td></tr>\n",
       "\t<tr><td>39211</td><td>2007</td><td>5</td><td> 9</td><td>-122.6088</td><td>53.01350</td><td>GWTE</td><td>1226964</td><td> 894968.8</td><td>Green-winged Teal</td><td>...</td><td>QUL</td><td>14</td><td>Quesnel Lowland</td><td>B09</td><td>Quesnel Lowland</td><td>0</td><td>4</td><td>2*[lone_m] +2* [pair] + 2* [m2]*2 +2* [m3]*3 + 2* [m4]*4</td><td>Total_IBP+ [mixed_m] + [mixed_f]</td><td>4</td></tr>\n",
       "\t<tr><td>39211</td><td>2007</td><td>5</td><td> 9</td><td>-122.6088</td><td>53.01350</td><td>MALL</td><td>1226964</td><td> 894968.8</td><td>Mallard          </td><td>...</td><td>QUL</td><td>14</td><td>Quesnel Lowland</td><td>B09</td><td>Quesnel Lowland</td><td>0</td><td>6</td><td>2*[lone_m] +2* [pair] + 2* [m2]*2 +2* [m3]*3 + 2* [m4]*4</td><td>Total_IBP+ [mixed_m] + [mixed_f]</td><td>0</td></tr>\n",
       "\t<tr><td>39223</td><td>2007</td><td>5</td><td>21</td><td>-124.4701</td><td>54.31847</td><td>GWTE</td><td>1099279</td><td>1036228.4</td><td>Green-winged Teal</td><td>...</td><td>BAU</td><td>23</td><td>Babine Upland  </td><td>A10</td><td>Babine Upland  </td><td>0</td><td>2</td><td>2*[lone_m] +2* [pair] + 2* [m2]*2 +2* [m3]*3 + 2* [m4]*4</td><td>Total_IBP+ [mixed_m] + [mixed_f]</td><td>2</td></tr>\n",
       "</tbody>\n",
       "</table>\n"
      ],
      "text/latex": [
       "A data.frame: 6 × 34\n",
       "\\begin{tabular}{r|llllllllllllllllllllllllllllllllll}\n",
       " date\\_ & year\\_ & month\\_ & day\\_ & lon & lat & species & x\\_alb & y\\_alb & sp\\_name & sp\\_group & sp\\_id & birdOnNest & pair & unknownSex & lone\\_m & mixed\\_m & m2 & m3 & m4 & lone\\_f & mixed\\_f & imm\\_m & imm\\_f & eco & trans\\_id & Ecosection\\_2pt1 & prev\\_trans & Ecosection\\_1995 & unknown\\_BoN\\_combo & Total\\_Count & Total\\_IBP\\_Formula & Total\\_Count\\_Formula & pop\\\\\n",
       " <int> & <int> & <int> & <int> & <dbl> & <dbl> & <fct> & <dbl> & <dbl> & <fct> & <fct> & <fct> & <int> & <int> & <int> & <int> & <int> & <int> & <int> & <int> & <int> & <int> & <int> & <int> & <fct> & <int> & <fct> & <fct> & <fct> & <int> & <int> & <fct> & <fct> & <int>\\\\\n",
       "\\hline\n",
       "\t 39209 & 2007 & 5 &  7 & -122.8230 & 53.30426 & CAGO & 1211186 &  926711.1 & Canada Goose      & Geese    & CAGO & 0 & 0 & 1 & 0 & 0 & 0 & 0 & 0 & 0 & 0 & 0 & 0 & QUL & 16 & Quesnel Lowland & B07 & Quesnel Lowland & 1 & 1 & 2* {[}pair{]}+ {[}unknownSex{]}                                  & Total\\_IBP+ {[}mixed\\_m{]} + {[}mixed\\_f{]} & 1\\\\\n",
       "\t 39211 & 2007 & 5 &  9 & -122.6088 & 53.01350 & AMWI & 1226964 &  894968.8 & American Wigeon   & Dabblers & AMWI & 0 & 3 & 0 & 0 & 3 & 0 & 0 & 0 & 0 & 0 & 0 & 0 & QUL & 14 & Quesnel Lowland & B09 & Quesnel Lowland & 0 & 9 & 2*{[}lone\\_m{]} +2* {[}pair{]} + 2* {[}m2{]}*2 +2* {[}m3{]}*3 + 2* {[}m4{]}*4 & Total\\_IBP+ {[}mixed\\_m{]} + {[}mixed\\_f{]} & 6\\\\\n",
       "\t 39211 & 2007 & 5 &  9 & -122.6088 & 53.01350 & CAGO & 1226964 &  894968.8 & Canada Goose      & Geese    & CAGO & 0 & 0 & 1 & 0 & 0 & 0 & 0 & 0 & 0 & 0 & 0 & 0 & QUL & 14 & Quesnel Lowland & B09 & Quesnel Lowland & 1 & 1 & 2* {[}pair{]}+ {[}unknownSex{]}                                  & Total\\_IBP+ {[}mixed\\_m{]} + {[}mixed\\_f{]} & 1\\\\\n",
       "\t 39211 & 2007 & 5 &  9 & -122.6088 & 53.01350 & GWTE & 1226964 &  894968.8 & Green-winged Teal & Dabblers & GWTE & 0 & 2 & 0 & 0 & 0 & 0 & 0 & 0 & 0 & 0 & 0 & 0 & QUL & 14 & Quesnel Lowland & B09 & Quesnel Lowland & 0 & 4 & 2*{[}lone\\_m{]} +2* {[}pair{]} + 2* {[}m2{]}*2 +2* {[}m3{]}*3 + 2* {[}m4{]}*4 & Total\\_IBP+ {[}mixed\\_m{]} + {[}mixed\\_f{]} & 4\\\\\n",
       "\t 39211 & 2007 & 5 &  9 & -122.6088 & 53.01350 & MALL & 1226964 &  894968.8 & Mallard           & Dabblers & MALL & 0 & 0 & 0 & 0 & 4 & 0 & 0 & 0 & 0 & 2 & 0 & 0 & QUL & 14 & Quesnel Lowland & B09 & Quesnel Lowland & 0 & 6 & 2*{[}lone\\_m{]} +2* {[}pair{]} + 2* {[}m2{]}*2 +2* {[}m3{]}*3 + 2* {[}m4{]}*4 & Total\\_IBP+ {[}mixed\\_m{]} + {[}mixed\\_f{]} & 0\\\\\n",
       "\t 39223 & 2007 & 5 & 21 & -124.4701 & 54.31847 & GWTE & 1099279 & 1036228.4 & Green-winged Teal & Dabblers & GWTE & 0 & 1 & 0 & 0 & 0 & 0 & 0 & 0 & 0 & 0 & 0 & 0 & BAU & 23 & Babine Upland   & A10 & Babine Upland   & 0 & 2 & 2*{[}lone\\_m{]} +2* {[}pair{]} + 2* {[}m2{]}*2 +2* {[}m3{]}*3 + 2* {[}m4{]}*4 & Total\\_IBP+ {[}mixed\\_m{]} + {[}mixed\\_f{]} & 2\\\\\n",
       "\\end{tabular}\n"
      ],
      "text/markdown": [
       "\n",
       "A data.frame: 6 × 34\n",
       "\n",
       "| date_ &lt;int&gt; | year_ &lt;int&gt; | month_ &lt;int&gt; | day_ &lt;int&gt; | lon &lt;dbl&gt; | lat &lt;dbl&gt; | species &lt;fct&gt; | x_alb &lt;dbl&gt; | y_alb &lt;dbl&gt; | sp_name &lt;fct&gt; | ... ... | eco &lt;fct&gt; | trans_id &lt;int&gt; | Ecosection_2pt1 &lt;fct&gt; | prev_trans &lt;fct&gt; | Ecosection_1995 &lt;fct&gt; | unknown_BoN_combo &lt;int&gt; | Total_Count &lt;int&gt; | Total_IBP_Formula &lt;fct&gt; | Total_Count_Formula &lt;fct&gt; | pop &lt;int&gt; |\n",
       "|---|---|---|---|---|---|---|---|---|---|---|---|---|---|---|---|---|---|---|---|---|\n",
       "| 39209 | 2007 | 5 |  7 | -122.8230 | 53.30426 | CAGO | 1211186 |  926711.1 | Canada Goose      | ... | QUL | 16 | Quesnel Lowland | B07 | Quesnel Lowland | 1 | 1 | 2* [pair]+ [unknownSex]                                  | Total_IBP+ [mixed_m] + [mixed_f] | 1 |\n",
       "| 39211 | 2007 | 5 |  9 | -122.6088 | 53.01350 | AMWI | 1226964 |  894968.8 | American Wigeon   | ... | QUL | 14 | Quesnel Lowland | B09 | Quesnel Lowland | 0 | 9 | 2*[lone_m] +2* [pair] + 2* [m2]*2 +2* [m3]*3 + 2* [m4]*4 | Total_IBP+ [mixed_m] + [mixed_f] | 6 |\n",
       "| 39211 | 2007 | 5 |  9 | -122.6088 | 53.01350 | CAGO | 1226964 |  894968.8 | Canada Goose      | ... | QUL | 14 | Quesnel Lowland | B09 | Quesnel Lowland | 1 | 1 | 2* [pair]+ [unknownSex]                                  | Total_IBP+ [mixed_m] + [mixed_f] | 1 |\n",
       "| 39211 | 2007 | 5 |  9 | -122.6088 | 53.01350 | GWTE | 1226964 |  894968.8 | Green-winged Teal | ... | QUL | 14 | Quesnel Lowland | B09 | Quesnel Lowland | 0 | 4 | 2*[lone_m] +2* [pair] + 2* [m2]*2 +2* [m3]*3 + 2* [m4]*4 | Total_IBP+ [mixed_m] + [mixed_f] | 4 |\n",
       "| 39211 | 2007 | 5 |  9 | -122.6088 | 53.01350 | MALL | 1226964 |  894968.8 | Mallard           | ... | QUL | 14 | Quesnel Lowland | B09 | Quesnel Lowland | 0 | 6 | 2*[lone_m] +2* [pair] + 2* [m2]*2 +2* [m3]*3 + 2* [m4]*4 | Total_IBP+ [mixed_m] + [mixed_f] | 0 |\n",
       "| 39223 | 2007 | 5 | 21 | -124.4701 | 54.31847 | GWTE | 1099279 | 1036228.4 | Green-winged Teal | ... | BAU | 23 | Babine Upland   | A10 | Babine Upland   | 0 | 2 | 2*[lone_m] +2* [pair] + 2* [m2]*2 +2* [m3]*3 + 2* [m4]*4 | Total_IBP+ [mixed_m] + [mixed_f] | 2 |\n",
       "\n"
      ],
      "text/plain": [
       "  date_ year_ month_ day_ lon       lat      species x_alb   y_alb    \n",
       "1 39209 2007  5       7   -122.8230 53.30426 CAGO    1211186  926711.1\n",
       "2 39211 2007  5       9   -122.6088 53.01350 AMWI    1226964  894968.8\n",
       "3 39211 2007  5       9   -122.6088 53.01350 CAGO    1226964  894968.8\n",
       "4 39211 2007  5       9   -122.6088 53.01350 GWTE    1226964  894968.8\n",
       "5 39211 2007  5       9   -122.6088 53.01350 MALL    1226964  894968.8\n",
       "6 39223 2007  5      21   -124.4701 54.31847 GWTE    1099279 1036228.4\n",
       "  sp_name           ... eco trans_id Ecosection_2pt1 prev_trans Ecosection_1995\n",
       "1 Canada Goose      ... QUL 16       Quesnel Lowland B07        Quesnel Lowland\n",
       "2 American Wigeon   ... QUL 14       Quesnel Lowland B09        Quesnel Lowland\n",
       "3 Canada Goose      ... QUL 14       Quesnel Lowland B09        Quesnel Lowland\n",
       "4 Green-winged Teal ... QUL 14       Quesnel Lowland B09        Quesnel Lowland\n",
       "5 Mallard           ... QUL 14       Quesnel Lowland B09        Quesnel Lowland\n",
       "6 Green-winged Teal ... BAU 23       Babine Upland   A10        Babine Upland  \n",
       "  unknown_BoN_combo Total_Count\n",
       "1 1                 1          \n",
       "2 0                 9          \n",
       "3 1                 1          \n",
       "4 0                 4          \n",
       "5 0                 6          \n",
       "6 0                 2          \n",
       "  Total_IBP_Formula                                       \n",
       "1 2* [pair]+ [unknownSex]                                 \n",
       "2 2*[lone_m] +2* [pair] + 2* [m2]*2 +2* [m3]*3 + 2* [m4]*4\n",
       "3 2* [pair]+ [unknownSex]                                 \n",
       "4 2*[lone_m] +2* [pair] + 2* [m2]*2 +2* [m3]*3 + 2* [m4]*4\n",
       "5 2*[lone_m] +2* [pair] + 2* [m2]*2 +2* [m3]*3 + 2* [m4]*4\n",
       "6 2*[lone_m] +2* [pair] + 2* [m2]*2 +2* [m3]*3 + 2* [m4]*4\n",
       "  Total_Count_Formula              pop\n",
       "1 Total_IBP+ [mixed_m] + [mixed_f] 1  \n",
       "2 Total_IBP+ [mixed_m] + [mixed_f] 6  \n",
       "3 Total_IBP+ [mixed_m] + [mixed_f] 1  \n",
       "4 Total_IBP+ [mixed_m] + [mixed_f] 4  \n",
       "5 Total_IBP+ [mixed_m] + [mixed_f] 0  \n",
       "6 Total_IBP+ [mixed_m] + [mixed_f] 2  "
      ]
     },
     "metadata": {},
     "output_type": "display_data"
    },
    {
     "data": {
      "text/html": [
       "<table>\n",
       "<caption>A data.frame: 6 × 34</caption>\n",
       "<thead>\n",
       "\t<tr><th></th><th scope=col>date_</th><th scope=col>year_</th><th scope=col>month_</th><th scope=col>day_</th><th scope=col>lon</th><th scope=col>lat</th><th scope=col>species</th><th scope=col>x_alb</th><th scope=col>y_alb</th><th scope=col>sp_name</th><th scope=col>...</th><th scope=col>eco</th><th scope=col>trans_id</th><th scope=col>Ecosection_2pt1</th><th scope=col>prev_trans</th><th scope=col>Ecosection_1995</th><th scope=col>unknown_BoN_combo</th><th scope=col>Total_Count</th><th scope=col>Total_IBP_Formula</th><th scope=col>Total_Count_Formula</th><th scope=col>pop</th></tr>\n",
       "\t<tr><th></th><th scope=col>&lt;int&gt;</th><th scope=col>&lt;int&gt;</th><th scope=col>&lt;int&gt;</th><th scope=col>&lt;int&gt;</th><th scope=col>&lt;dbl&gt;</th><th scope=col>&lt;dbl&gt;</th><th scope=col>&lt;fct&gt;</th><th scope=col>&lt;dbl&gt;</th><th scope=col>&lt;dbl&gt;</th><th scope=col>&lt;fct&gt;</th><th scope=col>...</th><th scope=col>&lt;fct&gt;</th><th scope=col>&lt;int&gt;</th><th scope=col>&lt;fct&gt;</th><th scope=col>&lt;fct&gt;</th><th scope=col>&lt;fct&gt;</th><th scope=col>&lt;int&gt;</th><th scope=col>&lt;int&gt;</th><th scope=col>&lt;fct&gt;</th><th scope=col>&lt;fct&gt;</th><th scope=col>&lt;int&gt;</th></tr>\n",
       "</thead>\n",
       "<tbody>\n",
       "\t<tr><th scope=row>32848</th><td>42866</td><td>2017</td><td>5</td><td>11</td><td>-124.3120</td><td>52.14455</td><td>GWTE</td><td>NA</td><td>NA</td><td>Green-Winged Teal</td><td>...</td><td>CHP</td><td>8</td><td>Chilcotin Plateau</td><td>C05</td><td>Chilcotin Plateau</td><td>0</td><td>2</td><td>2*[lone_m] +2* [pair] + 2* [m2]*2 +2* [m3]*3 + 2* [m4]*4</td><td>Total_IBP+ [mixed_m] + [mixed_f]</td><td>2</td></tr>\n",
       "\t<tr><th scope=row>32849</th><td>42866</td><td>2017</td><td>5</td><td>11</td><td>-124.3104</td><td>52.14597</td><td>RNDU</td><td>NA</td><td>NA</td><td>Ring-necked Duck </td><td>...</td><td>CHP</td><td>8</td><td>Chilcotin Plateau</td><td>C05</td><td>Chilcotin Plateau</td><td>0</td><td>1</td><td>1 * [lone_m] +2* [pair] + [m2]*2 + [m3]*3 + [m4]*4      </td><td>Total_IBP+ [mixed_m] + [mixed_f]</td><td>1</td></tr>\n",
       "\t<tr><th scope=row>32850</th><td>42866</td><td>2017</td><td>5</td><td>11</td><td>-124.3804</td><td>52.14530</td><td>NOSL</td><td>NA</td><td>NA</td><td>Northern Shoveler</td><td>...</td><td>CHP</td><td>8</td><td>Chilcotin Plateau</td><td>C05</td><td>Chilcotin Plateau</td><td>0</td><td>2</td><td>2*[lone_m] +2* [pair] + 2* [m2]*2 +2* [m3]*3 + 2* [m4]*4</td><td>Total_IBP+ [mixed_m] + [mixed_f]</td><td>2</td></tr>\n",
       "\t<tr><th scope=row>32851</th><td>42866</td><td>2017</td><td>5</td><td>11</td><td>-124.3804</td><td>52.14530</td><td>MALL</td><td>NA</td><td>NA</td><td>Mallard          </td><td>...</td><td>CHP</td><td>8</td><td>Chilcotin Plateau</td><td>C05</td><td>Chilcotin Plateau</td><td>0</td><td>2</td><td>2*[lone_m] +2* [pair] + 2* [m2]*2 +2* [m3]*3 + 2* [m4]*4</td><td>Total_IBP+ [mixed_m] + [mixed_f]</td><td>2</td></tr>\n",
       "\t<tr><th scope=row>32852</th><td>42866</td><td>2017</td><td>5</td><td>11</td><td>-124.3793</td><td>52.14648</td><td>GWTE</td><td>NA</td><td>NA</td><td>Green-Winged Teal</td><td>...</td><td>CHP</td><td>8</td><td>Chilcotin Plateau</td><td>C05</td><td>Chilcotin Plateau</td><td>0</td><td>2</td><td>2*[lone_m] +2* [pair] + 2* [m2]*2 +2* [m3]*3 + 2* [m4]*4</td><td>Total_IBP+ [mixed_m] + [mixed_f]</td><td>2</td></tr>\n",
       "\t<tr><th scope=row>32853</th><td>42866</td><td>2017</td><td>5</td><td>11</td><td>-124.3977</td><td>52.14375</td><td>MALL</td><td>NA</td><td>NA</td><td>Mallard          </td><td>...</td><td>CHP</td><td>8</td><td>Chilcotin Plateau</td><td>C05</td><td>Chilcotin Plateau</td><td>0</td><td>2</td><td>2*[lone_m] +2* [pair] + 2* [m2]*2 +2* [m3]*3 + 2* [m4]*4</td><td>Total_IBP+ [mixed_m] + [mixed_f]</td><td>2</td></tr>\n",
       "</tbody>\n",
       "</table>\n"
      ],
      "text/latex": [
       "A data.frame: 6 × 34\n",
       "\\begin{tabular}{r|llllllllllllllllllllllllllllllllll}\n",
       "  & date\\_ & year\\_ & month\\_ & day\\_ & lon & lat & species & x\\_alb & y\\_alb & sp\\_name & sp\\_group & sp\\_id & birdOnNest & pair & unknownSex & lone\\_m & mixed\\_m & m2 & m3 & m4 & lone\\_f & mixed\\_f & imm\\_m & imm\\_f & eco & trans\\_id & Ecosection\\_2pt1 & prev\\_trans & Ecosection\\_1995 & unknown\\_BoN\\_combo & Total\\_Count & Total\\_IBP\\_Formula & Total\\_Count\\_Formula & pop\\\\\n",
       "  & <int> & <int> & <int> & <int> & <dbl> & <dbl> & <fct> & <dbl> & <dbl> & <fct> & <fct> & <fct> & <int> & <int> & <int> & <int> & <int> & <int> & <int> & <int> & <int> & <int> & <int> & <int> & <fct> & <int> & <fct> & <fct> & <fct> & <int> & <int> & <fct> & <fct> & <int>\\\\\n",
       "\\hline\n",
       "\t32848 & 42866 & 2017 & 5 & 11 & -124.3120 & 52.14455 & GWTE & NA & NA & Green-Winged Teal & Dabblers & GWTE & 0 & 1 & 0 & 0 & 0 & 0 & 0 & 0 & 0 & 0 & 0 & 0 & CHP & 8 & Chilcotin Plateau & C05 & Chilcotin Plateau & 0 & 2 & 2*{[}lone\\_m{]} +2* {[}pair{]} + 2* {[}m2{]}*2 +2* {[}m3{]}*3 + 2* {[}m4{]}*4 & Total\\_IBP+ {[}mixed\\_m{]} + {[}mixed\\_f{]} & 2\\\\\n",
       "\t32849 & 42866 & 2017 & 5 & 11 & -124.3104 & 52.14597 & RNDU & NA & NA & Ring-necked Duck  & Divers   & RNDU & 0 & 0 & 0 & 1 & 0 & 0 & 0 & 0 & 0 & 0 & 0 & 0 & CHP & 8 & Chilcotin Plateau & C05 & Chilcotin Plateau & 0 & 1 & 1 * {[}lone\\_m{]} +2* {[}pair{]} + {[}m2{]}*2 + {[}m3{]}*3 + {[}m4{]}*4       & Total\\_IBP+ {[}mixed\\_m{]} + {[}mixed\\_f{]} & 1\\\\\n",
       "\t32850 & 42866 & 2017 & 5 & 11 & -124.3804 & 52.14530 & NOSL & NA & NA & Northern Shoveler & Dabblers & NSHO & 0 & 1 & 0 & 0 & 0 & 0 & 0 & 0 & 0 & 0 & 0 & 0 & CHP & 8 & Chilcotin Plateau & C05 & Chilcotin Plateau & 0 & 2 & 2*{[}lone\\_m{]} +2* {[}pair{]} + 2* {[}m2{]}*2 +2* {[}m3{]}*3 + 2* {[}m4{]}*4 & Total\\_IBP+ {[}mixed\\_m{]} + {[}mixed\\_f{]} & 2\\\\\n",
       "\t32851 & 42866 & 2017 & 5 & 11 & -124.3804 & 52.14530 & MALL & NA & NA & Mallard           & Dabblers & MALL & 0 & 0 & 0 & 1 & 0 & 0 & 0 & 0 & 0 & 0 & 0 & 0 & CHP & 8 & Chilcotin Plateau & C05 & Chilcotin Plateau & 0 & 2 & 2*{[}lone\\_m{]} +2* {[}pair{]} + 2* {[}m2{]}*2 +2* {[}m3{]}*3 + 2* {[}m4{]}*4 & Total\\_IBP+ {[}mixed\\_m{]} + {[}mixed\\_f{]} & 2\\\\\n",
       "\t32852 & 42866 & 2017 & 5 & 11 & -124.3793 & 52.14648 & GWTE & NA & NA & Green-Winged Teal & Dabblers & GWTE & 0 & 1 & 0 & 0 & 0 & 0 & 0 & 0 & 0 & 0 & 0 & 0 & CHP & 8 & Chilcotin Plateau & C05 & Chilcotin Plateau & 0 & 2 & 2*{[}lone\\_m{]} +2* {[}pair{]} + 2* {[}m2{]}*2 +2* {[}m3{]}*3 + 2* {[}m4{]}*4 & Total\\_IBP+ {[}mixed\\_m{]} + {[}mixed\\_f{]} & 2\\\\\n",
       "\t32853 & 42866 & 2017 & 5 & 11 & -124.3977 & 52.14375 & MALL & NA & NA & Mallard           & Dabblers & MALL & 0 & 0 & 0 & 1 & 0 & 0 & 0 & 0 & 0 & 0 & 0 & 0 & CHP & 8 & Chilcotin Plateau & C05 & Chilcotin Plateau & 0 & 2 & 2*{[}lone\\_m{]} +2* {[}pair{]} + 2* {[}m2{]}*2 +2* {[}m3{]}*3 + 2* {[}m4{]}*4 & Total\\_IBP+ {[}mixed\\_m{]} + {[}mixed\\_f{]} & 2\\\\\n",
       "\\end{tabular}\n"
      ],
      "text/markdown": [
       "\n",
       "A data.frame: 6 × 34\n",
       "\n",
       "| <!--/--> | date_ &lt;int&gt; | year_ &lt;int&gt; | month_ &lt;int&gt; | day_ &lt;int&gt; | lon &lt;dbl&gt; | lat &lt;dbl&gt; | species &lt;fct&gt; | x_alb &lt;dbl&gt; | y_alb &lt;dbl&gt; | sp_name &lt;fct&gt; | ... ... | eco &lt;fct&gt; | trans_id &lt;int&gt; | Ecosection_2pt1 &lt;fct&gt; | prev_trans &lt;fct&gt; | Ecosection_1995 &lt;fct&gt; | unknown_BoN_combo &lt;int&gt; | Total_Count &lt;int&gt; | Total_IBP_Formula &lt;fct&gt; | Total_Count_Formula &lt;fct&gt; | pop &lt;int&gt; |\n",
       "|---|---|---|---|---|---|---|---|---|---|---|---|---|---|---|---|---|---|---|---|---|---|\n",
       "| 32848 | 42866 | 2017 | 5 | 11 | -124.3120 | 52.14455 | GWTE | NA | NA | Green-Winged Teal | ... | CHP | 8 | Chilcotin Plateau | C05 | Chilcotin Plateau | 0 | 2 | 2*[lone_m] +2* [pair] + 2* [m2]*2 +2* [m3]*3 + 2* [m4]*4 | Total_IBP+ [mixed_m] + [mixed_f] | 2 |\n",
       "| 32849 | 42866 | 2017 | 5 | 11 | -124.3104 | 52.14597 | RNDU | NA | NA | Ring-necked Duck  | ... | CHP | 8 | Chilcotin Plateau | C05 | Chilcotin Plateau | 0 | 1 | 1 * [lone_m] +2* [pair] + [m2]*2 + [m3]*3 + [m4]*4       | Total_IBP+ [mixed_m] + [mixed_f] | 1 |\n",
       "| 32850 | 42866 | 2017 | 5 | 11 | -124.3804 | 52.14530 | NOSL | NA | NA | Northern Shoveler | ... | CHP | 8 | Chilcotin Plateau | C05 | Chilcotin Plateau | 0 | 2 | 2*[lone_m] +2* [pair] + 2* [m2]*2 +2* [m3]*3 + 2* [m4]*4 | Total_IBP+ [mixed_m] + [mixed_f] | 2 |\n",
       "| 32851 | 42866 | 2017 | 5 | 11 | -124.3804 | 52.14530 | MALL | NA | NA | Mallard           | ... | CHP | 8 | Chilcotin Plateau | C05 | Chilcotin Plateau | 0 | 2 | 2*[lone_m] +2* [pair] + 2* [m2]*2 +2* [m3]*3 + 2* [m4]*4 | Total_IBP+ [mixed_m] + [mixed_f] | 2 |\n",
       "| 32852 | 42866 | 2017 | 5 | 11 | -124.3793 | 52.14648 | GWTE | NA | NA | Green-Winged Teal | ... | CHP | 8 | Chilcotin Plateau | C05 | Chilcotin Plateau | 0 | 2 | 2*[lone_m] +2* [pair] + 2* [m2]*2 +2* [m3]*3 + 2* [m4]*4 | Total_IBP+ [mixed_m] + [mixed_f] | 2 |\n",
       "| 32853 | 42866 | 2017 | 5 | 11 | -124.3977 | 52.14375 | MALL | NA | NA | Mallard           | ... | CHP | 8 | Chilcotin Plateau | C05 | Chilcotin Plateau | 0 | 2 | 2*[lone_m] +2* [pair] + 2* [m2]*2 +2* [m3]*3 + 2* [m4]*4 | Total_IBP+ [mixed_m] + [mixed_f] | 2 |\n",
       "\n"
      ],
      "text/plain": [
       "      date_ year_ month_ day_ lon       lat      species x_alb y_alb\n",
       "32848 42866 2017  5      11   -124.3120 52.14455 GWTE    NA    NA   \n",
       "32849 42866 2017  5      11   -124.3104 52.14597 RNDU    NA    NA   \n",
       "32850 42866 2017  5      11   -124.3804 52.14530 NOSL    NA    NA   \n",
       "32851 42866 2017  5      11   -124.3804 52.14530 MALL    NA    NA   \n",
       "32852 42866 2017  5      11   -124.3793 52.14648 GWTE    NA    NA   \n",
       "32853 42866 2017  5      11   -124.3977 52.14375 MALL    NA    NA   \n",
       "      sp_name           ... eco trans_id Ecosection_2pt1   prev_trans\n",
       "32848 Green-Winged Teal ... CHP 8        Chilcotin Plateau C05       \n",
       "32849 Ring-necked Duck  ... CHP 8        Chilcotin Plateau C05       \n",
       "32850 Northern Shoveler ... CHP 8        Chilcotin Plateau C05       \n",
       "32851 Mallard           ... CHP 8        Chilcotin Plateau C05       \n",
       "32852 Green-Winged Teal ... CHP 8        Chilcotin Plateau C05       \n",
       "32853 Mallard           ... CHP 8        Chilcotin Plateau C05       \n",
       "      Ecosection_1995   unknown_BoN_combo Total_Count\n",
       "32848 Chilcotin Plateau 0                 2          \n",
       "32849 Chilcotin Plateau 0                 1          \n",
       "32850 Chilcotin Plateau 0                 2          \n",
       "32851 Chilcotin Plateau 0                 2          \n",
       "32852 Chilcotin Plateau 0                 2          \n",
       "32853 Chilcotin Plateau 0                 2          \n",
       "      Total_IBP_Formula                                       \n",
       "32848 2*[lone_m] +2* [pair] + 2* [m2]*2 +2* [m3]*3 + 2* [m4]*4\n",
       "32849 1 * [lone_m] +2* [pair] + [m2]*2 + [m3]*3 + [m4]*4      \n",
       "32850 2*[lone_m] +2* [pair] + 2* [m2]*2 +2* [m3]*3 + 2* [m4]*4\n",
       "32851 2*[lone_m] +2* [pair] + 2* [m2]*2 +2* [m3]*3 + 2* [m4]*4\n",
       "32852 2*[lone_m] +2* [pair] + 2* [m2]*2 +2* [m3]*3 + 2* [m4]*4\n",
       "32853 2*[lone_m] +2* [pair] + 2* [m2]*2 +2* [m3]*3 + 2* [m4]*4\n",
       "      Total_Count_Formula              pop\n",
       "32848 Total_IBP+ [mixed_m] + [mixed_f] 2  \n",
       "32849 Total_IBP+ [mixed_m] + [mixed_f] 1  \n",
       "32850 Total_IBP+ [mixed_m] + [mixed_f] 2  \n",
       "32851 Total_IBP+ [mixed_m] + [mixed_f] 2  \n",
       "32852 Total_IBP+ [mixed_m] + [mixed_f] 2  \n",
       "32853 Total_IBP+ [mixed_m] + [mixed_f] 2  "
      ]
     },
     "metadata": {},
     "output_type": "display_data"
    },
    {
     "name": "stdout",
     "output_type": "stream",
     "text": [
      "[1] \"Total records:  32853\"\n"
     ]
    }
   ],
   "source": [
    "df <- read.csv(\"iws_pts_filtered_20190620.csv\")\n",
    "\n",
    "head(df)\n",
    "tail(df)\n",
    "records <- nrow(df)\n",
    "print(paste(\"Total records: \", records))"
   ]
  },
  {
   "cell_type": "markdown",
   "metadata": {
    "hide_input": true
   },
   "source": [
    "### Data Exploration - Species Observation Records"
   ]
  },
  {
   "cell_type": "code",
   "execution_count": 128,
   "metadata": {},
   "outputs": [],
   "source": [
    "# Load the processed data in wide format\n",
    "iws <- read.csv(\"id1_400_years.csv\")\n",
    "\n",
    "# Reshape to long form\n",
    "df <- gather(iws,\"sp_id\", \"pop\", amwi:wodu)\n",
    "df$sp_id <- toupper(df$sp_id) # Species codes to uppercase\n"
   ]
  },
  {
   "cell_type": "code",
   "execution_count": 129,
   "metadata": {
    "hide_input": false,
    "scrolled": false
   },
   "outputs": [
    {
     "name": "stderr",
     "output_type": "stream",
     "text": [
      "Selecting by Population\n",
      "Selecting by Population\n",
      "Selecting by Population\n"
     ]
    }
   ],
   "source": [
    "n_sp <- unique(df$sp_id)\n",
    "\n",
    "sp <- df %>%\n",
    "    group_by(sp_id) %>%\n",
    "    summarise(Population = sum(pop))\n",
    "\n",
    "sp_top_5 <- sp %>%\n",
    "    arrange(desc(Population))%>%\n",
    "    top_n(5)\n",
    "\n",
    "sp_bot_5 <- sp %>%\n",
    "    arrange(Population)%>%\n",
    "    top_n(-5)\n",
    "\n",
    "sp_top_10 <- sp %>%\n",
    "    arrange(desc(Population))%>%\n",
    "    top_n(10)\n"
   ]
  },
  {
   "cell_type": "code",
   "execution_count": 130,
   "metadata": {
    "scrolled": true
   },
   "outputs": [
    {
     "name": "stdout",
     "output_type": "stream",
     "text": [
      "[1] \"Total distinct species of waterfowl :  27\"\n",
      "[1] \"5 MOST common species:\"\n"
     ]
    },
    {
     "data": {
      "text/html": [
       "<table>\n",
       "<caption>A tibble: 5 × 2</caption>\n",
       "<thead>\n",
       "\t<tr><th scope=col>sp_id</th><th scope=col>Population</th></tr>\n",
       "\t<tr><th scope=col>&lt;chr&gt;</th><th scope=col>&lt;int&gt;</th></tr>\n",
       "</thead>\n",
       "<tbody>\n",
       "\t<tr><td>MALL</td><td>18898</td></tr>\n",
       "\t<tr><td>RNDU</td><td>11079</td></tr>\n",
       "\t<tr><td>BUFF</td><td> 9672</td></tr>\n",
       "\t<tr><td>CAGO</td><td> 9578</td></tr>\n",
       "\t<tr><td>GWTE</td><td> 7608</td></tr>\n",
       "</tbody>\n",
       "</table>\n"
      ],
      "text/latex": [
       "A tibble: 5 × 2\n",
       "\\begin{tabular}{r|ll}\n",
       " sp\\_id & Population\\\\\n",
       " <chr> & <int>\\\\\n",
       "\\hline\n",
       "\t MALL & 18898\\\\\n",
       "\t RNDU & 11079\\\\\n",
       "\t BUFF &  9672\\\\\n",
       "\t CAGO &  9578\\\\\n",
       "\t GWTE &  7608\\\\\n",
       "\\end{tabular}\n"
      ],
      "text/markdown": [
       "\n",
       "A tibble: 5 × 2\n",
       "\n",
       "| sp_id &lt;chr&gt; | Population &lt;int&gt; |\n",
       "|---|---|\n",
       "| MALL | 18898 |\n",
       "| RNDU | 11079 |\n",
       "| BUFF |  9672 |\n",
       "| CAGO |  9578 |\n",
       "| GWTE |  7608 |\n",
       "\n"
      ],
      "text/plain": [
       "  sp_id Population\n",
       "1 MALL  18898     \n",
       "2 RNDU  11079     \n",
       "3 BUFF   9672     \n",
       "4 CAGO   9578     \n",
       "5 GWTE   7608     "
      ]
     },
     "metadata": {},
     "output_type": "display_data"
    },
    {
     "name": "stdout",
     "output_type": "stream",
     "text": [
      "[1] \"5 LEAST common species:\"\n"
     ]
    },
    {
     "data": {
      "text/html": [
       "<table>\n",
       "<caption>A tibble: 5 × 2</caption>\n",
       "<thead>\n",
       "\t<tr><th scope=col>sp_id</th><th scope=col>Population</th></tr>\n",
       "\t<tr><th scope=col>&lt;chr&gt;</th><th scope=col>&lt;int&gt;</th></tr>\n",
       "</thead>\n",
       "<tbody>\n",
       "\t<tr><td>SWAN</td><td> 2</td></tr>\n",
       "\t<tr><td>HADU</td><td> 6</td></tr>\n",
       "\t<tr><td>SNGO</td><td>16</td></tr>\n",
       "\t<tr><td>RBME</td><td>18</td></tr>\n",
       "\t<tr><td>COGO</td><td>26</td></tr>\n",
       "</tbody>\n",
       "</table>\n"
      ],
      "text/latex": [
       "A tibble: 5 × 2\n",
       "\\begin{tabular}{r|ll}\n",
       " sp\\_id & Population\\\\\n",
       " <chr> & <int>\\\\\n",
       "\\hline\n",
       "\t SWAN &  2\\\\\n",
       "\t HADU &  6\\\\\n",
       "\t SNGO & 16\\\\\n",
       "\t RBME & 18\\\\\n",
       "\t COGO & 26\\\\\n",
       "\\end{tabular}\n"
      ],
      "text/markdown": [
       "\n",
       "A tibble: 5 × 2\n",
       "\n",
       "| sp_id &lt;chr&gt; | Population &lt;int&gt; |\n",
       "|---|---|\n",
       "| SWAN |  2 |\n",
       "| HADU |  6 |\n",
       "| SNGO | 16 |\n",
       "| RBME | 18 |\n",
       "| COGO | 26 |\n",
       "\n"
      ],
      "text/plain": [
       "  sp_id Population\n",
       "1 SWAN   2        \n",
       "2 HADU   6        \n",
       "3 SNGO  16        \n",
       "4 RBME  18        \n",
       "5 COGO  26        "
      ]
     },
     "metadata": {},
     "output_type": "display_data"
    }
   ],
   "source": [
    "print(paste(\"Total distinct species of waterfowl : \",length(n_sp)))\n",
    "print(\"5 MOST common species:\")\n",
    "sp_top_5\n",
    "print(\"5 LEAST common species:\") \n",
    "sp_bot_5"
   ]
  },
  {
   "cell_type": "markdown",
   "metadata": {
    "hide_input": true
   },
   "source": [
    "Plot the top 15 most common species."
   ]
  },
  {
   "cell_type": "code",
   "execution_count": 131,
   "metadata": {
    "hide_input": false,
    "scrolled": false
   },
   "outputs": [
    {
     "name": "stderr",
     "output_type": "stream",
     "text": [
      "Selecting by Population\n"
     ]
    },
    {
     "data": {
      "image/png": "[encoded data removed]",
      "text/plain": [
       "plot without title"
      ]
     },
     "metadata": {},
     "output_type": "display_data"
    }
   ],
   "source": [
    "sp <- df %>% \n",
    "    group_by(sp_id) %>% \n",
    "    summarise(Population = sum(pop)) %>% \n",
    "    arrange(desc(Population)) %>% \n",
    "    top_n(15)\n",
    "# sp\n",
    "p <- ggplot(data = sp, aes(x = reorder(sp_id, -Population), y = Population)) + geom_bar(stat = \"identity\", \n",
    "    fill = \"gray40\") + ggtitle(\"Cumulative Indicated Breeding Population\", subtitle = \"Top 15 Most Abundant Species 2007-2017\") + \n",
    "    xlab(\"Species\") + geom_text(aes(label = Population), size = 3, hjust = 0.5, vjust = -0.4) + \n",
    "    theme(plot.title = element_text(hjust = 0.5), plot.subtitle = element_text(hjust = 0.5), \n",
    "        axis.text.x = element_text(angle = 45, vjust = 0.5))\n",
    "options(repr.plot.width = 6.5, repr.plot.height = 4)\n",
    "p"
   ]
  },
  {
   "cell_type": "markdown",
   "metadata": {
    "hide_input": true
   },
   "source": [
    "What is the distribution of species within ecosections?"
   ]
  },
  {
   "cell_type": "code",
   "execution_count": 132,
   "metadata": {
    "hide_input": false,
    "scrolled": false
   },
   "outputs": [
    {
     "data": {
      "image/png": "[encoded data removed]",
      "text/plain": [
       "plot without title"
      ]
     },
     "metadata": {},
     "output_type": "display_data"
    }
   ],
   "source": [
    "eco_sp <- df %>% \n",
    "    group_by(eco) %>% \n",
    "    summarise(Population = sum(pop)) %>% \n",
    "    arrange(desc(Population))\n",
    "\n",
    "# Create a custom colour-blind-friendly scale\n",
    "library(RColorBrewer)\n",
    "cbp1 <- c(\"#999999\", \"#E69F00\", \"#56B4E9\", \"#009E73\", \"#F0E442\", \"#0072B2\", \"#D55E00\", \n",
    "    \"#CC79A7\")\n",
    "\n",
    "names(cbp1) <- levels(eco_sp$eco)\n",
    "colFill <- scale_fill_manual(names(cbp1), values = cbp1)\n",
    "colColour <- scale_colour_manual(name = \"ECO\", names(cbp1), values = cbp1)\n",
    "\n",
    "g <- ggplot(eco_sp, aes(x = reorder(eco, -Population), y = Population, fill = eco)) + \n",
    "    geom_bar(stat = \"identity\") + ggtitle(\"Total Cumulative Indicated Breeding Population by Ecosection \\n 2007-2017\") + \n",
    "    xlab(\"Ecosection\") + labs(color = \"Ecosection\") + colFill + geom_text(aes(label = Population), \n",
    "    size = 2.5, hjust = 0.5, vjust = -0.5) + theme(axis.text.x = element_text(angle = 45, \n",
    "    vjust = 0.5), plot.title = element_text(hjust = 0.5), legend.position = \"none\")\n",
    "options(repr.plot.width = 6, repr.plot.height = 4)\n",
    "g"
   ]
  },
  {
   "cell_type": "code",
   "execution_count": 142,
   "metadata": {
    "hide_input": false,
    "scrolled": false
   },
   "outputs": [
    {
     "data": {
      "image/png": "[encoded data removed]",
      "text/plain": [
       "plot without title"
      ]
     },
     "metadata": {},
     "output_type": "display_data"
    }
   ],
   "source": [
    "eco_area <- read.csv(\"eco_transect_area_summary.csv\")\n",
    "eco_p <- merge(eco_sp, eco_area)\n",
    "eco_p$p_density <- eco_p$Population/eco_p$area_surveyed*100\n",
    "\n",
    "g <- ggplot(eco_p, aes(x=reorder(eco, -p_density),y=p_density, fill=eco)) + geom_bar(stat=\"identity\") + \n",
    "\n",
    "    ggtitle(label=\"Cumulative Indicated Breeding Population Density\", subtitle=\"by Ecosection 2007-17\") + colFill +\n",
    "    geom_text(aes(label=round(p_density, digits=0)), size=3, hjust=0.5, vjust=-0.5) +\n",
    "    xlab(\"Ecosection\") + ylab(\"Breeding Population per km²\") + \n",
    "    theme(axis.text.x = element_text(angle=45,vjust=.5), \n",
    "        plot.title = element_text(hjust=0.5),\n",
    "        plot.subtitle = element_text(hjust=0.5), \n",
    "        legend.position = \"none\")\n",
    "options(repr.plot.width=6,repr.plot.height=4)\n",
    "g\n"
   ]
  },
  {
   "cell_type": "markdown",
   "metadata": {},
   "source": [
    "The Cariboo Basin (CAB) is clearly a very important Ecosection for breeding waterfowl populations especially when taking the Ecosection area into account as visualized by population density. How does the population density vary through time?"
   ]
  },
  {
   "cell_type": "code",
   "execution_count": 144,
   "metadata": {
    "hide_input": false,
    "scrolled": false
   },
   "outputs": [
    {
     "name": "stderr",
     "output_type": "stream",
     "text": [
      "`geom_smooth()` using method = 'loess' and formula 'y ~ x'\n"
     ]
    },
    {
     "data": {
      "image/png": "[encoded data removed]",
      "text/plain": [
       "plot without title"
      ]
     },
     "metadata": {},
     "output_type": "display_data"
    }
   ],
   "source": [
    "eco_yr <- df %>% \n",
    "    group_by(eco, year_) %>% \n",
    "    summarise(pop = sum(pop)) %>% \n",
    "    left_join(., eco_area, by = \"eco\") %>% \n",
    "    mutate(density = pop/area_surveyed * 100)\n",
    "\n",
    "shp1 <- c(5, 6, 8, 15:19)\n",
    "colShape <- scale_shape_manual(name = \"ECO\", names(cbp1), values = shp1)\n",
    "\n",
    "# #Plot the outcome\n",
    "g <- ggplot(eco_yr, aes(year_, density, colour = eco, shape = eco)) + ggtitle(\"Population Density in Ecosection by Year\", \n",
    "    subtitle = \"All Waterfowl\") + geom_point() + colShape + \n",
    "    colColour + theme(legend.position = \"bottom\", legend.direction = \"horizontal\", \n",
    "    legend.box = \"vertical\", axis.text.x = element_text(hjust = 0.5), plot.title = element_text(hjust = 0.5), \n",
    "    plot.subtitle = element_text(hjust = 0.5)) + xlab(\"Ecosection\") + ylab(\"Total Breeding Population Density per km²\") + \n",
    "    scale_x_continuous(breaks = c(2007, 2009, 2011, 2013, 2015, 2017))\n",
    "options(repr.plot.width = 6, repr.plot.height = 4)\n",
    "g + geom_smooth(size = 0.5, se = F)"
   ]
  },
  {
   "cell_type": "markdown",
   "metadata": {
    "hide_input": false
   },
   "source": [
    "#### Temporal animations can provide a different perspective. Animated lines, dots and bar charts below. I got carried away obviously and they're distracting but kinda fun. \n",
    "  "
   ]
  },
  {
   "cell_type": "code",
   "execution_count": 145,
   "metadata": {
    "hide_input": false,
    "scrolled": true
   },
   "outputs": [
    {
     "name": "stderr",
     "output_type": "stream",
     "text": [
      "                                                                              Rendering [----------------------------------------------] at 3 fps ~ eta: 33sRendering [--------------------------------------------] at 3.2 fps ~ eta: 31s\r"
     ]
    }
   ],
   "source": [
    "## 'gganimate' Line chart with dots using 'transition_reveal'\n",
    "library(gganimate)\n",
    "g <- ggplot(eco_yr, aes(year_, density, group = eco, shape = eco, colour = eco)) + labs(title = \"Population Density in Ecosection by Year\") + \n",
    "    geom_point(size = 4) + geom_line(size = 0.5) + colShape + colColour + theme(legend.position = \"bottom\", \n",
    "    axis.text.x = element_text(angle = 45, vjust = 0.5), plot.title = element_text(hjust = 0.5), \n",
    "    plot.subtitle = element_text(hjust = 0.5, size = 17)) + scale_size(guide = FALSE) + \n",
    "    xlab(\"Ecosection\") + ylab(\"Total Breeding Population Density per km²\")\n",
    "g + geom_point((aes(group = seq_along(year_), size = 2))) + transition_reveal(year_) + \n",
    "    labs(subtitle = \"{frame_along}\")\n",
    "\n",
    "## Dot plot with 'shadow_wake' and 'transition_time'\n",
    "g <- ggplot(eco_yr, aes(eco, density, size = density, colour = eco)) + geom_point(size = 9) + \n",
    "    colColour + ggtitle(label = \"Population Density in Ecosection by Year\") + theme(legend.position = \"bottom\", \n",
    "    axis.text.x = element_text(angle = 45, vjust = 0.5, size = 9), plot.title = element_text(hjust = 0.5), \n",
    "    plot.subtitle = element_text(hjust = 0.5, size = 17)) + xlab(\"Ecosection\") + \n",
    "    ylab(\"Total Breeding Population Density per km²\")\n",
    "g + transition_time(year_) + labs(subtitle = \"{frame_time}\") + shadow_wake(wake_length = 0.2, \n",
    "    alpha = FALSE)\n",
    "\n",
    "## Bar chart with 'transition_time'\n",
    "g <- ggplot(eco_yr, aes(eco, density, fill = eco)) + geom_bar(stat = \"identity\") + \n",
    "    colFill + theme(legend.position = \"bottom\", legend.direction = \"horizontal\", \n",
    "    legend.box = \"vertical\", axis.text.x = element_text(angle = 45, vjust = 0.5, \n",
    "        size = 9), plot.title = element_text(hjust = 0.5), plot.subtitle = element_text(hjust = 0.5, \n",
    "        size = 17)) + xlab(\"Ecosection\") + ylab(\"Total Breeding Population Density per km²\")\n",
    "g + transition_time(year_) + labs(title = \"Population Density in Ecosection by Year\", \n",
    "    subtitle = \"{frame_time}\")"
   ]
  },
  {
   "cell_type": "markdown",
   "metadata": {
    "hide_input": false
   },
   "source": [
    "![SegmentLocal](./images/popd_eco_yr_line.gif \"segment\")"
   ]
  },
  {
   "cell_type": "markdown",
   "metadata": {},
   "source": [
    "![SegmentLocal](./images/popd_eco_yr_bar.gif \"segment\")"
   ]
  },
  {
   "cell_type": "markdown",
   "metadata": {
    "hide_input": false
   },
   "source": [
    "## PLACEHOLDER FOR DISCUSSION OF POPULATION TRENDS. \n",
    "The central and northernmost ecosections in the study area Babine Upland, Western Chilcotin Upland, Nazko Upland, Quesnel Lowland and Nechako Lowland have the most stable populations with only slight fluctuations year to year--the lattermost fluctuating more than the others. In constrast, the southernmost neighbours, Cariboo Basin and Chilcotin Plateau, mirror year to year trends, increasing and decreasing in synchrony while sharing moderately increasing trends over the study period. The populations in Nechako Lowland, while remaining stable over the study period, fluctuate in the opposite direction from Cariboo Basin and Chilocotin Plateau with the exception of years 2012 to 2014 when all increased.\n",
    "\n"
   ]
  },
  {
   "cell_type": "code",
   "execution_count": 148,
   "metadata": {
    "hide_input": false,
    "scrolled": false
   },
   "outputs": [],
   "source": [
    "# Top 10 Species only\n",
    "sp_10 <- factor(sp_top_10$sp_id) # Unless factor original 31 levels are retained\n",
    "sp_10_yr <- df %>% \n",
    "    filter(sp_id %in% sp_10) %>%\n",
    "    group_by(eco, year_) %>% \n",
    "    summarise(pop = sum(pop)) %>% \n",
    "    left_join(., eco_area, by = \"eco\") %>% \n",
    "    mutate(density = pop/area_surveyed*100)"
   ]
  },
  {
   "cell_type": "code",
   "execution_count": 152,
   "metadata": {
    "scrolled": false
   },
   "outputs": [
    {
     "name": "stderr",
     "output_type": "stream",
     "text": [
      "`geom_smooth()` using method = 'loess' and formula 'y ~ x'\n"
     ]
    },
    {
     "data": {
      "image/png": "[encoded data removed]",
      "text/plain": [
       "plot without title"
      ]
     },
     "metadata": {},
     "output_type": "display_data"
    }
   ],
   "source": [
    "# #Plot the outcome\n",
    "h <- ggplot(sp_10_yr, aes(year_, density, colour = eco, shape = eco)) + ggtitle(\"Population Density in Ecosection by Year\", \n",
    "    subtitle = \"Top 10 Most Abundant Waterfowl Species\") + geom_point()  + colShape + \n",
    "    colColour + theme(legend.position = \"bottom\", legend.direction = \"horizontal\", \n",
    "    legend.box = \"vertical\", axis.text.x = element_text(hjust = 0.5), plot.title = element_text(hjust = 0.5), \n",
    "    plot.subtitle = element_text(hjust = 0.5)) + xlab(\"Ecosection\") + ylab(\"Total Breeding Population Density per km²\") + \n",
    "    scale_x_continuous(breaks = c(2007, 2009, 2011, 2013, 2015, 2017))\n",
    "options(repr.plot.width = 6, repr.plot.height = 4)\n",
    "h  + geom_smooth(method = \"auto\", size = 0.5, se = F)\n",
    "\n"
   ]
  },
  {
   "cell_type": "code",
   "execution_count": 160,
   "metadata": {
    "hide_input": false,
    "scrolled": false
   },
   "outputs": [
    {
     "data": {
      "text/html": [
       "'C:/Users/hashimotoy/Documents/GitHub/iws'"
      ],
      "text/latex": [
       "'C:/Users/hashimotoy/Documents/GitHub/iws'"
      ],
      "text/markdown": [
       "'C:/Users/hashimotoy/Documents/GitHub/iws'"
      ],
      "text/plain": [
       "[1] \"C:/Users/hashimotoy/Documents/GitHub/iws\""
      ]
     },
     "metadata": {},
     "output_type": "display_data"
    },
    {
     "data": {
      "text/html": [
       "<table>\n",
       "<caption>A grouped_df: 6 × 9</caption>\n",
       "<thead>\n",
       "\t<tr><th scope=col>eco</th><th scope=col>year_</th><th scope=col>sp_id</th><th scope=col>Population</th><th scope=col>total_area_ha</th><th scope=col>area_surveyed</th><th scope=col>pct_tot_area</th><th scope=col>pct_area_surveyed</th><th scope=col>density</th></tr>\n",
       "\t<tr><th scope=col>&lt;fct&gt;</th><th scope=col>&lt;int&gt;</th><th scope=col>&lt;chr&gt;</th><th scope=col>&lt;int&gt;</th><th scope=col>&lt;dbl&gt;</th><th scope=col>&lt;dbl&gt;</th><th scope=col>&lt;dbl&gt;</th><th scope=col>&lt;dbl&gt;</th><th scope=col>&lt;dbl&gt;</th></tr>\n",
       "</thead>\n",
       "<tbody>\n",
       "\t<tr><td>BAU</td><td>2007</td><td>AMWI</td><td> 14</td><td>1961719</td><td>48959.75</td><td>0.1831068</td><td>0.1848207</td><td>0.028594917</td></tr>\n",
       "\t<tr><td>BAU</td><td>2007</td><td>BAGO</td><td>104</td><td>1961719</td><td>48959.75</td><td>0.1831068</td><td>0.1848207</td><td>0.212419387</td></tr>\n",
       "\t<tr><td>BAU</td><td>2007</td><td>BUFF</td><td> 68</td><td>1961719</td><td>48959.75</td><td>0.1831068</td><td>0.1848207</td><td>0.138889599</td></tr>\n",
       "\t<tr><td>BAU</td><td>2007</td><td>BWTE</td><td>  4</td><td>1961719</td><td>48959.75</td><td>0.1831068</td><td>0.1848207</td><td>0.008169976</td></tr>\n",
       "\t<tr><td>BAU</td><td>2007</td><td>CAGO</td><td> 24</td><td>1961719</td><td>48959.75</td><td>0.1831068</td><td>0.1848207</td><td>0.049019858</td></tr>\n",
       "\t<tr><td>BAU</td><td>2007</td><td>GWTE</td><td> 52</td><td>1961719</td><td>48959.75</td><td>0.1831068</td><td>0.1848207</td><td>0.106209693</td></tr>\n",
       "</tbody>\n",
       "</table>\n"
      ],
      "text/latex": [
       "A grouped_df: 6 × 9\n",
       "\\begin{tabular}{r|lllllllll}\n",
       " eco & year\\_ & sp\\_id & Population & total\\_area\\_ha & area\\_surveyed & pct\\_tot\\_area & pct\\_area\\_surveyed & density\\\\\n",
       " <fct> & <int> & <chr> & <int> & <dbl> & <dbl> & <dbl> & <dbl> & <dbl>\\\\\n",
       "\\hline\n",
       "\t BAU & 2007 & AMWI &  14 & 1961719 & 48959.75 & 0.1831068 & 0.1848207 & 0.028594917\\\\\n",
       "\t BAU & 2007 & BAGO & 104 & 1961719 & 48959.75 & 0.1831068 & 0.1848207 & 0.212419387\\\\\n",
       "\t BAU & 2007 & BUFF &  68 & 1961719 & 48959.75 & 0.1831068 & 0.1848207 & 0.138889599\\\\\n",
       "\t BAU & 2007 & BWTE &   4 & 1961719 & 48959.75 & 0.1831068 & 0.1848207 & 0.008169976\\\\\n",
       "\t BAU & 2007 & CAGO &  24 & 1961719 & 48959.75 & 0.1831068 & 0.1848207 & 0.049019858\\\\\n",
       "\t BAU & 2007 & GWTE &  52 & 1961719 & 48959.75 & 0.1831068 & 0.1848207 & 0.106209693\\\\\n",
       "\\end{tabular}\n"
      ],
      "text/markdown": [
       "\n",
       "A grouped_df: 6 × 9\n",
       "\n",
       "| eco &lt;fct&gt; | year_ &lt;int&gt; | sp_id &lt;chr&gt; | Population &lt;int&gt; | total_area_ha &lt;dbl&gt; | area_surveyed &lt;dbl&gt; | pct_tot_area &lt;dbl&gt; | pct_area_surveyed &lt;dbl&gt; | density &lt;dbl&gt; |\n",
       "|---|---|---|---|---|---|---|---|---|\n",
       "| BAU | 2007 | AMWI |  14 | 1961719 | 48959.75 | 0.1831068 | 0.1848207 | 0.028594917 |\n",
       "| BAU | 2007 | BAGO | 104 | 1961719 | 48959.75 | 0.1831068 | 0.1848207 | 0.212419387 |\n",
       "| BAU | 2007 | BUFF |  68 | 1961719 | 48959.75 | 0.1831068 | 0.1848207 | 0.138889599 |\n",
       "| BAU | 2007 | BWTE |   4 | 1961719 | 48959.75 | 0.1831068 | 0.1848207 | 0.008169976 |\n",
       "| BAU | 2007 | CAGO |  24 | 1961719 | 48959.75 | 0.1831068 | 0.1848207 | 0.049019858 |\n",
       "| BAU | 2007 | GWTE |  52 | 1961719 | 48959.75 | 0.1831068 | 0.1848207 | 0.106209693 |\n",
       "\n"
      ],
      "text/plain": [
       "  eco year_ sp_id Population total_area_ha area_surveyed pct_tot_area\n",
       "1 BAU 2007  AMWI   14        1961719       48959.75      0.1831068   \n",
       "2 BAU 2007  BAGO  104        1961719       48959.75      0.1831068   \n",
       "3 BAU 2007  BUFF   68        1961719       48959.75      0.1831068   \n",
       "4 BAU 2007  BWTE    4        1961719       48959.75      0.1831068   \n",
       "5 BAU 2007  CAGO   24        1961719       48959.75      0.1831068   \n",
       "6 BAU 2007  GWTE   52        1961719       48959.75      0.1831068   \n",
       "  pct_area_surveyed density    \n",
       "1 0.1848207         0.028594917\n",
       "2 0.1848207         0.212419387\n",
       "3 0.1848207         0.138889599\n",
       "4 0.1848207         0.008169976\n",
       "5 0.1848207         0.049019858\n",
       "6 0.1848207         0.106209693"
      ]
     },
     "metadata": {},
     "output_type": "display_data"
    }
   ],
   "source": [
    "library(repr) # Plot sizes in Jupyter wrapper for R \n",
    "getwd()\n",
    "eco_sp_yr <- df %>%\n",
    "    filter(sp_id %in% sp_10) %>%\n",
    "    group_by(eco, year_, sp_id)%>%\n",
    "    summarise(Population = sum(pop))%>%\n",
    "    left_join(., eco_area, by = \"eco\") %>%\n",
    "    mutate(Population, density = Population/area_surveyed*100)\n",
    "head(eco_sp_yr)"
   ]
  },
  {
   "cell_type": "markdown",
   "metadata": {
    "hide_input": false
   },
   "source": [
    "Visualize and compare distributions of the top most common species"
   ]
  },
  {
   "cell_type": "code",
   "execution_count": 165,
   "metadata": {
    "hide_input": false,
    "scrolled": false
   },
   "outputs": [
    {
     "data": {
      "image/png": "[encoded data removed]",
      "text/plain": [
       "plot without title"
      ]
     },
     "metadata": {},
     "output_type": "display_data"
    },
    {
     "data": {
      "image/png": "[encoded data removed]",
      "text/plain": [
       "plot without title"
      ]
     },
     "metadata": {},
     "output_type": "display_data"
    }
   ],
   "source": [
    "bp <- ggplot(eco_sp_yr, aes(x = eco, y = density, colour = eco)) + geom_boxplot() + \n",
    "    colColour + ggtitle(label = \"Relative Population Density Distribution\", subtitle = \"Top 10 most abundant species in Study Area\") + \n",
    "    theme(legend.position = \"bottom\", legend.direction = \"horizontal\", legend.box = \"vertical\", \n",
    "        axis.text.x = element_blank(), plot.title = element_text(hjust = 0.5), plot.subtitle = element_text(hjust = 0.5, \n",
    "            size = 9)) + ylab(\"Total Breeding Population Density per km²\") + xlab(\"Ecosection\") + \n",
    "    stat_summary(fun.y = mean, geom = \"point\", shape = 5, size = 2)  # Add means\n",
    "\n",
    "options(repr.plot.width = 7, repr.plot.height = 5)\n",
    "bp + facet_wrap(. ~ sp_id, ncol = 13)\n",
    "\n",
    "# Display with dynamic scale ranges\n",
    "options(repr.plot.width = 8, repr.plot.height = 15)\n",
    "bp + facet_wrap(. ~ sp_id, ncol = 2, scales = \"free\") + geom_point(size = 0.4)"
   ]
  },
  {
   "cell_type": "code",
   "execution_count": 166,
   "metadata": {
    "hide_input": false,
    "scrolled": false
   },
   "outputs": [
    {
     "name": "stderr",
     "output_type": "stream",
     "text": [
      "`geom_smooth()` using method = 'loess' and formula 'y ~ x'\n"
     ]
    },
    {
     "data": {
      "image/png": "[encoded data removed]",
      "text/plain": [
       "plot without title"
      ]
     },
     "metadata": {},
     "output_type": "display_data"
    }
   ],
   "source": [
    "sp_yr <- ggplot(eco_sp_yr, aes(x = year_, y = density, colour = eco, shape = eco)) + \n",
    "    geom_point() + geom_smooth(size = 0.5, method = \"auto\", se = FALSE) + colShape + \n",
    "    colColour + ggtitle(label = \"Species Distributions\", subtitle = \"2007 to 2017\") + \n",
    "    theme(legend.position = \"bottom\", legend.direction = \"horizontal\", legend.box = \"vertical\", \n",
    "        plot.title = element_text(hjust = 0.5), plot.subtitle = element_text(hjust = 0.5, \n",
    "            size = 9)) + ylab(\"Total Breeding Population Density per ha\") + xlab(\"Year (2007-2017)\")\n",
    "\n",
    "# Display with dynamic scale ranges\n",
    "options(repr.plot.width = 8, repr.plot.height = 13)\n",
    "sp_yr + facet_wrap(. ~ sp_id, ncol = 2, scales = \"free\") + geom_point(size = 0.4) + \n",
    "    scale_y_continuous(breaks = c(2007, 2009, 2011, 2013, 2015, 2017))"
   ]
  },
  {
   "cell_type": "markdown",
   "metadata": {},
   "source": [
    "## PLACEHODLER FOR DISCUSSION OF SPECIES-SPECIFIC POPULATION TRENDS\n",
    "Analysing the abundance of the ten most common species suggests it is their populations driving the fluctuation of abundance. In particular Lesser Scaup (SCAU), Ring Necked Duck (RNDU), American Wigeon (AMWI) and Bufflehead (BUFF) in decreasing importance. Note the  the WBPHS does not distinguish between  Lesser and Greater Scaup species however only LESC occur in this area. The remaining species, Green-Winged Teal (GWTE), Blue-Winged Teal (BWTE), Mallard (MALL), Northern Shoveler (NOSH) and Canada Goose (CAGO), with the exception of Barrow's Goldeneye (BAGO), all reflect directionally similar year to year fluctuations. \n"
   ]
  },
  {
   "cell_type": "code",
   "execution_count": 173,
   "metadata": {
    "hide_input": false,
    "scrolled": true
   },
   "outputs": [
    {
     "name": "stdout",
     "output_type": "stream",
     "text": [
      "[1] \"Top 10 Cumulatively Most Abundant Species within each Ecosection\"\n"
     ]
    },
    {
     "data": {
      "text/html": [
       "<table>\n",
       "<caption>A data.frame: 10 × 9</caption>\n",
       "<thead>\n",
       "\t<tr><th scope=col>ranks</th><th scope=col>BAU</th><th scope=col>BUB</th><th scope=col>CAB</th><th scope=col>CHP</th><th scope=col>NAU</th><th scope=col>NEL</th><th scope=col>QUL</th><th scope=col>WCU</th></tr>\n",
       "\t<tr><th scope=col>&lt;int&gt;</th><th scope=col>&lt;fct&gt;</th><th scope=col>&lt;fct&gt;</th><th scope=col>&lt;fct&gt;</th><th scope=col>&lt;fct&gt;</th><th scope=col>&lt;fct&gt;</th><th scope=col>&lt;fct&gt;</th><th scope=col>&lt;fct&gt;</th><th scope=col>&lt;fct&gt;</th></tr>\n",
       "</thead>\n",
       "<tbody>\n",
       "\t<tr><td> 1</td><td>MALL</td><td>MALL</td><td>MALL</td><td>MALL</td><td>MALL</td><td>MALL</td><td>MALL</td><td>MALL</td></tr>\n",
       "\t<tr><td> 2</td><td>RNDU</td><td>CAGO</td><td>CAGO</td><td>GWTE</td><td>RNDU</td><td>RNDU</td><td>CAGO</td><td>GWTE</td></tr>\n",
       "\t<tr><td> 3</td><td>BAGO</td><td>RNDU</td><td>BUFF</td><td>RNDU</td><td>BUFF</td><td>BUFF</td><td>RNDU</td><td>CAGO</td></tr>\n",
       "\t<tr><td> 4</td><td>BUFF</td><td>BUFF</td><td>SCAU</td><td>BUFF</td><td>GWTE</td><td>CAGO</td><td>BUFF</td><td>RNDU</td></tr>\n",
       "\t<tr><td> 5</td><td>GWTE</td><td>GWTE</td><td>RNDU</td><td>CAGO</td><td>CAGO</td><td>GWTE</td><td>BAGO</td><td>SCAU</td></tr>\n",
       "\t<tr><td> 6</td><td>CAGO</td><td>BAGO</td><td>GWTE</td><td>SCAU</td><td>BAGO</td><td>BAGO</td><td>GWTE</td><td>BUFF</td></tr>\n",
       "\t<tr><td> 7</td><td>COME</td><td>AMWI</td><td>GADW</td><td>AMWI</td><td>AMWI</td><td>BWTE</td><td>HOME</td><td>AMWI</td></tr>\n",
       "\t<tr><td> 8</td><td>HOME</td><td>HOME</td><td>AMWI</td><td>NSHO</td><td>HOME</td><td>HOME</td><td>AMWI</td><td>BAGO</td></tr>\n",
       "\t<tr><td> 9</td><td>BWTE</td><td>COME</td><td>NSHO</td><td>BAGO</td><td>SCAU</td><td>NSHO</td><td>NSHO</td><td>NSHO</td></tr>\n",
       "\t<tr><td>10</td><td>AMWI</td><td>BWTE</td><td>BWTE</td><td>BWTE</td><td>NSHO</td><td>AMWI</td><td>SCAU</td><td>WFGO</td></tr>\n",
       "</tbody>\n",
       "</table>\n"
      ],
      "text/latex": [
       "A data.frame: 10 × 9\n",
       "\\begin{tabular}{r|lllllllll}\n",
       " ranks & BAU & BUB & CAB & CHP & NAU & NEL & QUL & WCU\\\\\n",
       " <int> & <fct> & <fct> & <fct> & <fct> & <fct> & <fct> & <fct> & <fct>\\\\\n",
       "\\hline\n",
       "\t  1 & MALL & MALL & MALL & MALL & MALL & MALL & MALL & MALL\\\\\n",
       "\t  2 & RNDU & CAGO & CAGO & GWTE & RNDU & RNDU & CAGO & GWTE\\\\\n",
       "\t  3 & BAGO & RNDU & BUFF & RNDU & BUFF & BUFF & RNDU & CAGO\\\\\n",
       "\t  4 & BUFF & BUFF & SCAU & BUFF & GWTE & CAGO & BUFF & RNDU\\\\\n",
       "\t  5 & GWTE & GWTE & RNDU & CAGO & CAGO & GWTE & BAGO & SCAU\\\\\n",
       "\t  6 & CAGO & BAGO & GWTE & SCAU & BAGO & BAGO & GWTE & BUFF\\\\\n",
       "\t  7 & COME & AMWI & GADW & AMWI & AMWI & BWTE & HOME & AMWI\\\\\n",
       "\t  8 & HOME & HOME & AMWI & NSHO & HOME & HOME & AMWI & BAGO\\\\\n",
       "\t  9 & BWTE & COME & NSHO & BAGO & SCAU & NSHO & NSHO & NSHO\\\\\n",
       "\t 10 & AMWI & BWTE & BWTE & BWTE & NSHO & AMWI & SCAU & WFGO\\\\\n",
       "\\end{tabular}\n"
      ],
      "text/markdown": [
       "\n",
       "A data.frame: 10 × 9\n",
       "\n",
       "| ranks &lt;int&gt; | BAU &lt;fct&gt; | BUB &lt;fct&gt; | CAB &lt;fct&gt; | CHP &lt;fct&gt; | NAU &lt;fct&gt; | NEL &lt;fct&gt; | QUL &lt;fct&gt; | WCU &lt;fct&gt; |\n",
       "|---|---|---|---|---|---|---|---|---|\n",
       "|  1 | MALL | MALL | MALL | MALL | MALL | MALL | MALL | MALL |\n",
       "|  2 | RNDU | CAGO | CAGO | GWTE | RNDU | RNDU | CAGO | GWTE |\n",
       "|  3 | BAGO | RNDU | BUFF | RNDU | BUFF | BUFF | RNDU | CAGO |\n",
       "|  4 | BUFF | BUFF | SCAU | BUFF | GWTE | CAGO | BUFF | RNDU |\n",
       "|  5 | GWTE | GWTE | RNDU | CAGO | CAGO | GWTE | BAGO | SCAU |\n",
       "|  6 | CAGO | BAGO | GWTE | SCAU | BAGO | BAGO | GWTE | BUFF |\n",
       "|  7 | COME | AMWI | GADW | AMWI | AMWI | BWTE | HOME | AMWI |\n",
       "|  8 | HOME | HOME | AMWI | NSHO | HOME | HOME | AMWI | BAGO |\n",
       "|  9 | BWTE | COME | NSHO | BAGO | SCAU | NSHO | NSHO | NSHO |\n",
       "| 10 | AMWI | BWTE | BWTE | BWTE | NSHO | AMWI | SCAU | WFGO |\n",
       "\n"
      ],
      "text/plain": [
       "   ranks BAU  BUB  CAB  CHP  NAU  NEL  QUL  WCU \n",
       "1   1    MALL MALL MALL MALL MALL MALL MALL MALL\n",
       "2   2    RNDU CAGO CAGO GWTE RNDU RNDU CAGO GWTE\n",
       "3   3    BAGO RNDU BUFF RNDU BUFF BUFF RNDU CAGO\n",
       "4   4    BUFF BUFF SCAU BUFF GWTE CAGO BUFF RNDU\n",
       "5   5    GWTE GWTE RNDU CAGO CAGO GWTE BAGO SCAU\n",
       "6   6    CAGO BAGO GWTE SCAU BAGO BAGO GWTE BUFF\n",
       "7   7    COME AMWI GADW AMWI AMWI BWTE HOME AMWI\n",
       "8   8    HOME HOME AMWI NSHO HOME HOME AMWI BAGO\n",
       "9   9    BWTE COME NSHO BAGO SCAU NSHO NSHO NSHO\n",
       "10 10    AMWI BWTE BWTE BWTE NSHO AMWI SCAU WFGO"
      ]
     },
     "metadata": {},
     "output_type": "display_data"
    }
   ],
   "source": [
    "library(knitr)\n",
    "\n",
    "# Get the top 10 most common species in each ecosection\n",
    "# sp_id contains species guilds as well as single species\n",
    "sp_long <- iws_wide[,1:grep(\"wodu\", colnames(iws_wide))] %>%\n",
    "    gather(sp_id, pop, amwi:wodu) %>%\n",
    "    group_by(eco, sp_id)%>%\n",
    "    summarise(pop=sum(pop))%>%\n",
    "    group_by(eco)%>%\n",
    "    mutate(ranks = dense_rank(desc(pop)))%>%\n",
    "    filter(ranks<=10)%>%\n",
    "    dplyr::select(-c(pop))%>%\n",
    "    spread(eco, sp_id) %>%\n",
    "    group_by(ranks)\n",
    "\n",
    "print(\"Top 10 Cumulatively Most Abundant Species within each Ecosection\")\n",
    "# function to convert lowercase to upper\n",
    "sp_long <- data.frame(lapply(sp_long, function(v) {\n",
    "  if (is.character(v)) return(toupper(v))\n",
    "  else return(v)\n",
    "}))\n",
    "sp_long"
   ]
  },
  {
   "cell_type": "code",
   "execution_count": null,
   "metadata": {
    "hide_input": true,
    "scrolled": false
   },
   "outputs": [],
   "source": [
    "# Animation of facet_grid scatterplot - too dizzying really.\n",
    "\n",
    "g <- ggplot(eco_sp_yr, (aes(x = eco ,y = density, size = density, colour=eco))) +\n",
    "    ggtitle(\"Population Density in Ecosection by Year\") +\n",
    "      geom_point() + colColour + theme(legend.position=\"bottom\",legend.direction = \"horizontal\", legend.box=\"vertical\", \n",
    "                                  axis.text.x = element_blank(), \n",
    "                                    plot.title = element_text(hjust = 0.5),\n",
    "                                    plot.subtitle = element_text(hjust=0.5, size=17))+ \n",
    "       xlab(\"Ecosection\") + ylab(\"Total Breeding Population Density per ha\")\n",
    "\n",
    "\n",
    "g + facet_wrap(. ~ toupper(sp_id), ncol=3) + transition_time(year_) + labs(subtitle = '{frame_time}')"
   ]
  },
  {
   "cell_type": "markdown",
   "metadata": {},
   "source": [
    "## Evaluation of Modelling Approaches and Data Inputs\n",
    "\n",
    "Points of consideration for the modelling framework, data inputs, and their interactions\n",
    "\n",
    "#### Data Properties\n",
    "* Accuracy and uncertainty\n",
    "* Data acquisition and availability\n",
    "* Logical consistency and timeliness\n",
    "* Scale, extent and resolution \n",
    "* Direct vs Indirect \n",
    "* Mechanisitic vs correlated \n",
    "* Ecological and physiological\n",
    "\n",
    "####  Model Properties\n",
    "* Predictive vs Explanatory (Random Forest and Regression-based approaches)\n",
    "* Intepretation - scale of analyses and applications\n",
    "\n",
    "<img src=\"./images/modeling_guisan.png\" alt=\"Drawing\"/>\n"
   ]
  },
  {
   "cell_type": "markdown",
   "metadata": {
    "hide_input": true
   },
   "source": [
    "## Waterfowl Survey Observation data\n",
    "##### Weaknesses\n",
    "* Positional uncertainty of observation data\n",
    "* Inconsistency of survey methods - technological change\n",
    "* Survey conditions (climate and weather-dependent, pilot experience)\n",
    "* Relative coverage - 400m wide strip transects spaced 10 miles apart (~2.5% study area)\n",
    "* Inconsistent with methods of North American Breeding Waterfowl Habitat and Population Survey (1955-present)\n",
    "\n",
    "##### Strengths\n",
    "* Consistent and highly experienced observers \n",
    "* Continuous, annual basis since 2006 \n",
    "* Large database ~ 30,000+ \n",
    "* Large extent ~ 10,000,000+ ha (~40,000+ sq miles)\n"
   ]
  },
  {
   "cell_type": "markdown",
   "metadata": {},
   "source": [
    "<img src=\"./images/overview_observations.png\" alt=\"Drawing\" style=\"width: 400px;\"/>"
   ]
  },
  {
   "cell_type": "markdown",
   "metadata": {},
   "source": [
    "## Explanatory Predictor Candidates\n",
    "#### Climate\n",
    "* Growing Degree Days - Primary Productivity\n",
    "* Precipitation as Snow - Hydrology is driven by snowpack \n",
    "* Spring Temperature - Timing of freshet\n",
    "* Heat Moisture Index - (MAT+10)/(MAP/1000) \n",
    "\n",
    "#### Landscape\n",
    "* Topography - aspect, slope, elevation\n",
    "* Landcover - readily available interpreted data product (CEC 2010)\n",
    "* Disturbance - roads atlas, fire database, Mountain Pine Beetle \n",
    "* Wetland habitat - lakes, rivers, wetlands\n",
    "    * smaller wetlands <10 ha ≈ increased productivity\n",
    "    * data creation driven by forestry industry\n",
    "    \n",
    "#### Land management\n",
    "* Agricultural Land Reserve\n",
    "* Protected Areas\n",
    "* Tenure\n",
    "\n",
    "<sub>See 'data_dictionary.xlsx'</sub>"
   ]
  },
  {
   "cell_type": "markdown",
   "metadata": {},
   "source": [
    "## PLACEHOLDER PREDICTOR SURFACES "
   ]
  },
  {
   "cell_type": "code",
   "execution_count": null,
   "metadata": {},
   "outputs": [],
   "source": [
    "## PLACEHOLDER FOR DISCUSSION OF PREDICTORS "
   ]
  },
  {
   "cell_type": "markdown",
   "metadata": {},
   "source": [
    "## Random Forest - Overview of steps\n",
    "1. Random forest approach selected for predictive power\n",
    "2. Tool selection\n",
    "    * 'cforest' party package - conditional inference trees\n",
    "    * 'randomForest' - favours continuous variables and variables with many categories\n",
    "    * 'Forest-based Classification and Regression' ArcGIS Pro v2.2+\n",
    "3. Variable selection\n",
    "4. Data processing\n",
    "5. Model evaluation\n",
    "     * Model stability\n",
    "     * Model accuracy\n",
    "6. Refine Model and repeat #5 Model evaluation\n",
    "\n",
    "<a href=https://core.ac.uk/download/pdf/12170130.pdf><div style=\"text-align: right\"> <font size = -1>Strobl et al, 2009</font> </div></a>  "
   ]
  },
  {
   "cell_type": "markdown",
   "metadata": {},
   "source": [
    "![image](./images/random_forest_diagram_complete_vankar_jaganath_cc.png) \n",
    "<div style=\"text-align: right\"> <sub> cc Vankar Jaganath <sub> </div>"
   ]
  },
  {
   "cell_type": "markdown",
   "metadata": {},
   "source": [
    "### Variable Selection \n",
    "##### Ecological considerations and issues\n",
    "* Climate normals vs mean vs timeliness - response lag\n",
    "* Species breeding philopatry\n",
    "* Density-dependence and interspecific competition\n",
    "* Wintering conditions\n",
    "##### Addressing correlation, collinearity and variance inflation\n",
    "* High degree of correlation in climate and ecology \n",
    "* Imbalanced classes of predictor variables\n",
    "* Spatial variability\n",
    "* *Scale\n",
    "\n"
   ]
  },
  {
   "cell_type": "markdown",
   "metadata": {},
   "source": [
    "#### Example collinearity - Climate\n",
    "* Correlation thresholds:\n",
    "    * < 0.7 (Green, 1979) \n",
    "    * < 0.8 (Menard, 2002)\n",
    "* Multicollinearity - correlation between 3+ variables even when pair-wise correlation is absent\n",
    "    * VIF threshold < 5  \n",
    "    * critical threshold 5-10 (Guisan et al, 2017)\n"
   ]
  },
  {
   "cell_type": "code",
   "execution_count": null,
   "metadata": {
    "hide_input": false,
    "scrolled": false
   },
   "outputs": [],
   "source": [
    "## Address Correlations, Multicollinearity and VIF\n",
    "Packages <- c('Hmisc', 'corrplot', 'car')\n",
    "lapply(Packages, require, character.only=TRUE)\n",
    "iws_wide <- read.csv(\"id1_400_years.csv\")\n",
    "# Example climate variable selection\n",
    "# pairwise correlations with 'rcorr'\n",
    "clim_var <- iws_wide[,grep(\"mean_ahm\", colnames(iws_wide)):grep(\"mean_shm\", colnames(iws_wide))]\n",
    "# Set plot size\n",
    "options(repr.plot.width=8, repr.plot.height=8)\n",
    "#Check correlations\n",
    "corr <- rcorr(as.matrix(clim_var))\n",
    "corrplot(corr$r, method='ellipse', number.cex= 10/ncol(df))\n"
   ]
  },
  {
   "cell_type": "markdown",
   "metadata": {},
   "source": [
    "Filter candidates identifying key drivers: snowpack, growing degree days (DD5), moisture index"
   ]
  },
  {
   "cell_type": "code",
   "execution_count": null,
   "metadata": {
    "scrolled": false
   },
   "outputs": [],
   "source": [
    "library(dplyr)\n",
    "# Subset\n",
    "# grep(\"mean_shm\", colnames(iws_wide))\n",
    "# grep(\"mean_pas_wt\", colnames(iws_wide))\n",
    "# grep(\"mean_dd5\", colnames(iws_wide))\n",
    "\n",
    "clim_var_1 <- iws_wide[,c(76, 77, 67)]\n",
    "\n",
    "# Set plot size\n",
    "options(repr.plot.width=8, repr.plot.height=5)\n",
    "\n",
    "# Check correlations\n",
    "# Set plot size\n",
    "corr <- rcorr(as.matrix(clim_var_1))\n",
    "corrplot(corr$r, method='number', number.cex= 10/ncol(df))\n",
    "str(clim_var_1)\n"
   ]
  },
  {
   "cell_type": "markdown",
   "metadata": {},
   "source": [
    "#### Correlation and multicollinearity of the candidate long-lists\n",
    "![image](./images/corr_clim_ellipse.png)\n",
    "![image](./images/corr_landscape_ellipse.png)\n",
    "![image](./images/vif_eco_incl_needleleaf.png)"
   ]
  },
  {
   "cell_type": "markdown",
   "metadata": {},
   "source": [
    "## PLACEHOLDER FOR CANDIDATE VARIABLES"
   ]
  },
  {
   "cell_type": "code",
   "execution_count": null,
   "metadata": {
    "scrolled": false
   },
   "outputs": [],
   "source": [
    "# Assess multicollinearity\n",
    "library(usdm)\n",
    "\n",
    "v <- vif(clim_var_1)\n",
    "vm <- v$VIF\n",
    "names(vm) <- v$Variables\n",
    "str(vm)\n",
    "dotchart(vm[order(vm)], cex = 0.6, pch = 19,\n",
    "         gcolor = \"#999999\",\n",
    "         xlab = \"varImp\")"
   ]
  },
  {
   "cell_type": "markdown",
   "metadata": {},
   "source": [
    "##  PLACEHOLDER cforest model run example"
   ]
  },
  {
   "cell_type": "markdown",
   "metadata": {},
   "source": [
    "### Random Forest Model Evaluation\n",
    "cforest_unbiased\n",
    "    * can handle correlated predictors \n",
    "    * computationally intensive \n",
    "    * preliminary model runs without filtering correlated variables ~ 240+ hours\n",
    "##### Model Stability - Variable Important Measures (varimp)\n",
    "* Subset data into training, validate and test subsets (70, 30, 30%)\n",
    "* Run models with different seeds\n",
    "* Compare ranks of varimp ('SuperRanker') \n",
    "* Evaluate \n",
    "\n",
    "![image](./images/varimp_multi.png)\n"
   ]
  },
  {
   "cell_type": "markdown",
   "metadata": {},
   "source": [
    "<sub>Toggle cell below for model evalution code - note raw data not included in notebook<sub>"
   ]
  },
  {
   "cell_type": "code",
   "execution_count": null,
   "metadata": {
    "hide_input": false,
    "scrolled": false
   },
   "outputs": [],
   "source": [
    "# Sequential rank agreement methods for comparison of ranked lists\n",
    "# https://github.com/tagteam/SuperRanker\n",
    "\n",
    "fgcRequire <- function(pkg) {\n",
    "  if(pkg %in% rownames(installed.packages()) == FALSE) {\n",
    "    install.packages(pkg)\n",
    "  }\n",
    "}\n",
    "\n",
    "fgcRequire(\"devtools\")\n",
    "library(devtools)\n",
    "\n",
    "install_github('TagTeam/SuperRanker')\n",
    "library(SuperRanker)  # For the SuperRanker package\n",
    "wd <- \"../eco_CAB/\"\n",
    "wdA <- paste0(wd,\"results-seed-47\")\n",
    "wdB <- paste0(wd,\"results-seed-742938\")\n",
    "wdC <- paste0(wd,\"results-seed-42\")\n",
    "              \n",
    "af <- list.files(wdA, \"*.csv$\")\n",
    "bf <- list.files(wdB, \"*.csv$\")\n",
    "cf <- list.files(wdB, \"*.csv$\")\n",
    "\n",
    "if (length(intersect(af,bf)) != length(bf)) { \n",
    "  print(\"unpaired input sets\")\n",
    "  return()\n",
    "}\n",
    "\n",
    "f <-  af[1] # DEBUG\n",
    "\n",
    "err <- as.data.frame(sapply(af, \n",
    "#tErr <- sapply(af, \n",
    "function(f) {\n",
    "  setwd(wdA)\n",
    "  a <- read.csv(f)\n",
    "  sa <- order(a$vi, decreasing = TRUE)\n",
    "  \n",
    "  setwd(wdB)\n",
    "  b <- read.csv(f)\n",
    "  sb <- order(b$vi, decreasing = TRUE)\n",
    "  \n",
    "  setwd(wdC)\n",
    "  c <- read.csv(f)\n",
    "  sc <- order(b$vi, decreasing = TRUE)\n",
    "  \n",
    "\n",
    "  i <- cbind(sa,sb,sc)\n",
    "  mlist <- matrix(i,ncol=3)\n",
    "  #rank <- overlap(mlist)\n",
    "  rank <- smooth_sra(mlist)\n",
    "  \n",
    "  print(paste(\"Result:\", f))\n",
    "  #print(rank)\n",
    "  #print(rank)\n",
    "  ul <- cbind(rank$lower,rank$upper)\n",
    "  \n",
    "  #r <- ul[1,] # DEBUG\n",
    "  e <- apply(ul, 1, function(r) {\n",
    "    return(abs(r[1] - r[2]))\n",
    "  })\n",
    "  \n",
    "  print(paste(\"Error:\"))\n",
    "  print(e)\n",
    "  \n",
    "  m <- mean(e)\n",
    "  return(c(m,e))\n",
    "})\n",
    ")\n"
   ]
  },
  {
   "cell_type": "markdown",
   "metadata": {},
   "source": [
    "## PLACEHOLDER Refined model after assessing VARIMP filtering "
   ]
  },
  {
   "cell_type": "markdown",
   "metadata": {},
   "source": [
    "## PLACEHOLDER Accuracy Assessment"
   ]
  },
  {
   "cell_type": "markdown",
   "metadata": {},
   "source": [
    "## PLACEHOLDER Model Predictions\n",
    "\n",
    "![image](.images/cab_layout_MALL.png)\n",
    "![image](./images/cab_layout_BAGO.png)\n",
    "![image](./images/cab_layout_LESC.png)"
   ]
  },
  {
   "cell_type": "markdown",
   "metadata": {},
   "source": [
    "## Regression-based  - Overview of steps\n",
    "1. Generalized Linear Mixed Models approach\n",
    "    * Allows for variable response distributions - Poisson, Gamma, etc\n",
    "    * Zero-inflation (16ha spatial and yearly scale ~ 92% records recorded 0)\n",
    "    * Fixed and random effects\n",
    "    * Flexible, efficient\n",
    "2. Tool selection\n",
    "    * R packages: lme4, glmmTMB\n",
    "3. Variable selection \n",
    "    * Identified in Random Forest modeling - but collinearity MUST be addressed\n",
    "4. Data processing\n",
    "    * Identify response distribution \n",
    "    * Standardization \n",
    "5. Model evaluation\n",
    "     * Model stability\n",
    "     * Model accuracy\n",
    "6. Refine Model\n",
    "    * Assess model performance (see Points to Consider #1 below)\n",
    "  \n"
   ]
  },
  {
   "cell_type": "markdown",
   "metadata": {},
   "source": [
    "## PLACEHOLDER FREQUENCY DISTRIBUTION PLOTS OF COUNTS WITHIN 16HA GRID CELL"
   ]
  },
  {
   "cell_type": "markdown",
   "metadata": {},
   "source": [
    "## Tools and technologies\n",
    "\n",
    "* Jupyter notebook - computational notebook \n",
    "* tidyverse - family of R packages sharing a common syntax (dplyr, ggplot2, purr, tidyr, etc) \n",
    "* rpy2 - interface to R from within Python - switch between R and Python with R magics \n",
    "* R-ArcGIS Bridge - interface ArcGIS and R (R v 3.2.2+, Python Script Toolbox\n",
    "* R-markdown\n",
    "* Python Toolbox -  "
   ]
  },
  {
   "cell_type": "markdown",
   "metadata": {},
   "source": [
    "# QUESTIONS/POINTS TO CONSIDER\n",
    "1. Assessing model performance - train, validate, test - can be supplanted with resampling procedures:\n",
    "    1. assess with resubstitution run model results against the training dataset \n",
    "        * goodness of fit, but no assessment of predictive ability against independent data\n",
    "        * assess normality of residuals\n",
    "        * assess fit of distributions (e.g. Komogorov-Smirnov)\n",
    "    2. assess by randomization (permutation)\n",
    "        * randomize the training data through resampling without substitution of the response or predictor variables\n",
    "        * fit new model with the randomized dataset and repeat ~1000x then assess the probability the model measures (e.g. response/coefficient or model fit) could occur purely by chance out of all the runs (permutation-based p-values)***THIS IS WHAT THE PERMUTATION IMPORTANCE MEASURE does in cforest's 'varimp' function which assesses the correlation of the model predictions made with the 'train' set and the predictions of the model with one of the variables permuted (randomized)\n",
    "\n",
    "2. Should I explore objective/automated predictor selection methods?\n",
    "\n"
   ]
  }
 ],
 "metadata": {
  "celltoolbar": "Raw Cell Format",
  "kernelspec": {
   "display_name": "R",
   "language": "R",
   "name": "ir"
  },
  "language_info": {
   "codemirror_mode": "r",
   "file_extension": ".r",
   "mimetype": "text/x-r-source",
   "name": "R",
   "pygments_lexer": "r",
   "version": "3.5.1"
  }
 },
 "nbformat": 4,
 "nbformat_minor": 2
}
